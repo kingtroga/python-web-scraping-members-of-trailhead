{
 "cells": [
  {
   "cell_type": "code",
   "execution_count": 1,
   "metadata": {},
   "outputs": [],
   "source": [
    "import requests\n",
    "from bs4 import BeautifulSoup\n",
    "import re"
   ]
  },
  {
   "cell_type": "code",
   "execution_count": 21,
   "metadata": {},
   "outputs": [],
   "source": [
    "headers = {\n",
    "    'User-Agent':'Mozilla/5.0 (iPhone; CPU iPhone OS 7_1_2 like Mac OS X) AppleWebKit/537.51.2 (KHTML, like Gecko) Version/7.0 Mobile/11D257 Safari/9537.53',\n",
    "    'Accept':'text/html,application/xhtml+xml,application/xml;q=0.9,image/avif,image/webp,image/apng,*/*;q=0.8,application/signed-exchange;v=b3;q=0.9',\n",
    "    'Accept-Encoding': 'gzip, deflate, br',\n",
    "    'Cookie': '2cf55324-04d2-49eb-bba6-6d35f1d2339f'\n",
    "    }\n",
    "\n",
    "\n",
    "response = requests.get('https://trailhead.salesforce.com/trailblazer-community/groups/0F9300000001sX6CAI?sort=LAST_MODIFIED_DATE_DESC&tab=members', headers=headers)\n",
    "response.raise_for_status()"
   ]
  },
  {
   "cell_type": "code",
   "execution_count": 22,
   "metadata": {},
   "outputs": [],
   "source": [
    "bs = BeautifulSoup(response.text, 'html.parser')"
   ]
  },
  {
   "cell_type": "code",
   "execution_count": 23,
   "metadata": {},
   "outputs": [
    {
     "data": {
      "text/plain": [
       "[]"
      ]
     },
     "execution_count": 23,
     "metadata": {},
     "output_type": "execute_result"
    }
   ],
   "source": [
    "bs.find_all('a', {'href':re.compile('[https://trailblazers.salesforce.com/profileView]')})"
   ]
  },
  {
   "cell_type": "code",
   "execution_count": 25,
   "metadata": {},
   "outputs": [
    {
     "data": {
      "text/plain": [
       "'\\n\\n\\n\\n\\n\\n\\n\\n\\n\\n\\n\\n\\n\\n\\n\\n\\n\\n\\n\\n\\n\\n\\n\\n\\n\\n\\n\\n\\n\\n\\n\\n\\n\\n\\n\\n\\n\\n\\n\\n\\n\\n\\n\\n\\n\\n\\n\\n\\n\\n\\n\\n\\n\\n\\n\\nGroup Detail | Salesforce Trailblazer Community\\n\\n\\n\\n\\n\\n\\n\\n\\n\\n\\n\\n\\n\\n\\n\\n\\n\\n\\n\\n\\n\\n\\n\\n\\n\\n\\n\\n\\n\\n\\n\\n\\n\\n\\n\\n\\n\\n\\n\\n\\n\\n\\n\\n'"
      ]
     },
     "execution_count": 25,
     "metadata": {},
     "output_type": "execute_result"
    }
   ],
   "source": [
    "bs.get_text()"
   ]
  },
  {
   "cell_type": "code",
   "execution_count": 2,
   "metadata": {},
   "outputs": [],
   "source": [
    "from selenium import webdriver\n",
    "from selenium.webdriver.chrome.service import Service\n",
    "from webdriver_manager.chrome import ChromeDriverManager\n",
    "from selenium.webdriver.common.by import By\n",
    "\n",
    "driver = webdriver.Chrome(service=Service(ChromeDriverManager().install()))\n",
    "driver.get(\"https://trailhead.salesforce.com/trailblazer-community/groups/0F9300000001sX6CAI?sort=LAST_MODIFIED_DATE_DESC&tab=members\")\n",
    "bs = BeautifulSoup(driver.page_source, 'html.parser')"
   ]
  },
  {
   "cell_type": "code",
   "execution_count": null,
   "metadata": {},
   "outputs": [],
   "source": [
    "bs.find_all('a', {'href':re.compile('^[https://trailblazers.salesforce.com/profileView?]')})"
   ]
  },
  {
   "cell_type": "code",
   "execution_count": 32,
   "metadata": {},
   "outputs": [
    {
     "name": "stdout",
     "output_type": "stream",
     "text": [
      "66\n",
      "56\n"
     ]
    }
   ],
   "source": [
    "print(len(bs.find_all('a')))\n",
    "print(len(bs.find_all('a', {'href': re.compile('https://trailblazers.salesforce.com/profileView?')})))"
   ]
  },
  {
   "cell_type": "code",
   "execution_count": null,
   "metadata": {},
   "outputs": [],
   "source": [
    "bs.find_all('a', {'href': re.compile('https://trailblazers.salesforce.com/profileView?')})"
   ]
  },
  {
   "cell_type": "code",
   "execution_count": 264,
   "metadata": {},
   "outputs": [
    {
     "data": {
      "text/plain": [
       "<selenium.webdriver.chrome.webdriver.WebDriver (session=\"1ae37cf17367db46c21717934640c50f\")>"
      ]
     },
     "execution_count": 264,
     "metadata": {},
     "output_type": "execute_result"
    }
   ],
   "source": [
    "driver"
   ]
  },
  {
   "cell_type": "code",
   "execution_count": 265,
   "metadata": {},
   "outputs": [],
   "source": [
    "bs = BeautifulSoup(driver.page_source, 'html.parser')"
   ]
  },
  {
   "cell_type": "code",
   "execution_count": 266,
   "metadata": {},
   "outputs": [
    {
     "data": {
      "text/plain": [
       "41684"
      ]
     },
     "execution_count": 266,
     "metadata": {},
     "output_type": "execute_result"
    }
   ],
   "source": [
    "len(bs.find_all('a', {'href': re.compile('https://trailblazers.salesforce.com/profileView?')}))"
   ]
  },
  {
   "cell_type": "code",
   "execution_count": 267,
   "metadata": {},
   "outputs": [],
   "source": [
    "for person in bs.find_all('a', {'href': re.compile('https://trailblazers.salesforce.com/profileView?')}):\n",
    "    if persons.get(person):\n",
    "        continue\n",
    "    persons[person] = f\"{person['href']}\""
   ]
  },
  {
   "cell_type": "code",
   "execution_count": 3,
   "metadata": {},
   "outputs": [
    {
     "ename": "NameError",
     "evalue": "name 'persons' is not defined",
     "output_type": "error",
     "traceback": [
      "\u001b[1;31m---------------------------------------------------------------------------\u001b[0m",
      "\u001b[1;31mNameError\u001b[0m                                 Traceback (most recent call last)",
      "\u001b[1;32mc:\\Users\\TARI\\Documents\\GitHub\\python-web-scraping-members-of-trailhead\\main.ipynb Cell 14'\u001b[0m in \u001b[0;36m<cell line: 1>\u001b[1;34m()\u001b[0m\n\u001b[1;32m----> <a href='vscode-notebook-cell:/c%3A/Users/TARI/Documents/GitHub/python-web-scraping-members-of-trailhead/main.ipynb#ch0000013?line=0'>1</a>\u001b[0m \u001b[39mlen\u001b[39m(persons)\n",
      "\u001b[1;31mNameError\u001b[0m: name 'persons' is not defined"
     ]
    }
   ],
   "source": [
    "len(persons)"
   ]
  },
  {
   "cell_type": "code",
   "execution_count": null,
   "metadata": {},
   "outputs": [],
   "source": [
    "personsList = list(persons.keys())"
   ]
  },
  {
   "cell_type": "code",
   "execution_count": 270,
   "metadata": {},
   "outputs": [],
   "source": [
    "data = {\n",
    "    'persons': personsList\n",
    "}"
   ]
  },
  {
   "cell_type": "code",
   "execution_count": 5,
   "metadata": {},
   "outputs": [
    {
     "ename": "NameError",
     "evalue": "name 'data' is not defined",
     "output_type": "error",
     "traceback": [
      "\u001b[1;31m---------------------------------------------------------------------------\u001b[0m",
      "\u001b[1;31mNameError\u001b[0m                                 Traceback (most recent call last)",
      "\u001b[1;32mc:\\Users\\TARI\\Documents\\GitHub\\python-web-scraping-members-of-trailhead\\main.ipynb Cell 17'\u001b[0m in \u001b[0;36m<cell line: 2>\u001b[1;34m()\u001b[0m\n\u001b[0;32m      <a href='vscode-notebook-cell:/c%3A/Users/TARI/Documents/GitHub/python-web-scraping-members-of-trailhead/main.ipynb#ch0000016?line=0'>1</a>\u001b[0m \u001b[39mimport\u001b[39;00m \u001b[39mpandas\u001b[39;00m \u001b[39mas\u001b[39;00m \u001b[39mpd\u001b[39;00m\n\u001b[1;32m----> <a href='vscode-notebook-cell:/c%3A/Users/TARI/Documents/GitHub/python-web-scraping-members-of-trailhead/main.ipynb#ch0000016?line=1'>2</a>\u001b[0m df \u001b[39m=\u001b[39m pd\u001b[39m.\u001b[39mDataFrame(data)\n",
      "\u001b[1;31mNameError\u001b[0m: name 'data' is not defined"
     ]
    }
   ],
   "source": [
    "import pandas as pd\n",
    "df = pd.DataFrame(data)"
   ]
  },
  {
   "cell_type": "code",
   "execution_count": 275,
   "metadata": {},
   "outputs": [],
   "source": [
    "df.to_csv('output.csv', index=False)"
   ]
  },
  {
   "cell_type": "code",
   "execution_count": 6,
   "metadata": {},
   "outputs": [],
   "source": [
    "df2 = pd.read_csv('output.csv')"
   ]
  },
  {
   "cell_type": "code",
   "execution_count": 277,
   "metadata": {},
   "outputs": [
    {
     "name": "stdout",
     "output_type": "stream",
     "text": [
      "<class 'pandas.core.frame.DataFrame'>\n",
      "RangeIndex: 41684 entries, 0 to 41683\n",
      "Data columns (total 1 columns):\n",
      " #   Column   Non-Null Count  Dtype \n",
      "---  ------   --------------  ----- \n",
      " 0   persons  41684 non-null  object\n",
      "dtypes: object(1)\n",
      "memory usage: 325.8+ KB\n"
     ]
    }
   ],
   "source": [
    "df2.info()"
   ]
  },
  {
   "cell_type": "code",
   "execution_count": 279,
   "metadata": {},
   "outputs": [
    {
     "data": {
      "text/html": [
       "<div>\n",
       "<style scoped>\n",
       "    .dataframe tbody tr th:only-of-type {\n",
       "        vertical-align: middle;\n",
       "    }\n",
       "\n",
       "    .dataframe tbody tr th {\n",
       "        vertical-align: top;\n",
       "    }\n",
       "\n",
       "    .dataframe thead th {\n",
       "        text-align: right;\n",
       "    }\n",
       "</style>\n",
       "<table border=\"1\" class=\"dataframe\">\n",
       "  <thead>\n",
       "    <tr style=\"text-align: right;\">\n",
       "      <th></th>\n",
       "      <th>persons</th>\n",
       "    </tr>\n",
       "  </thead>\n",
       "  <tbody>\n",
       "    <tr>\n",
       "      <th>0</th>\n",
       "      <td>&lt;a aria-hidden=\"true\" href=\"https://trailblaze...</td>\n",
       "    </tr>\n",
       "    <tr>\n",
       "      <th>1</th>\n",
       "      <td>&lt;a href=\"https://trailblazers.salesforce.com/p...</td>\n",
       "    </tr>\n",
       "    <tr>\n",
       "      <th>2</th>\n",
       "      <td>&lt;a aria-hidden=\"true\" href=\"https://trailblaze...</td>\n",
       "    </tr>\n",
       "    <tr>\n",
       "      <th>3</th>\n",
       "      <td>&lt;a href=\"https://trailblazers.salesforce.com/p...</td>\n",
       "    </tr>\n",
       "    <tr>\n",
       "      <th>4</th>\n",
       "      <td>&lt;a aria-hidden=\"true\" href=\"https://trailblaze...</td>\n",
       "    </tr>\n",
       "    <tr>\n",
       "      <th>...</th>\n",
       "      <td>...</td>\n",
       "    </tr>\n",
       "    <tr>\n",
       "      <th>41679</th>\n",
       "      <td>&lt;a href=\"https://trailblazers.salesforce.com/p...</td>\n",
       "    </tr>\n",
       "    <tr>\n",
       "      <th>41680</th>\n",
       "      <td>&lt;a aria-hidden=\"true\" href=\"https://trailblaze...</td>\n",
       "    </tr>\n",
       "    <tr>\n",
       "      <th>41681</th>\n",
       "      <td>&lt;a href=\"https://trailblazers.salesforce.com/p...</td>\n",
       "    </tr>\n",
       "    <tr>\n",
       "      <th>41682</th>\n",
       "      <td>&lt;a aria-hidden=\"true\" href=\"https://trailblaze...</td>\n",
       "    </tr>\n",
       "    <tr>\n",
       "      <th>41683</th>\n",
       "      <td>&lt;a href=\"https://trailblazers.salesforce.com/p...</td>\n",
       "    </tr>\n",
       "  </tbody>\n",
       "</table>\n",
       "<p>41684 rows × 1 columns</p>\n",
       "</div>"
      ],
      "text/plain": [
       "                                                 persons\n",
       "0      <a aria-hidden=\"true\" href=\"https://trailblaze...\n",
       "1      <a href=\"https://trailblazers.salesforce.com/p...\n",
       "2      <a aria-hidden=\"true\" href=\"https://trailblaze...\n",
       "3      <a href=\"https://trailblazers.salesforce.com/p...\n",
       "4      <a aria-hidden=\"true\" href=\"https://trailblaze...\n",
       "...                                                  ...\n",
       "41679  <a href=\"https://trailblazers.salesforce.com/p...\n",
       "41680  <a aria-hidden=\"true\" href=\"https://trailblaze...\n",
       "41681  <a href=\"https://trailblazers.salesforce.com/p...\n",
       "41682  <a aria-hidden=\"true\" href=\"https://trailblaze...\n",
       "41683  <a href=\"https://trailblazers.salesforce.com/p...\n",
       "\n",
       "[41684 rows x 1 columns]"
      ]
     },
     "execution_count": 279,
     "metadata": {},
     "output_type": "execute_result"
    }
   ],
   "source": [
    "df2"
   ]
  },
  {
   "cell_type": "code",
   "execution_count": 280,
   "metadata": {},
   "outputs": [],
   "source": [
    "driver.close()"
   ]
  },
  {
   "cell_type": "markdown",
   "metadata": {},
   "source": [
    "https://trailblazers.salesforce.com/profileView?u=0053A00000CMtaQQAT\n",
    "https://trailblazers.salesforce.com/profileView?u=00530000004Nkp6AAC"
   ]
  },
  {
   "cell_type": "code",
   "execution_count": 8,
   "metadata": {},
   "outputs": [],
   "source": [
    "people = []"
   ]
  },
  {
   "cell_type": "code",
   "execution_count": 9,
   "metadata": {},
   "outputs": [],
   "source": [
    "for person in df2['persons']:\n",
    "    bs = BeautifulSoup(person, 'html.parser')\n",
    "    if person not in people:\n",
    "        people.append(bs.find('a')['href'])"
   ]
  },
  {
   "cell_type": "code",
   "execution_count": 10,
   "metadata": {},
   "outputs": [
    {
     "data": {
      "text/plain": [
       "41684"
      ]
     },
     "execution_count": 10,
     "metadata": {},
     "output_type": "execute_result"
    }
   ],
   "source": [
    "len(people)"
   ]
  },
  {
   "cell_type": "code",
   "execution_count": 11,
   "metadata": {},
   "outputs": [],
   "source": [
    "peopleSet = set(people)"
   ]
  },
  {
   "cell_type": "code",
   "execution_count": 12,
   "metadata": {},
   "outputs": [
    {
     "data": {
      "text/plain": [
       "20842"
      ]
     },
     "execution_count": 12,
     "metadata": {},
     "output_type": "execute_result"
    }
   ],
   "source": [
    "len(peopleSet)"
   ]
  },
  {
   "cell_type": "code",
   "execution_count": 13,
   "metadata": {},
   "outputs": [
    {
     "name": "stdout",
     "output_type": "stream",
     "text": [
      "https://trailblazers.salesforce.com/profileView?u=0053000000AJhTmAAL\n",
      "https://trailblazers.salesforce.com/profileView?u=0053A00000CNAe5QAH\n",
      "https://trailblazers.salesforce.com/profileView?u=0053000000AL4PJAA1\n",
      "https://trailblazers.salesforce.com/profileView?u=0053000000B2D3ZAAV\n",
      "https://trailblazers.salesforce.com/profileView?u=00530000009bCGGAA2\n",
      "https://trailblazers.salesforce.com/profileView?u=005300000022x6vAAA\n",
      "https://trailblazers.salesforce.com/profileView?u=0053A00000CNa74QAD\n",
      "https://trailblazers.salesforce.com/profileView?u=0053000000ALTTCAA5\n",
      "https://trailblazers.salesforce.com/profileView?u=0053000000ALCDwAAP\n",
      "https://trailblazers.salesforce.com/profileView?u=0053000000AzlwnAAB\n"
     ]
    }
   ],
   "source": [
    "for person in list(peopleSet)[:10]:\n",
    "    print(person)"
   ]
  },
  {
   "cell_type": "code",
   "execution_count": 77,
   "metadata": {},
   "outputs": [],
   "source": [
    "response = requests.get('https://trailblazers.salesforce.com/profileView?u=0053000000AJhTmAAL')"
   ]
  },
  {
   "cell_type": "code",
   "execution_count": 286,
   "metadata": {},
   "outputs": [],
   "source": [
    "response.raise_for_status()"
   ]
  },
  {
   "cell_type": "code",
   "execution_count": 105,
   "metadata": {},
   "outputs": [
    {
     "data": {
      "text/plain": [
       "'\\r\\n<!DOCTYPE HTML PUBLIC \"-//W3C//DTD HTML 4.01 Transitional//EN\" \"http://www.w3.org/TR/html4/loose.dtd\">\\n<html>\\n<head>\\n    <meta HTTP-EQUIV=\"PRAGMA\" CONTENT=\"NO-CACHE\">\\n\\n\\n\\n\\n\\n<script>\\nfunction redirectOnLoad() {\\nif (this.SfdcApp && this.SfdcApp.projectOneNavigator) { SfdcApp.projectOneNavigator.handleRedirect(\\'https://trailblazer.me/id/muffy\\'); }  else \\nif (window.location.replace){ \\nwindow.location.replace(\\'https://trailblazer.me/id/muffy\\');\\n} else {\\nwindow.location.href =\\'https://trailblazer.me/id/muffy\\';\\n} \\n} \\nredirectOnLoad();\\n</script>\\n\\n</head>\\n\\n\\n</html>\\n\\n'"
      ]
     },
     "execution_count": 105,
     "metadata": {},
     "output_type": "execute_result"
    }
   ],
   "source": [
    "response.text"
   ]
  },
  {
   "cell_type": "code",
   "execution_count": 14,
   "metadata": {},
   "outputs": [
    {
     "name": "stderr",
     "output_type": "stream",
     "text": [
      "C:\\Users\\TARI\\AppData\\Local\\Temp\\ipykernel_35752\\2897496932.py:3: DeprecationWarning: use options instead of chrome_options\n",
      "  driver = webdriver.Chrome(service=Service(ChromeDriverManager().install()), chrome_options=options)\n"
     ]
    }
   ],
   "source": [
    "from selenium.webdriver.chrome.options import Options\n",
    "options = Options()\n",
    "driver = webdriver.Chrome(service=Service(ChromeDriverManager().install()), chrome_options=options)"
   ]
  },
  {
   "cell_type": "code",
   "execution_count": 300,
   "metadata": {},
   "outputs": [],
   "source": [
    "url = list(peopleSet)[13]"
   ]
  },
  {
   "cell_type": "code",
   "execution_count": 301,
   "metadata": {},
   "outputs": [],
   "source": [
    "driver.get(url)"
   ]
  },
  {
   "cell_type": "code",
   "execution_count": 302,
   "metadata": {},
   "outputs": [],
   "source": [
    "bs = BeautifulSoup(driver.page_source, 'html.parser')"
   ]
  },
  {
   "cell_type": "code",
   "execution_count": 303,
   "metadata": {},
   "outputs": [],
   "source": [
    "driver.implicitly_wait(20)"
   ]
  },
  {
   "cell_type": "code",
   "execution_count": 310,
   "metadata": {},
   "outputs": [
    {
     "name": "stdout",
     "output_type": "stream",
     "text": [
      "['Cyril LOUIS', 'CEO at Mavericx.ch | Salesforce MVP & Salesforce Platform Champion at Mavericx.ch', 'Geneva, CH User Group Leader', 'Trailblazer Profile']\n",
      "('Cyril', 'NIL', 'LOUIS')\n",
      "('CEO, Salesforce MVP & Salesforce Platform Champion', 'Mavericx.ch, Mavericx.ch')\n",
      "Switzerland\n"
     ]
    }
   ],
   "source": [
    "print(bs.head.title.text.split(sep=\" - \"))\n",
    "\n",
    "print(getPersonName(bs))\n",
    "print(getPersonTitleCompany(bs))\n",
    "print(getPersonLocation(bs))\n"
   ]
  },
  {
   "cell_type": "code",
   "execution_count": 297,
   "metadata": {},
   "outputs": [],
   "source": [
    "def getPersonName(bs):\n",
    "    initialData = bs.head.title.text.split(sep=\" - \")[0]\n",
    "    name = initialData.split(sep=' ')\n",
    "\n",
    "    firstName = ''\n",
    "    lastName = ''\n",
    "    middleName = ''\n",
    "\n",
    "    if len(name) == 3:\n",
    "        firstName = name[0]\n",
    "        middleName = name[1]\n",
    "        lastName = name[2]\n",
    "        \n",
    "        \n",
    "    elif len(name) == 2:\n",
    "        firstName = name[0]\n",
    "        middleName= 'NIL'\n",
    "        lastName= name[1]\n",
    "        \n",
    "    return firstName, middleName, lastName\n",
    "\n",
    "    "
   ]
  },
  {
   "cell_type": "code",
   "execution_count": 271,
   "metadata": {},
   "outputs": [
    {
     "name": "stdout",
     "output_type": "stream",
     "text": [
      "['Cyril LOUIS', 'CEO at Mavericx.ch | Salesforce MVP & Salesforce Platform Champion at Mavericx.ch', 'Geneva, CH User Group Leader', 'Trailblazer Profile']\n"
     ]
    }
   ],
   "source": [
    "print(bs.head.title.text.split(sep=\" - \"))"
   ]
  },
  {
   "cell_type": "code",
   "execution_count": 295,
   "metadata": {},
   "outputs": [],
   "source": [
    "def getPersonTitleCompany(bs):\n",
    "    initialData = bs.head.title.text.split(sep=\" - \")\n",
    "    initialDataCount = len(initialData)\n",
    "\n",
    "    title = ''\n",
    "    company = ''\n",
    "\n",
    "    if atExists(initialData):\n",
    "        title, company = getTitleCompanyWithAt(initialData)\n",
    "        \n",
    "\n",
    "    if onlyCompany(initialData):\n",
    "        title, company = getOnlyCompany(initialData)\n",
    "\n",
    "    if initialDataCount == 4:\n",
    "        if title == '':\n",
    "            title = initialData[1]\n",
    "            company = initialData[2]\n",
    "\n",
    "    if initialDataCount == 2:\n",
    "        title = 'NIL'\n",
    "        company = 'NIL'\n",
    "    \n",
    "    \n",
    "    return title,company\n",
    "            \n",
    "\n",
    "def atExists(initialData):\n",
    "    if ' at ' in initialData[1]:\n",
    "        return True\n",
    "    return False\n",
    "\n",
    "def getTitleCompanyWithAt(initialData):\n",
    "    atCount = initialData[1].count(' at ')\n",
    "\n",
    "    if atCount < 2:\n",
    "        listOfTitleCompany = initialData[1].split(sep=' at ')\n",
    "        title = listOfTitleCompany[0]\n",
    "        company = listOfTitleCompany[1]\n",
    "\n",
    "    if atCount == 2:\n",
    "        listOfTitleCompany = initialData[1].split(sep=' | ')\n",
    "\n",
    "        firstTitleCompanyList = listOfTitleCompany[0].split(' at ')\n",
    "        firstTitle = firstTitleCompanyList[0]\n",
    "        firstCompany = firstTitleCompanyList[1]\n",
    "\n",
    "        secondTitleCompanyList = listOfTitleCompany[1].split(' at ')\n",
    "        secondTitle = secondTitleCompanyList[0]\n",
    "        secondCompany = secondTitleCompanyList[1]\n",
    "\n",
    "        title = f'{firstTitle}, {secondTitle}'\n",
    "        company = f'{firstCompany}, {secondCompany}'\n",
    "\n",
    "    return title, company\n",
    "\n",
    "def onlyCompany(initialData):\n",
    "    if len(initialData[1].split()) == 1 and initialData[1].count('.') == 0:\n",
    "        return True\n",
    "    return False\n",
    "\n",
    "def getOnlyCompany(initialData):\n",
    "    title = 'NIL'\n",
    "    company = initialData[1]\n",
    "    return title, company\n",
    "    "
   ]
  },
  {
   "cell_type": "code",
   "execution_count": 299,
   "metadata": {},
   "outputs": [
    {
     "name": "stdout",
     "output_type": "stream",
     "text": [
      "0 0\n"
     ]
    }
   ],
   "source": [
    "print(\n",
    "    len(bs.find_all('div', {'class': 'slds-truncate'})),\n",
    "    len(bs.find_all('div', {'class': 'tds-text_bold tds-text-size_4 tds-font-size_bold slds-show_inline-block'}))\n",
    "    )"
   ]
  },
  {
   "cell_type": "code",
   "execution_count": 309,
   "metadata": {},
   "outputs": [],
   "source": [
    "def getPersonLocation(bs):\n",
    "    state = ''\n",
    "    country = ''\n",
    "    for i in range(0, len(bs.find_all('div', {'class': 'tds-text_bold tds-text-size_4 tds-font-size_bold slds-show_inline-block'}))):\n",
    "        counter = bs.find_all('div', {'class': 'tds-text_bold tds-text-size_4 tds-font-size_bold slds-show_inline-block'})[i].get_text()\n",
    "\n",
    "        if counter == 'Country/Region':\n",
    "            country = bs.find_all('div', {'class': 'slds-truncate'})[i].get_text()\n",
    "        if counter == 'State':\n",
    "            state = bs.find_all('div', {'class': 'slds-truncate'})[i].get_text()\n",
    "\n",
    "    if state != '' and country !='':\n",
    "        return f\"{state}, {country}\"\n",
    "\n",
    "    if state == '' and country !='':\n",
    "        return f'{country}'\n",
    "\n",
    "    if state != '' and country == '':\n",
    "        return f'{state}'\n"
   ]
  },
  {
   "cell_type": "code",
   "execution_count": 306,
   "metadata": {},
   "outputs": [
    {
     "name": "stdout",
     "output_type": "stream",
     "text": [
      "Pronoun\n",
      "Company\n",
      "Company Website\n",
      "Role\n",
      "Company Size\n",
      "Country/Region\n",
      "Relationship to Salesforce\n"
     ]
    }
   ],
   "source": [
    "for i in range(0, len(bs.find_all('div', {'class': 'tds-text_bold tds-text-size_4 tds-font-size_bold slds-show_inline-block'}))):\n",
    "    print(bs.find_all('div', {'class': 'tds-text_bold tds-text-size_4 tds-font-size_bold slds-show_inline-block'})[i].get_text())"
   ]
  },
  {
   "cell_type": "markdown",
   "metadata": {},
   "source": []
  },
  {
   "cell_type": "markdown",
   "metadata": {},
   "source": []
  },
  {
   "cell_type": "code",
   "execution_count": null,
   "metadata": {},
   "outputs": [],
   "source": [
    "def getPersonLocation"
   ]
  },
  {
   "cell_type": "code",
   "execution_count": 266,
   "metadata": {},
   "outputs": [
    {
     "name": "stdout",
     "output_type": "stream",
     "text": [
      "['Cyril LOUIS', 'CEO at Mavericx.ch | Salesforce MVP & Salesforce Platform Champion at Mavericx.ch', 'Geneva, CH User Group Leader', 'Trailblazer Profile']\n",
      "1\n",
      "1\n",
      "1\n",
      "1\n",
      "1\n",
      "1\n",
      "1\n"
     ]
    }
   ],
   "source": [
    "print(bs.head.title.text.split(sep=\" - \")) #Name #Title #Company\n",
    "initialData = bs.head.title.text.split(sep=\" - \")\n",
    "\n",
    "\n",
    "firstName, middleName, lastName = getPersonName(bs)\n",
    "firstNames.append(firstName)\n",
    "middleNames.append(middleName)\n",
    "lastNames.append(lastName)\n",
    "\n",
    "\n",
    "if ' at ' in initialData[1]:\n",
    "    count = initialData[1].count(' at ')\n",
    "    if count < 2:\n",
    "        title = initialData[1].split(sep=' at ')\n",
    "        titles.append(title[0])\n",
    "        companys.append(title[1])\n",
    "    else:\n",
    "        title = initialData[1].split(sep=' | ')\n",
    "        manyTitle1 = title[0].split(' at ')\n",
    "        manyTitleA = manyTitle1[0]\n",
    "        manyCompanyA = manyTitle1[1]\n",
    "        manyTitle2 =  title[1].split(' at ')\n",
    "        manyTitleB = manyTitle2[0]\n",
    "        manyCompanyB = manyTitle2[1]\n",
    "        title = f'{manyTitleA}, {manyTitleB}'\n",
    "        company = f'{manyCompanyA}, {manyCompanyB}'\n",
    "        titles.append(title)\n",
    "        companys.append(company)\n",
    "\n",
    "if len(initialData[1].split()) == 1 and initialData[1].count('.') == 0:\n",
    "    titles.append('NIL')\n",
    "    companys.append(initialData[1])\n",
    "\n",
    "if len(initialData) == 4 and titles == []:\n",
    "    titles.append(initialData[1])\n",
    "    companys.append(initialData[2])\n",
    "\n",
    "\n",
    "        \n",
    "\n",
    "#location\n",
    "state = bs.find_all('div', {'class': 'slds-truncate'})[1].get_text() #state\n",
    "country = bs.find_all('div', {'class': 'slds-truncate'})[3].get_text()\n",
    "location = f\"{state}, {country}\"\n",
    "locations.append(location)\n",
    "\n",
    "# role\n",
    "role = bs.find_all('div', {'class': 'slds-truncate'})[2].get_text()\n",
    "roles.append(role)\n",
    "\n",
    "bs.find_all('div', {'class': 'slds-truncate'})[4].get_text() #0 - company\n",
    "# 1 - state,  3- Country, Region\n",
    "# 2 - Role\n",
    "print(len(firstNames))\n",
    "print(len(middleNames))\n",
    "print(len(lastNames))\n",
    "print(len(titles))\n",
    "print(len(companys))\n",
    "print(len(locations))\n",
    "print(len(roles))\n"
   ]
  },
  {
   "cell_type": "code",
   "execution_count": 267,
   "metadata": {},
   "outputs": [
    {
     "data": {
      "text/html": [
       "<div>\n",
       "<style scoped>\n",
       "    .dataframe tbody tr th:only-of-type {\n",
       "        vertical-align: middle;\n",
       "    }\n",
       "\n",
       "    .dataframe tbody tr th {\n",
       "        vertical-align: top;\n",
       "    }\n",
       "\n",
       "    .dataframe thead th {\n",
       "        text-align: right;\n",
       "    }\n",
       "</style>\n",
       "<table border=\"1\" class=\"dataframe\">\n",
       "  <thead>\n",
       "    <tr style=\"text-align: right;\">\n",
       "      <th></th>\n",
       "      <th>firstName</th>\n",
       "      <th>middleName</th>\n",
       "      <th>lastName</th>\n",
       "      <th>title</th>\n",
       "      <th>company</th>\n",
       "      <th>location</th>\n",
       "      <th>role</th>\n",
       "    </tr>\n",
       "  </thead>\n",
       "  <tbody>\n",
       "    <tr>\n",
       "      <th>0</th>\n",
       "      <td>Cyril</td>\n",
       "      <td>NIL</td>\n",
       "      <td>LOUIS</td>\n",
       "      <td>CEO, Salesforce MVP &amp; Salesforce Platform Cham...</td>\n",
       "      <td>Mavericx.ch, Mavericx.ch</td>\n",
       "      <td>Mavericx.ch - Geneva, CH User Group Leader, Ex...</td>\n",
       "      <td>https://www.mavericx.ch</td>\n",
       "    </tr>\n",
       "  </tbody>\n",
       "</table>\n",
       "</div>"
      ],
      "text/plain": [
       "  firstName middleName lastName  \\\n",
       "0     Cyril        NIL    LOUIS   \n",
       "\n",
       "                                               title  \\\n",
       "0  CEO, Salesforce MVP & Salesforce Platform Cham...   \n",
       "\n",
       "                    company  \\\n",
       "0  Mavericx.ch, Mavericx.ch   \n",
       "\n",
       "                                            location                     role  \n",
       "0  Mavericx.ch - Geneva, CH User Group Leader, Ex...  https://www.mavericx.ch  "
      ]
     },
     "execution_count": 267,
     "metadata": {},
     "output_type": "execute_result"
    }
   ],
   "source": [
    "data = {\n",
    "    'firstName': firstNames,\n",
    "    'middleName': middleNames,\n",
    "    'lastName': lastNames,\n",
    "    'title': titles,\n",
    "    'company':companys,\n",
    "    'location':locations,\n",
    "    'role': roles\n",
    "}\n",
    "df = pd.DataFrame(data)\n",
    "df"
   ]
  },
  {
   "cell_type": "code",
   "execution_count": 237,
   "metadata": {},
   "outputs": [
    {
     "data": {
      "text/plain": [
       "'Partner'"
      ]
     },
     "execution_count": 237,
     "metadata": {},
     "output_type": "execute_result"
    }
   ],
   "source": [
    "# social link #bs.find_all('a', {'class':'tds-button-social'})\n",
    "bs.find_all('a', {'class':'tds-button-social'})[1]['href']\n",
    "\n",
    "len(bs.find_all('div', {'class': 'slds-truncate'})) # length == 7 # 0- pronouns # 1 -company\n",
    "#2 -company website #3 - role #4 -company size #5 - contry/Region #6 - relationship with salesfore\n",
    "bs.find_all('div', {'class': 'slds-truncate'})[6].get_text()"
   ]
  },
  {
   "cell_type": "code",
   "execution_count": 239,
   "metadata": {},
   "outputs": [
    {
     "data": {
      "text/plain": [
       "7"
      ]
     },
     "execution_count": 239,
     "metadata": {},
     "output_type": "execute_result"
    }
   ],
   "source": [
    "len(bs.find_all('div', {'class': 'tds-text_bold tds-text-size_4 tds-font-size_bold slds-show_inline-block'}))"
   ]
  },
  {
   "cell_type": "code",
   "execution_count": 265,
   "metadata": {},
   "outputs": [],
   "source": [
    "firstNames = []\n",
    "middleNames = []\n",
    "lastNames = []\n",
    "titles = []\n",
    "companys = []\n",
    "locations = []\n",
    "roles = []"
   ]
  },
  {
   "cell_type": "code",
   "execution_count": 160,
   "metadata": {},
   "outputs": [
    {
     "name": "stdout",
     "output_type": "stream",
     "text": [
      "0 ['Muffy Pease', 'Sr. Mgr. Solution Engineers', 'Summit Payers at salesforce', 'Trailblazer Profile']\n",
      "1 ['Patrick Thomas', 'Trailblazer Profile']\n",
      "2 ['Chris Shaad', 'Trailblazer Profile']\n",
      "3 ['Greg Enderle', 'Boston Scientific', 'Trailblazer Profile']\n",
      "4 ['Jennifer Gaynor', 'Sr. Database Coordinator at PolicyLink', 'Trailblazer Profile']\n",
      "5 ['Dai Negishi', 'VP at Salesforce', 'Trailblazer Profile']\n",
      "6 ['Chirag Mehta', 'Director, Product Management at Salesforce', 'Trailblazer Profile']\n",
      "7 ['Willie Joco', 'n/a', 'Trailblazer Profile']\n",
      "8 ['Kishore Sasidharan', 'Salesforce.com', 'Trailblazer Profile']\n",
      "9 ['Tracey Leathers', 'Event Coordinator at S&P Consultants, Inc.', 'Trailblazer Profile']\n",
      "10 ['Sudheen Koyyalummal', 'Software Engineering Architect at salesforce com inc', 'Trailblazer Profile']\n",
      "11 ['Pranay Tewari', 'AVP Sales at Persistent Systems', 'Trailblazer Profile']\n",
      "12 ['Shash Goyal', 'Salesforce', 'Trailblazer Profile']\n",
      "13 ['Cyril LOUIS', 'CEO at Mavericx.ch | Salesforce MVP & Salesforce Platform Champion at Mavericx.ch', 'Geneva, CH User Group Leader', 'Trailblazer Profile']\n",
      "14 ['Peter DeMichele', 'Senior Marketing Technology Manager at GOJO', 'Trailblazer Profile']\n",
      "15 ['Katherine (Kui) Cheng', 'Salesforce', 'Trailblazer Profile']\n",
      "16 ['Suzanne Menard', 'Sr Director Trialhead Events at Salesforce', 'Trailblazer Profile']\n",
      "17 ['Michael Moyes', 'Berklee College Of Music', 'Trailblazer Profile']\n",
      "18 ['Dmitry Ostroukhov', 'Lead ITAM Specialist at Salesforce', 'Trailblazer Profile']\n",
      "19 ['Phillip Black', 'Director Software Engineering at Hilton', 'Trailblazer Profile']\n"
     ]
    }
   ],
   "source": [
    "for i in range(0,len(list(peopleSet)[:20])):\n",
    "    driver.get(list(peopleSet)[i])\n",
    "    bs = BeautifulSoup(driver.page_source, 'html.parser')\n",
    "    print(i, bs.head.title.text.split(sep=\" - \"))"
   ]
  },
  {
   "cell_type": "code",
   "execution_count": 159,
   "metadata": {},
   "outputs": [
    {
     "data": {
      "text/plain": [
       "3"
      ]
     },
     "execution_count": 159,
     "metadata": {},
     "output_type": "execute_result"
    }
   ],
   "source": [
    "a = \"mango mango mango\"\n",
    "a.count('mango')"
   ]
  },
  {
   "cell_type": "code",
   "execution_count": 411,
   "metadata": {},
   "outputs": [],
   "source": [
    "y = z[7].find_all('div')[4].find_all('div')[0].find_all('div')[8].get_text()"
   ]
  },
  {
   "cell_type": "code",
   "execution_count": 431,
   "metadata": {},
   "outputs": [
    {
     "data": {
      "text/plain": [
       "'Rajasthan'"
      ]
     },
     "execution_count": 431,
     "metadata": {},
     "output_type": "execute_result"
    }
   ],
   "source": [
    "y[4].find_all('div')[0].find_all('div')[8].get_text()"
   ]
  },
  {
   "cell_type": "code",
   "execution_count": 500,
   "metadata": {},
   "outputs": [
    {
     "data": {
      "text/plain": [
       "''"
      ]
     },
     "execution_count": 500,
     "metadata": {},
     "output_type": "execute_result"
    }
   ],
   "source": [
    "bs.find_all('div')[53].get_text()"
   ]
  },
  {
   "cell_type": "code",
   "execution_count": 81,
   "metadata": {},
   "outputs": [],
   "source": [
    "bs = BeautifulSoup(driver.page_source, 'html.parser')"
   ]
  },
  {
   "cell_type": "code",
   "execution_count": 155,
   "metadata": {},
   "outputs": [],
   "source": [
    "with open('text2.html', 'w', encoding='utf-8') as f:\n",
    "    f.write(str(bs))"
   ]
  },
  {
   "cell_type": "code",
   "execution_count": 183,
   "metadata": {},
   "outputs": [
    {
     "data": {
      "text/plain": [
       "'Partner'"
      ]
     },
     "execution_count": 183,
     "metadata": {},
     "output_type": "execute_result"
    }
   ],
   "source": [
    "bs.find_all('div', {'class': 'slds-truncate'})[6].get_text() #0 - company\n",
    "# 1 - state,  3- Country, Region\n",
    "# 2 - Role"
   ]
  },
  {
   "cell_type": "code",
   "execution_count": 99,
   "metadata": {},
   "outputs": [],
   "source": [
    "element = driver.find_element(By.ID, 'aura-directive-id-3')"
   ]
  },
  {
   "cell_type": "code",
   "execution_count": 102,
   "metadata": {},
   "outputs": [
    {
     "data": {
      "text/plain": [
       "[]"
      ]
     },
     "execution_count": 102,
     "metadata": {},
     "output_type": "execute_result"
    }
   ],
   "source": [
    "element.find_elements(By.TAG_NAME, 'button')"
   ]
  },
  {
   "cell_type": "code",
   "execution_count": null,
   "metadata": {},
   "outputs": [],
   "source": []
  }
 ],
 "metadata": {
  "interpreter": {
   "hash": "369f2c481f4da34e4445cda3fffd2e751bd1c4d706f27375911949ba6bb62e1c"
  },
  "kernelspec": {
   "display_name": "Python 3.10.4 64-bit",
   "language": "python",
   "name": "python3"
  },
  "language_info": {
   "codemirror_mode": {
    "name": "ipython",
    "version": 3
   },
   "file_extension": ".py",
   "mimetype": "text/x-python",
   "name": "python",
   "nbconvert_exporter": "python",
   "pygments_lexer": "ipython3",
   "version": "3.10.4"
  },
  "orig_nbformat": 4
 },
 "nbformat": 4,
 "nbformat_minor": 2
}
