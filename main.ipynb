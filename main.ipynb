{
 "cells": [
  {
   "cell_type": "code",
   "execution_count": 4,
   "metadata": {},
   "outputs": [],
   "source": [
    "import requests\n",
    "from bs4 import BeautifulSoup\n",
    "import re"
   ]
  },
  {
   "cell_type": "code",
   "execution_count": 21,
   "metadata": {},
   "outputs": [],
   "source": [
    "headers = {\n",
    "    'User-Agent':'Mozilla/5.0 (iPhone; CPU iPhone OS 7_1_2 like Mac OS X) AppleWebKit/537.51.2 (KHTML, like Gecko) Version/7.0 Mobile/11D257 Safari/9537.53',\n",
    "    'Accept':'text/html,application/xhtml+xml,application/xml;q=0.9,image/avif,image/webp,image/apng,*/*;q=0.8,application/signed-exchange;v=b3;q=0.9',\n",
    "    'Accept-Encoding': 'gzip, deflate, br',\n",
    "    'Cookie': '2cf55324-04d2-49eb-bba6-6d35f1d2339f'\n",
    "    }\n",
    "\n",
    "\n",
    "response = requests.get('https://trailhead.salesforce.com/trailblazer-community/groups/0F9300000001sX6CAI?sort=LAST_MODIFIED_DATE_DESC&tab=members', headers=headers)\n",
    "response.raise_for_status()"
   ]
  },
  {
   "cell_type": "code",
   "execution_count": 22,
   "metadata": {},
   "outputs": [],
   "source": [
    "bs = BeautifulSoup(response.text, 'html.parser')"
   ]
  },
  {
   "cell_type": "code",
   "execution_count": 23,
   "metadata": {},
   "outputs": [
    {
     "data": {
      "text/plain": [
       "[]"
      ]
     },
     "execution_count": 23,
     "metadata": {},
     "output_type": "execute_result"
    }
   ],
   "source": [
    "bs.find_all('a', {'href':re.compile('[https://trailblazers.salesforce.com/profileView]')})"
   ]
  },
  {
   "cell_type": "code",
   "execution_count": 25,
   "metadata": {},
   "outputs": [
    {
     "data": {
      "text/plain": [
       "'\\n\\n\\n\\n\\n\\n\\n\\n\\n\\n\\n\\n\\n\\n\\n\\n\\n\\n\\n\\n\\n\\n\\n\\n\\n\\n\\n\\n\\n\\n\\n\\n\\n\\n\\n\\n\\n\\n\\n\\n\\n\\n\\n\\n\\n\\n\\n\\n\\n\\n\\n\\n\\n\\n\\n\\nGroup Detail | Salesforce Trailblazer Community\\n\\n\\n\\n\\n\\n\\n\\n\\n\\n\\n\\n\\n\\n\\n\\n\\n\\n\\n\\n\\n\\n\\n\\n\\n\\n\\n\\n\\n\\n\\n\\n\\n\\n\\n\\n\\n\\n\\n\\n\\n\\n\\n\\n'"
      ]
     },
     "execution_count": 25,
     "metadata": {},
     "output_type": "execute_result"
    }
   ],
   "source": [
    "bs.get_text()"
   ]
  },
  {
   "cell_type": "code",
   "execution_count": 26,
   "metadata": {},
   "outputs": [],
   "source": [
    "from selenium import webdriver\n",
    "from selenium.webdriver.chrome.service import Service\n",
    "from webdriver_manager.chrome import ChromeDriverManager\n",
    "from selenium.webdriver.common.by import By\n",
    "\n",
    "driver = webdriver.Chrome(service=Service(ChromeDriverManager().install()))\n",
    "driver.get(\"https://trailhead.salesforce.com/trailblazer-community/groups/0F9300000001sX6CAI?sort=LAST_MODIFIED_DATE_DESC&tab=members\")\n",
    "bs = BeautifulSoup(driver.page_source, 'html.parser')"
   ]
  },
  {
   "cell_type": "code",
   "execution_count": 30,
   "metadata": {},
   "outputs": [
    {
     "data": {
      "text/plain": [
       "[<a href=\"https://trailhead.salesforce.com/trailblazer-community/groups\" lightning-breadcrumb_breadcrumb=\"\">Groups</a>,\n",
       " <a href=\"http://Dreamforce.com\" rel=\"noopener noreferrer\" target=\"_blank\">Dreamforce.com</a>,\n",
       " <a aria-hidden=\"true\" href=\"https://trailblazers.salesforce.com/profileView?u=0053A00000DXnWHQA1\" slot=\"figure\" tabindex=\"-1\" tbc-actoritem_actoritem=\"\"><tbc-avatar tbc-actoritem_actoritem=\"\" tbc-avatar_avatar-host=\"\"><tbc-tds-avatar tbc-avatar_avatar=\"\" tds-avatar_avatar-host=\"\"><div tds-avatar_avatar=\"\"><div class=\"avatar avatar--large avatar--user avatar--circle\" tds-avatar_avatar=\"\"><img alt=\"\" class=\"avatar__image\" src=\"https://trailblazers.salesforce.com/ncsphoto/AGHmNbGCib7JEKNZsgq6Nqbyx3y3hVmWlSb4qk9O-0QKfNUapkOI65VDh1_FWdBs5LvxTLtLdCMja4tSPeE2WQ%3D%3D\" tds-avatar_avatar=\"\"/></div></div></tbc-tds-avatar></tbc-avatar></a>,\n",
       " <a href=\"https://trailblazers.salesforce.com/profileView?u=0053A00000DXnWHQA1\" rel=\"noopener\" target=\"_blank\" tbc-actoritem_actoritem=\"\">Danielle Kerendian</a>,\n",
       " <a aria-hidden=\"true\" href=\"https://trailblazers.salesforce.com/profileView?u=0053000000BeeVLAAZ\" slot=\"figure\" tabindex=\"-1\" tbc-actoritem_actoritem=\"\"><tbc-avatar tbc-actoritem_actoritem=\"\" tbc-avatar_avatar-host=\"\"><tbc-tds-avatar tbc-avatar_avatar=\"\" tds-avatar_avatar-host=\"\"><div tds-avatar_avatar=\"\"><div class=\"avatar avatar--large avatar--user avatar--circle\" tds-avatar_avatar=\"\"><img alt=\"\" class=\"avatar__image\" src=\"https://trailblazers.salesforce.com/ncsphoto/AGHmNbGCib7JEKNZsgq6NpggzTLtl85NCHfoaR21TrW4fkZMG1YVajb4CWCVDLmCAex7UyfKX8yWNzxiBlwE1A%3D%3D\" tds-avatar_avatar=\"\"/></div></div></tbc-tds-avatar></tbc-avatar></a>,\n",
       " <a href=\"https://trailblazers.salesforce.com/profileView?u=0053000000BeeVLAAZ\" rel=\"noopener\" target=\"_blank\" tbc-actoritem_actoritem=\"\">Drew Reed</a>,\n",
       " <a aria-hidden=\"true\" href=\"https://trailblazers.salesforce.com/profileView?u=00530000003ahudAAA\" slot=\"figure\" tabindex=\"-1\" tbc-actoritem_actoritem=\"\"><tbc-avatar tbc-actoritem_actoritem=\"\" tbc-avatar_avatar-host=\"\"><tbc-tds-avatar tbc-avatar_avatar=\"\" tds-avatar_avatar-host=\"\"><div tds-avatar_avatar=\"\"><div class=\"avatar avatar--large avatar--user avatar--circle\" tds-avatar_avatar=\"\"><img alt=\"\" class=\"avatar__image\" src=\"https://trailblazers.salesforce.com/ncsphoto/AGHmNbGCib7JEKNZsgq6NtiErmQfmAt3TKXnOmlDn74Gv2bGsa1Ogh5ralshPZl7XTyXoiLV4Pf3Scu3f70ztw%3D%3D\" tds-avatar_avatar=\"\"/></div></div></tbc-tds-avatar></tbc-avatar></a>,\n",
       " <a href=\"https://trailblazers.salesforce.com/profileView?u=00530000003ahudAAA\" rel=\"noopener\" target=\"_blank\" tbc-actoritem_actoritem=\"\">Elizabeth Davidson</a>,\n",
       " <a aria-hidden=\"true\" href=\"https://trailblazers.salesforce.com/profileView?u=00530000008BnStAAK\" slot=\"figure\" tabindex=\"-1\" tbc-actoritem_actoritem=\"\"><tbc-avatar tbc-actoritem_actoritem=\"\" tbc-avatar_avatar-host=\"\"><tbc-tds-avatar tbc-avatar_avatar=\"\" tds-avatar_avatar-host=\"\"><div tds-avatar_avatar=\"\"><div class=\"avatar avatar--large avatar--user avatar--circle\" tds-avatar_avatar=\"\"><img alt=\"\" class=\"avatar__image\" src=\"https://trailblazers.salesforce.com/ncsphoto/AGHmNbGCib7JEKNZsgq6Nm1JBTJ_LxeKlGpf_Ohls_WY-K84An26odi44HDxzogYt5AMux0hmvRKQeTt27Ewaw%3D%3D\" tds-avatar_avatar=\"\"/></div></div></tbc-tds-avatar></tbc-avatar></a>,\n",
       " <a href=\"https://trailblazers.salesforce.com/profileView?u=00530000008BnStAAK\" rel=\"noopener\" target=\"_blank\" tbc-actoritem_actoritem=\"\">Eric Dreshfield</a>,\n",
       " <a aria-hidden=\"true\" href=\"https://trailblazers.salesforce.com/profileView?u=0053A00000DLeIlQAL\" slot=\"figure\" tabindex=\"-1\" tbc-actoritem_actoritem=\"\"><tbc-avatar tbc-actoritem_actoritem=\"\" tbc-avatar_avatar-host=\"\"><tbc-tds-avatar tbc-avatar_avatar=\"\" tds-avatar_avatar-host=\"\"><div tds-avatar_avatar=\"\"><div class=\"avatar avatar--large avatar--user avatar--circle\" tds-avatar_avatar=\"\"><img alt=\"\" class=\"avatar__image\" src=\"https://trailblazers.salesforce.com/ncsphoto/AGHmNbGCib7JEKNZsgq6NtcV2CecemJHbd6CtBaOnDFbSul7dQPrXcT1CufUyidUssWMUi6FyYVyZsEm8JjojQ%3D%3D\" tds-avatar_avatar=\"\"/></div></div></tbc-tds-avatar></tbc-avatar></a>,\n",
       " <a href=\"https://trailblazers.salesforce.com/profileView?u=0053A00000DLeIlQAL\" rel=\"noopener\" target=\"_blank\" tbc-actoritem_actoritem=\"\">Kate Toporski</a>,\n",
       " <a aria-hidden=\"true\" href=\"https://trailblazers.salesforce.com/profileView?u=0053000000A8tI2AAJ\" slot=\"figure\" tabindex=\"-1\" tbc-actoritem_actoritem=\"\"><tbc-avatar tbc-actoritem_actoritem=\"\" tbc-avatar_avatar-host=\"\"><tbc-tds-avatar tbc-avatar_avatar=\"\" tds-avatar_avatar-host=\"\"><div tds-avatar_avatar=\"\"><div class=\"avatar avatar--large avatar--user avatar--circle\" tds-avatar_avatar=\"\"><img alt=\"\" class=\"avatar__image\" src=\"https://trailblazers.salesforce.com/ncsphoto/AGHmNbGCib7JEKNZsgq6Nro_CYKrd-kwPOlHnBc4hn9HPs6iorSgh13mVTVTNmYoCyMEHAEHHwkRVO8EXnz2yQ%3D%3D\" tds-avatar_avatar=\"\"/></div></div></tbc-tds-avatar></tbc-avatar></a>,\n",
       " <a href=\"https://trailblazers.salesforce.com/profileView?u=0053000000A8tI2AAJ\" rel=\"noopener\" target=\"_blank\" tbc-actoritem_actoritem=\"\">Lauren McGill</a>,\n",
       " <a aria-hidden=\"true\" href=\"https://trailblazers.salesforce.com/profileView?u=00530000007qsf7AAA\" slot=\"figure\" tabindex=\"-1\" tbc-actoritem_actoritem=\"\"><tbc-avatar tbc-actoritem_actoritem=\"\" tbc-avatar_avatar-host=\"\"><tbc-tds-avatar tbc-avatar_avatar=\"\" tds-avatar_avatar-host=\"\"><div tds-avatar_avatar=\"\"><div class=\"avatar avatar--large avatar--user avatar--circle\" tds-avatar_avatar=\"\"><img alt=\"\" class=\"avatar__image\" src=\"https://trailblazers.salesforce.com/ncsphoto/AGHmNbGCib7JEKNZsgq6Nk-tkDhFRN4lcz-XKdy_kiGOR7oOIcM0fCU9BRJWv_XaW7geh4Qj6M2EIRVsvCB_PA%3D%3D\" tds-avatar_avatar=\"\"/></div></div></tbc-tds-avatar></tbc-avatar></a>,\n",
       " <a href=\"https://trailblazers.salesforce.com/profileView?u=00530000007qsf7AAA\" rel=\"noopener\" target=\"_blank\" tbc-actoritem_actoritem=\"\">Maria Belli</a>,\n",
       " <a aria-hidden=\"true\" href=\"https://trailblazers.salesforce.com/profileView?u=00530000004cddJAAQ\" slot=\"figure\" tabindex=\"-1\" tbc-actoritem_actoritem=\"\"><tbc-avatar tbc-actoritem_actoritem=\"\" tbc-avatar_avatar-host=\"\"><tbc-tds-avatar tbc-avatar_avatar=\"\" tds-avatar_avatar-host=\"\"><div tds-avatar_avatar=\"\"><div class=\"avatar avatar--large avatar--user avatar--circle\" tds-avatar_avatar=\"\"><img alt=\"\" class=\"avatar__image\" src=\"https://trailblazers.salesforce.com/ncsphoto/AGHmNbGCib7JEKNZsgq6NtOrYsxb0SQTdPK9hfxuzC1RdJYn3Aj_LBmdEz-1JHvl3mSRSN6EHgh5GF7du_LIBA%3D%3D\" tds-avatar_avatar=\"\"/></div></div></tbc-tds-avatar></tbc-avatar></a>,\n",
       " <a href=\"https://trailblazers.salesforce.com/profileView?u=00530000004cddJAAQ\" rel=\"noopener\" target=\"_blank\" tbc-actoritem_actoritem=\"\">Viviane Forny</a>,\n",
       " <a aria-hidden=\"true\" href=\"https://trailblazers.salesforce.com/profileView?u=00530000001fxamAAA\" slot=\"figure\" tabindex=\"-1\" tbc-actoritem_actoritem=\"\"><tbc-avatar tbc-actoritem_actoritem=\"\" tbc-avatar_avatar-host=\"\"><tbc-tds-avatar tbc-avatar_avatar=\"\" tds-avatar_avatar-host=\"\"><div tds-avatar_avatar=\"\"><div class=\"avatar avatar--large avatar--user avatar--circle\" tds-avatar_avatar=\"\"><img alt=\"\" class=\"avatar__image\" src=\"https://trailblazers.salesforce.com/ncsphoto/AGHmNbGCib7JEKNZsgq6NoF6KdwdtksHcslHIabDjYjsJLqwfDU-n4EoCh0xkqoQMUVflmK-xazrBXr4S-yanA%3D%3D\" tds-avatar_avatar=\"\"/></div></div></tbc-tds-avatar></tbc-avatar></a>,\n",
       " <a href=\"https://trailblazers.salesforce.com/profileView?u=00530000001fxamAAA\" rel=\"noopener\" target=\"_blank\" tbc-actoritem_actoritem=\"\">Jason North</a>,\n",
       " <a aria-hidden=\"true\" href=\"https://trailblazers.salesforce.com/profileView?u=00530000001g3V9AAI\" slot=\"figure\" tabindex=\"-1\" tbc-actoritem_actoritem=\"\"><tbc-avatar tbc-actoritem_actoritem=\"\" tbc-avatar_avatar-host=\"\"><tbc-tds-avatar tbc-avatar_avatar=\"\" tds-avatar_avatar-host=\"\"><div tds-avatar_avatar=\"\"><div class=\"avatar avatar--large avatar--user avatar--circle\" tds-avatar_avatar=\"\"><img alt=\"\" class=\"avatar__image\" src=\"https://trailblazers.salesforce.com/ncsphoto/AGHmNbGCib7JEKNZsgq6Nrr3zUF35addh55uGgtASavBRIHtonLagSEN-A8QmpwQRBG6zFLVXsZHe1GLKbmMHg%3D%3D\" tds-avatar_avatar=\"\"/></div></div></tbc-tds-avatar></tbc-avatar></a>,\n",
       " <a href=\"https://trailblazers.salesforce.com/profileView?u=00530000001g3V9AAI\" rel=\"noopener\" target=\"_blank\" tbc-actoritem_actoritem=\"\">Kim Friedman</a>,\n",
       " <a aria-hidden=\"true\" href=\"https://trailblazers.salesforce.com/profileView?u=00530000001g4D8AAI\" slot=\"figure\" tabindex=\"-1\" tbc-actoritem_actoritem=\"\"><tbc-avatar tbc-actoritem_actoritem=\"\" tbc-avatar_avatar-host=\"\"><tbc-tds-avatar tbc-avatar_avatar=\"\" tds-avatar_avatar-host=\"\"><div tds-avatar_avatar=\"\"><div class=\"avatar avatar--large avatar--user avatar--circle\" tds-avatar_avatar=\"\"><img alt=\"\" class=\"avatar__image\" src=\"https://trailblazers.salesforce.com/ncsphoto/AGHmNbGCib7JEKNZsgq6NnGWNrnLpwYRZtnrJIE9j5pt-hNJKeyuC4T92NfmuxUuBQe8xO4kDEFSVQj7mbIDgA%3D%3D\" tds-avatar_avatar=\"\"/></div></div></tbc-tds-avatar></tbc-avatar></a>,\n",
       " <a href=\"https://trailblazers.salesforce.com/profileView?u=00530000001g4D8AAI\" rel=\"noopener\" target=\"_blank\" tbc-actoritem_actoritem=\"\">Gavin MacElwee</a>,\n",
       " <a aria-hidden=\"true\" href=\"https://trailblazers.salesforce.com/profileView?u=00530000001g4L2AAI\" slot=\"figure\" tabindex=\"-1\" tbc-actoritem_actoritem=\"\"><tbc-avatar tbc-actoritem_actoritem=\"\" tbc-avatar_avatar-host=\"\"><tbc-tds-avatar tbc-avatar_avatar=\"\" tds-avatar_avatar-host=\"\"><div tds-avatar_avatar=\"\"><div class=\"avatar avatar--large avatar--user avatar--circle\" tds-avatar_avatar=\"\"><img alt=\"\" class=\"avatar__image\" src=\"https://trailblazers.salesforce.com/ncsphoto/AGHmNbGCib7JEKNZsgq6NmGx8lTIOJip3PxUl2CfSN1dGBpmg64OEYtc2Vv-i-2hXRP-gbnu2n_7yd0n3Cpl-A%3D%3D\" tds-avatar_avatar=\"\"/></div></div></tbc-tds-avatar></tbc-avatar></a>,\n",
       " <a href=\"https://trailblazers.salesforce.com/profileView?u=00530000001g4L2AAI\" rel=\"noopener\" target=\"_blank\" tbc-actoritem_actoritem=\"\">Ben Keller</a>,\n",
       " <a aria-hidden=\"true\" href=\"https://trailblazers.salesforce.com/profileView?u=00530000001s5aLAAQ\" slot=\"figure\" tabindex=\"-1\" tbc-actoritem_actoritem=\"\"><tbc-avatar tbc-actoritem_actoritem=\"\" tbc-avatar_avatar-host=\"\"><tbc-tds-avatar tbc-avatar_avatar=\"\" tds-avatar_avatar-host=\"\"><div tds-avatar_avatar=\"\"><div class=\"avatar avatar--large avatar--user avatar--circle\" tds-avatar_avatar=\"\"><img alt=\"\" class=\"avatar__image\" src=\"https://trailblazers.salesforce.com/ncsphoto/AGHmNbGCib7JEKNZsgq6Nqd5AZmDDvfmZ0pNqQ2XY4TwIb0Rm3CZrIKvD3X_X7dm_9OS3YEdptbHzRqFllX0XQ%3D%3D\" tds-avatar_avatar=\"\"/></div></div></tbc-tds-avatar></tbc-avatar></a>,\n",
       " <a href=\"https://trailblazers.salesforce.com/profileView?u=00530000001s5aLAAQ\" rel=\"noopener\" target=\"_blank\" tbc-actoritem_actoritem=\"\">Paul Underbrink</a>,\n",
       " <a aria-hidden=\"true\" href=\"https://trailblazers.salesforce.com/profileView?u=00530000001s5p5AAA\" slot=\"figure\" tabindex=\"-1\" tbc-actoritem_actoritem=\"\"><tbc-avatar tbc-actoritem_actoritem=\"\" tbc-avatar_avatar-host=\"\"><tbc-tds-avatar tbc-avatar_avatar=\"\" tds-avatar_avatar-host=\"\"><div tds-avatar_avatar=\"\"><div class=\"avatar avatar--large avatar--user avatar--circle\" tds-avatar_avatar=\"\"><img alt=\"\" class=\"avatar__image\" src=\"https://trailblazers.salesforce.com/ncsphoto/AGHmNbGCib7JEKNZsgq6NniFCq8RvvyPiqC4IO2rHkqAuiPVA7RkNWJZCp-Zza7WKSTvX8usF500wwZfLD7Lxg%3D%3D\" tds-avatar_avatar=\"\"/></div></div></tbc-tds-avatar></tbc-avatar></a>,\n",
       " <a href=\"https://trailblazers.salesforce.com/profileView?u=00530000001s5p5AAA\" rel=\"noopener\" target=\"_blank\" tbc-actoritem_actoritem=\"\">Rob Lofaro</a>,\n",
       " <a aria-hidden=\"true\" href=\"https://trailblazers.salesforce.com/profileView?u=00530000001s65SAAQ\" slot=\"figure\" tabindex=\"-1\" tbc-actoritem_actoritem=\"\"><tbc-avatar tbc-actoritem_actoritem=\"\" tbc-avatar_avatar-host=\"\"><tbc-tds-avatar tbc-avatar_avatar=\"\" tds-avatar_avatar-host=\"\"><div tds-avatar_avatar=\"\"><div class=\"avatar avatar--large avatar--user avatar--circle\" tds-avatar_avatar=\"\"><img alt=\"\" class=\"avatar__image\" src=\"https://trailblazers.salesforce.com/ncsphoto/AGHmNbGCib7JEKNZsgq6Nn7ncQSexHknTV6pJVjtbTxtzRpB9ONKURbrmVwbNNS5R-CE9-guAxW6FTEyMTjnUg%3D%3D\" tds-avatar_avatar=\"\"/></div></div></tbc-tds-avatar></tbc-avatar></a>,\n",
       " <a href=\"https://trailblazers.salesforce.com/profileView?u=00530000001s65SAAQ\" rel=\"noopener\" target=\"_blank\" tbc-actoritem_actoritem=\"\">Marie Rosecrans</a>,\n",
       " <a aria-hidden=\"true\" href=\"https://trailblazers.salesforce.com/profileView?u=00530000001s6NpAAI\" slot=\"figure\" tabindex=\"-1\" tbc-actoritem_actoritem=\"\"><tbc-avatar tbc-actoritem_actoritem=\"\" tbc-avatar_avatar-host=\"\"><tbc-tds-avatar tbc-avatar_avatar=\"\" tds-avatar_avatar-host=\"\"><div tds-avatar_avatar=\"\"><div class=\"avatar avatar--large avatar--user avatar--circle\" tds-avatar_avatar=\"\"><img alt=\"\" class=\"avatar__image\" src=\"https://trailblazers.salesforce.com/ncsphoto/AGHmNbGCib7JEKNZsgq6NuEtV37cvdyybRCkonuwWaMYR8XsYk-EGV9iBuStGbsWe9bzQPMBKaDajaHjVnmW3g%3D%3D\" tds-avatar_avatar=\"\"/></div></div></tbc-tds-avatar></tbc-avatar></a>,\n",
       " <a href=\"https://trailblazers.salesforce.com/profileView?u=00530000001s6NpAAI\" rel=\"noopener\" target=\"_blank\" tbc-actoritem_actoritem=\"\">Stephen Mason</a>,\n",
       " <a aria-hidden=\"true\" href=\"https://trailblazers.salesforce.com/profileView?u=00530000001s6Q0AAI\" slot=\"figure\" tabindex=\"-1\" tbc-actoritem_actoritem=\"\"><tbc-avatar tbc-actoritem_actoritem=\"\" tbc-avatar_avatar-host=\"\"><tbc-tds-avatar tbc-avatar_avatar=\"\" tds-avatar_avatar-host=\"\"><div tds-avatar_avatar=\"\"><div class=\"avatar avatar--large avatar--user avatar--circle\" tds-avatar_avatar=\"\"><img alt=\"\" class=\"avatar__image\" src=\"https://trailblazers.salesforce.com/ncsphoto/AGHmNbGCib7JEKNZsgq6Nv8ZZMYGH8GeelUpscGoAI3trRMi8TcIqIFXRJz4OjUG-HwN7a6f1SVu-DKoF_3_NQ%3D%3D\" tds-avatar_avatar=\"\"/></div></div></tbc-tds-avatar></tbc-avatar></a>,\n",
       " <a href=\"https://trailblazers.salesforce.com/profileView?u=00530000001s6Q0AAI\" rel=\"noopener\" target=\"_blank\" tbc-actoritem_actoritem=\"\">Mike Stubbs-Egginton</a>,\n",
       " <a aria-hidden=\"true\" href=\"https://trailblazers.salesforce.com/profileView?u=00530000001s6eLAAQ\" slot=\"figure\" tabindex=\"-1\" tbc-actoritem_actoritem=\"\"><tbc-avatar tbc-actoritem_actoritem=\"\" tbc-avatar_avatar-host=\"\"><tbc-tds-avatar tbc-avatar_avatar=\"\" tds-avatar_avatar-host=\"\"><div tds-avatar_avatar=\"\"><div class=\"avatar avatar--large avatar--user avatar--circle\" tds-avatar_avatar=\"\"><img alt=\"\" class=\"avatar__image\" src=\"https://trailblazers.salesforce.com/ncsphoto/AGHmNbGCib7JEKNZsgq6NqSOXdBhzmdwi3pxosUhQW1boO_Uvnc7bD-y1u4STVWbQ8byopWVLOGyzlGRCp89iA%3D%3D\" tds-avatar_avatar=\"\"/></div></div></tbc-tds-avatar></tbc-avatar></a>,\n",
       " <a href=\"https://trailblazers.salesforce.com/profileView?u=00530000001s6eLAAQ\" rel=\"noopener\" target=\"_blank\" tbc-actoritem_actoritem=\"\">Jina Chetia</a>,\n",
       " <a aria-hidden=\"true\" href=\"https://trailblazers.salesforce.com/profileView?u=00530000001s6znAAA\" slot=\"figure\" tabindex=\"-1\" tbc-actoritem_actoritem=\"\"><tbc-avatar tbc-actoritem_actoritem=\"\" tbc-avatar_avatar-host=\"\"><tbc-tds-avatar tbc-avatar_avatar=\"\" tds-avatar_avatar-host=\"\"><div tds-avatar_avatar=\"\"><div class=\"avatar avatar--large avatar--user avatar--circle\" tds-avatar_avatar=\"\"><img alt=\"\" class=\"avatar__image\" src=\"https://trailblazers.salesforce.com/ncsphoto/AGHmNbGCib7JEKNZsgq6NvYaP02sNzuOQfw9SkcZbSkonyxpMsO-QETM3VpIWsFen73081yyynYsimdlBLyANA%3D%3D\" tds-avatar_avatar=\"\"/></div></div></tbc-tds-avatar></tbc-avatar></a>,\n",
       " <a href=\"https://trailblazers.salesforce.com/profileView?u=00530000001s6znAAA\" rel=\"noopener\" target=\"_blank\" tbc-actoritem_actoritem=\"\">Adam Kirsh</a>,\n",
       " <a aria-hidden=\"true\" href=\"https://trailblazers.salesforce.com/profileView?u=00530000001s7ALAAY\" slot=\"figure\" tabindex=\"-1\" tbc-actoritem_actoritem=\"\"><tbc-avatar tbc-actoritem_actoritem=\"\" tbc-avatar_avatar-host=\"\"><tbc-tds-avatar tbc-avatar_avatar=\"\" tds-avatar_avatar-host=\"\"><div tds-avatar_avatar=\"\"><div class=\"avatar avatar--large avatar--user avatar--circle\" tds-avatar_avatar=\"\"><img alt=\"\" class=\"avatar__image\" src=\"https://trailblazers.salesforce.com/ncsphoto/AGHmNbGCib7JEKNZsgq6NiOKuWkwxWYgHRs93z62b2lTvl_O8D2ebOTcHJsviz5eGIrVguF42P1qvQKbYo2cKA%3D%3D\" tds-avatar_avatar=\"\"/></div></div></tbc-tds-avatar></tbc-avatar></a>,\n",
       " <a href=\"https://trailblazers.salesforce.com/profileView?u=00530000001s7ALAAY\" rel=\"noopener\" target=\"_blank\" tbc-actoritem_actoritem=\"\">Ellie Mae Services</a>,\n",
       " <a aria-hidden=\"true\" href=\"https://trailblazers.salesforce.com/profileView?u=00530000001s7BJAAY\" slot=\"figure\" tabindex=\"-1\" tbc-actoritem_actoritem=\"\"><tbc-avatar tbc-actoritem_actoritem=\"\" tbc-avatar_avatar-host=\"\"><tbc-tds-avatar tbc-avatar_avatar=\"\" tds-avatar_avatar-host=\"\"><div tds-avatar_avatar=\"\"><div class=\"avatar avatar--large avatar--user avatar--circle\" tds-avatar_avatar=\"\"><img alt=\"\" class=\"avatar__image\" src=\"https://trailblazers.salesforce.com/ncsphoto/AGHmNbGCib7JEKNZsgq6NqySCypl__ZvYvhy6l8aQDoAvQsbpgSFfB3m9q80YL1aXszDGp_YD1d5RGHdPu9psg%3D%3D\" tds-avatar_avatar=\"\"/></div></div></tbc-tds-avatar></tbc-avatar></a>,\n",
       " <a href=\"https://trailblazers.salesforce.com/profileView?u=00530000001s7BJAAY\" rel=\"noopener\" target=\"_blank\" tbc-actoritem_actoritem=\"\">Jennifer Mercer</a>,\n",
       " <a aria-hidden=\"true\" href=\"https://trailblazers.salesforce.com/profileView?u=00530000001s7dVAAQ\" slot=\"figure\" tabindex=\"-1\" tbc-actoritem_actoritem=\"\"><tbc-avatar tbc-actoritem_actoritem=\"\" tbc-avatar_avatar-host=\"\"><tbc-tds-avatar tbc-avatar_avatar=\"\" tds-avatar_avatar-host=\"\"><div tds-avatar_avatar=\"\"><div class=\"avatar avatar--large avatar--user avatar--circle\" tds-avatar_avatar=\"\"><img alt=\"\" class=\"avatar__image\" src=\"https://trailblazers.salesforce.com/ncsphoto/AGHmNbGCib7JEKNZsgq6Nv39xrV9jQbkfSbWHfRmaL-ZEzGTyHBW9Pje4KgieXdQi9k-U26HQY3dQVmv7AfFAw%3D%3D\" tds-avatar_avatar=\"\"/></div></div></tbc-tds-avatar></tbc-avatar></a>,\n",
       " <a href=\"https://trailblazers.salesforce.com/profileView?u=00530000001s7dVAAQ\" rel=\"noopener\" target=\"_blank\" tbc-actoritem_actoritem=\"\">Todd Smithee</a>,\n",
       " <a aria-hidden=\"true\" href=\"https://trailblazers.salesforce.com/profileView?u=00530000001s7pfAAA\" slot=\"figure\" tabindex=\"-1\" tbc-actoritem_actoritem=\"\"><tbc-avatar tbc-actoritem_actoritem=\"\" tbc-avatar_avatar-host=\"\"><tbc-tds-avatar tbc-avatar_avatar=\"\" tds-avatar_avatar-host=\"\"><div tds-avatar_avatar=\"\"><div class=\"avatar avatar--large avatar--user avatar--circle\" tds-avatar_avatar=\"\"><img alt=\"\" class=\"avatar__image\" src=\"https://trailblazers.salesforce.com/ncsphoto/AGHmNbGCib7JEKNZsgq6NrSfMHzYTiMWNNvcS3oEcbxZvnTyOxdM_VlzgAl3z3P0GGT0f2YgsxP5ZBoOuqyUfw%3D%3D\" tds-avatar_avatar=\"\"/></div></div></tbc-tds-avatar></tbc-avatar></a>,\n",
       " <a href=\"https://trailblazers.salesforce.com/profileView?u=00530000001s7pfAAA\" rel=\"noopener\" target=\"_blank\" tbc-actoritem_actoritem=\"\">Leslie Tom</a>,\n",
       " <a aria-hidden=\"true\" href=\"https://trailblazers.salesforce.com/profileView?u=00530000001s88aAAA\" slot=\"figure\" tabindex=\"-1\" tbc-actoritem_actoritem=\"\"><tbc-avatar tbc-actoritem_actoritem=\"\" tbc-avatar_avatar-host=\"\"><tbc-tds-avatar tbc-avatar_avatar=\"\" tds-avatar_avatar-host=\"\"><div tds-avatar_avatar=\"\"><div class=\"avatar avatar--large avatar--user avatar--circle\" tds-avatar_avatar=\"\"><img alt=\"\" class=\"avatar__image\" src=\"https://trailblazers.salesforce.com/ncsphoto/AGHmNbGCib7JEKNZsgq6Np03bHDJDgJuKg3cLmhO_7toNm9VSJ2JWi4p3k7J9rxXQfcXr78EaBhfQhwOwQXV6g%3D%3D\" tds-avatar_avatar=\"\"/></div></div></tbc-tds-avatar></tbc-avatar></a>,\n",
       " <a href=\"https://trailblazers.salesforce.com/profileView?u=00530000001s88aAAA\" rel=\"noopener\" target=\"_blank\" tbc-actoritem_actoritem=\"\">Brad Banyas</a>,\n",
       " <a aria-hidden=\"true\" href=\"https://trailblazers.salesforce.com/profileView?u=00530000001s8A2AAI\" slot=\"figure\" tabindex=\"-1\" tbc-actoritem_actoritem=\"\"><tbc-avatar tbc-actoritem_actoritem=\"\" tbc-avatar_avatar-host=\"\"><tbc-tds-avatar tbc-avatar_avatar=\"\" tds-avatar_avatar-host=\"\"><div tds-avatar_avatar=\"\"><div class=\"avatar avatar--large avatar--user avatar--circle\" tds-avatar_avatar=\"\"><img alt=\"\" class=\"avatar__image\" src=\"https://trailblazers.salesforce.com/ncsphoto/AGHmNbGCib7JEKNZsgq6NnopPt61sri2kWXmu1X4isSZ1giEQ9CGZzM9VG2WFIfKZo4gfCIeB1U8zQLhavq3Dg%3D%3D\" tds-avatar_avatar=\"\"/></div></div></tbc-tds-avatar></tbc-avatar></a>,\n",
       " <a href=\"https://trailblazers.salesforce.com/profileView?u=00530000001s8A2AAI\" rel=\"noopener\" target=\"_blank\" tbc-actoritem_actoritem=\"\">Stephen Wyman</a>,\n",
       " <a aria-hidden=\"true\" href=\"https://trailblazers.salesforce.com/profileView?u=00530000001s8PiAAI\" slot=\"figure\" tabindex=\"-1\" tbc-actoritem_actoritem=\"\"><tbc-avatar tbc-actoritem_actoritem=\"\" tbc-avatar_avatar-host=\"\"><tbc-tds-avatar tbc-avatar_avatar=\"\" tds-avatar_avatar-host=\"\"><div tds-avatar_avatar=\"\"><div class=\"avatar avatar--large avatar--user avatar--circle\" tds-avatar_avatar=\"\"><img alt=\"\" class=\"avatar__image\" src=\"https://trailblazers.salesforce.com/ncsphoto/AGHmNbGCib7JEKNZsgq6NuZ1YyCpXj1kw7320U30E9wdV7CbNzvs3uIHLruKkkRzXA2Ot6RhSFhGcpoWcRkbjw%3D%3D\" tds-avatar_avatar=\"\"/></div></div></tbc-tds-avatar></tbc-avatar></a>,\n",
       " <a href=\"https://trailblazers.salesforce.com/profileView?u=00530000001s8PiAAI\" rel=\"noopener\" target=\"_blank\" tbc-actoritem_actoritem=\"\">Douglas Porta</a>,\n",
       " <a aria-hidden=\"true\" href=\"https://trailblazers.salesforce.com/profileView?u=00530000001s8PmAAI\" slot=\"figure\" tabindex=\"-1\" tbc-actoritem_actoritem=\"\"><tbc-avatar tbc-actoritem_actoritem=\"\" tbc-avatar_avatar-host=\"\"><tbc-tds-avatar tbc-avatar_avatar=\"\" tds-avatar_avatar-host=\"\"><div tds-avatar_avatar=\"\"><div class=\"avatar avatar--large avatar--user avatar--circle\" tds-avatar_avatar=\"\"><img alt=\"\" class=\"avatar__image\" src=\"https://trailblazers.salesforce.com/ncsphoto/AGHmNbGCib7JEKNZsgq6NvIDqmtzLNSLb0I7q22smsXpUnGBsJyZfO0spqkPnjPSC_8rjwPX42HsX0BkfexDzQ%3D%3D\" tds-avatar_avatar=\"\"/></div></div></tbc-tds-avatar></tbc-avatar></a>,\n",
       " <a href=\"https://trailblazers.salesforce.com/profileView?u=00530000001s8PmAAI\" rel=\"noopener\" target=\"_blank\" tbc-actoritem_actoritem=\"\">Todd Bialous</a>,\n",
       " <a aria-hidden=\"true\" href=\"https://trailblazers.salesforce.com/profileView?u=00530000001s8QhAAI\" slot=\"figure\" tabindex=\"-1\" tbc-actoritem_actoritem=\"\"><tbc-avatar tbc-actoritem_actoritem=\"\" tbc-avatar_avatar-host=\"\"><tbc-tds-avatar tbc-avatar_avatar=\"\" tds-avatar_avatar-host=\"\"><div tds-avatar_avatar=\"\"><div class=\"avatar avatar--large avatar--user avatar--circle\" tds-avatar_avatar=\"\"><img alt=\"\" class=\"avatar__image\" src=\"https://trailblazers.salesforce.com/ncsphoto/AGHmNbGCib7JEKNZsgq6NnpvryfyXH-he9UyNno4TSjKrHUiBN-Z-gijvn2LJm2hP1-BS-i-t2BFviUtT-ChrQ%3D%3D\" tds-avatar_avatar=\"\"/></div></div></tbc-tds-avatar></tbc-avatar></a>,\n",
       " <a href=\"https://trailblazers.salesforce.com/profileView?u=00530000001s8QhAAI\" rel=\"noopener\" target=\"_blank\" tbc-actoritem_actoritem=\"\">Adrian Juergens</a>,\n",
       " <a href=\"https://www.salesforce.com/dreamforce/faq/\" rel=\"noopener ugc\" target=\"_blank\">Dreamforce FAQ </a>,\n",
       " <a href=\"http://dreamforce.com\" rel=\"noopener noreferrer\" target=\"_blank\">dreamforce.com</a>,\n",
       " <a aria-label=\"More information about your privacy, opens in a new tab\" class=\"privacy-notice-link\" href=\"https://www.salesforce.com/company/privacy/full_privacy/\" rel=\"noopener\" target=\"_blank\">Privacy Statement</a>,\n",
       " <a aria-label=\"Powered by OneTrust Opens in a new Tab\" href=\"https://www.onetrust.com/products/cookie-consent/\" rel=\"noopener noreferrer\" style='background-image: url(\"/one-trust/production/consent/5a03e92e-4bac-4a7e-911c-28a860ee29e8/e876bf1a-d16a-4d93-86f9-c927df47cfe1/logos/static/poweredBy_ot_logo.svg\")' target=\"_blank\"></a>]"
      ]
     },
     "execution_count": 30,
     "metadata": {},
     "output_type": "execute_result"
    }
   ],
   "source": [
    "bs.find_all('a', {'href':re.compile('^[https://trailblazers.salesforce.com/profileView?]')})"
   ]
  },
  {
   "cell_type": "code",
   "execution_count": 32,
   "metadata": {},
   "outputs": [
    {
     "name": "stdout",
     "output_type": "stream",
     "text": [
      "66\n",
      "56\n"
     ]
    }
   ],
   "source": [
    "print(len(bs.find_all('a')))\n",
    "print(len(bs.find_all('a', {'href': re.compile('https://trailblazers.salesforce.com/profileView?')})))"
   ]
  },
  {
   "cell_type": "code",
   "execution_count": 33,
   "metadata": {},
   "outputs": [
    {
     "data": {
      "text/plain": [
       "[<a aria-hidden=\"true\" href=\"https://trailblazers.salesforce.com/profileView?u=0053A00000DXnWHQA1\" slot=\"figure\" tabindex=\"-1\" tbc-actoritem_actoritem=\"\"><tbc-avatar tbc-actoritem_actoritem=\"\" tbc-avatar_avatar-host=\"\"><tbc-tds-avatar tbc-avatar_avatar=\"\" tds-avatar_avatar-host=\"\"><div tds-avatar_avatar=\"\"><div class=\"avatar avatar--large avatar--user avatar--circle\" tds-avatar_avatar=\"\"><img alt=\"\" class=\"avatar__image\" src=\"https://trailblazers.salesforce.com/ncsphoto/AGHmNbGCib7JEKNZsgq6Nqbyx3y3hVmWlSb4qk9O-0QKfNUapkOI65VDh1_FWdBs5LvxTLtLdCMja4tSPeE2WQ%3D%3D\" tds-avatar_avatar=\"\"/></div></div></tbc-tds-avatar></tbc-avatar></a>,\n",
       " <a href=\"https://trailblazers.salesforce.com/profileView?u=0053A00000DXnWHQA1\" rel=\"noopener\" target=\"_blank\" tbc-actoritem_actoritem=\"\">Danielle Kerendian</a>,\n",
       " <a aria-hidden=\"true\" href=\"https://trailblazers.salesforce.com/profileView?u=0053000000BeeVLAAZ\" slot=\"figure\" tabindex=\"-1\" tbc-actoritem_actoritem=\"\"><tbc-avatar tbc-actoritem_actoritem=\"\" tbc-avatar_avatar-host=\"\"><tbc-tds-avatar tbc-avatar_avatar=\"\" tds-avatar_avatar-host=\"\"><div tds-avatar_avatar=\"\"><div class=\"avatar avatar--large avatar--user avatar--circle\" tds-avatar_avatar=\"\"><img alt=\"\" class=\"avatar__image\" src=\"https://trailblazers.salesforce.com/ncsphoto/AGHmNbGCib7JEKNZsgq6NpggzTLtl85NCHfoaR21TrW4fkZMG1YVajb4CWCVDLmCAex7UyfKX8yWNzxiBlwE1A%3D%3D\" tds-avatar_avatar=\"\"/></div></div></tbc-tds-avatar></tbc-avatar></a>,\n",
       " <a href=\"https://trailblazers.salesforce.com/profileView?u=0053000000BeeVLAAZ\" rel=\"noopener\" target=\"_blank\" tbc-actoritem_actoritem=\"\">Drew Reed</a>,\n",
       " <a aria-hidden=\"true\" href=\"https://trailblazers.salesforce.com/profileView?u=00530000003ahudAAA\" slot=\"figure\" tabindex=\"-1\" tbc-actoritem_actoritem=\"\"><tbc-avatar tbc-actoritem_actoritem=\"\" tbc-avatar_avatar-host=\"\"><tbc-tds-avatar tbc-avatar_avatar=\"\" tds-avatar_avatar-host=\"\"><div tds-avatar_avatar=\"\"><div class=\"avatar avatar--large avatar--user avatar--circle\" tds-avatar_avatar=\"\"><img alt=\"\" class=\"avatar__image\" src=\"https://trailblazers.salesforce.com/ncsphoto/AGHmNbGCib7JEKNZsgq6NtiErmQfmAt3TKXnOmlDn74Gv2bGsa1Ogh5ralshPZl7XTyXoiLV4Pf3Scu3f70ztw%3D%3D\" tds-avatar_avatar=\"\"/></div></div></tbc-tds-avatar></tbc-avatar></a>,\n",
       " <a href=\"https://trailblazers.salesforce.com/profileView?u=00530000003ahudAAA\" rel=\"noopener\" target=\"_blank\" tbc-actoritem_actoritem=\"\">Elizabeth Davidson</a>,\n",
       " <a aria-hidden=\"true\" href=\"https://trailblazers.salesforce.com/profileView?u=00530000008BnStAAK\" slot=\"figure\" tabindex=\"-1\" tbc-actoritem_actoritem=\"\"><tbc-avatar tbc-actoritem_actoritem=\"\" tbc-avatar_avatar-host=\"\"><tbc-tds-avatar tbc-avatar_avatar=\"\" tds-avatar_avatar-host=\"\"><div tds-avatar_avatar=\"\"><div class=\"avatar avatar--large avatar--user avatar--circle\" tds-avatar_avatar=\"\"><img alt=\"\" class=\"avatar__image\" src=\"https://trailblazers.salesforce.com/ncsphoto/AGHmNbGCib7JEKNZsgq6Nm1JBTJ_LxeKlGpf_Ohls_WY-K84An26odi44HDxzogYt5AMux0hmvRKQeTt27Ewaw%3D%3D\" tds-avatar_avatar=\"\"/></div></div></tbc-tds-avatar></tbc-avatar></a>,\n",
       " <a href=\"https://trailblazers.salesforce.com/profileView?u=00530000008BnStAAK\" rel=\"noopener\" target=\"_blank\" tbc-actoritem_actoritem=\"\">Eric Dreshfield</a>,\n",
       " <a aria-hidden=\"true\" href=\"https://trailblazers.salesforce.com/profileView?u=0053A00000DLeIlQAL\" slot=\"figure\" tabindex=\"-1\" tbc-actoritem_actoritem=\"\"><tbc-avatar tbc-actoritem_actoritem=\"\" tbc-avatar_avatar-host=\"\"><tbc-tds-avatar tbc-avatar_avatar=\"\" tds-avatar_avatar-host=\"\"><div tds-avatar_avatar=\"\"><div class=\"avatar avatar--large avatar--user avatar--circle\" tds-avatar_avatar=\"\"><img alt=\"\" class=\"avatar__image\" src=\"https://trailblazers.salesforce.com/ncsphoto/AGHmNbGCib7JEKNZsgq6NtcV2CecemJHbd6CtBaOnDFbSul7dQPrXcT1CufUyidUssWMUi6FyYVyZsEm8JjojQ%3D%3D\" tds-avatar_avatar=\"\"/></div></div></tbc-tds-avatar></tbc-avatar></a>,\n",
       " <a href=\"https://trailblazers.salesforce.com/profileView?u=0053A00000DLeIlQAL\" rel=\"noopener\" target=\"_blank\" tbc-actoritem_actoritem=\"\">Kate Toporski</a>,\n",
       " <a aria-hidden=\"true\" href=\"https://trailblazers.salesforce.com/profileView?u=0053000000A8tI2AAJ\" slot=\"figure\" tabindex=\"-1\" tbc-actoritem_actoritem=\"\"><tbc-avatar tbc-actoritem_actoritem=\"\" tbc-avatar_avatar-host=\"\"><tbc-tds-avatar tbc-avatar_avatar=\"\" tds-avatar_avatar-host=\"\"><div tds-avatar_avatar=\"\"><div class=\"avatar avatar--large avatar--user avatar--circle\" tds-avatar_avatar=\"\"><img alt=\"\" class=\"avatar__image\" src=\"https://trailblazers.salesforce.com/ncsphoto/AGHmNbGCib7JEKNZsgq6Nro_CYKrd-kwPOlHnBc4hn9HPs6iorSgh13mVTVTNmYoCyMEHAEHHwkRVO8EXnz2yQ%3D%3D\" tds-avatar_avatar=\"\"/></div></div></tbc-tds-avatar></tbc-avatar></a>,\n",
       " <a href=\"https://trailblazers.salesforce.com/profileView?u=0053000000A8tI2AAJ\" rel=\"noopener\" target=\"_blank\" tbc-actoritem_actoritem=\"\">Lauren McGill</a>,\n",
       " <a aria-hidden=\"true\" href=\"https://trailblazers.salesforce.com/profileView?u=00530000007qsf7AAA\" slot=\"figure\" tabindex=\"-1\" tbc-actoritem_actoritem=\"\"><tbc-avatar tbc-actoritem_actoritem=\"\" tbc-avatar_avatar-host=\"\"><tbc-tds-avatar tbc-avatar_avatar=\"\" tds-avatar_avatar-host=\"\"><div tds-avatar_avatar=\"\"><div class=\"avatar avatar--large avatar--user avatar--circle\" tds-avatar_avatar=\"\"><img alt=\"\" class=\"avatar__image\" src=\"https://trailblazers.salesforce.com/ncsphoto/AGHmNbGCib7JEKNZsgq6Nk-tkDhFRN4lcz-XKdy_kiGOR7oOIcM0fCU9BRJWv_XaW7geh4Qj6M2EIRVsvCB_PA%3D%3D\" tds-avatar_avatar=\"\"/></div></div></tbc-tds-avatar></tbc-avatar></a>,\n",
       " <a href=\"https://trailblazers.salesforce.com/profileView?u=00530000007qsf7AAA\" rel=\"noopener\" target=\"_blank\" tbc-actoritem_actoritem=\"\">Maria Belli</a>,\n",
       " <a aria-hidden=\"true\" href=\"https://trailblazers.salesforce.com/profileView?u=00530000004cddJAAQ\" slot=\"figure\" tabindex=\"-1\" tbc-actoritem_actoritem=\"\"><tbc-avatar tbc-actoritem_actoritem=\"\" tbc-avatar_avatar-host=\"\"><tbc-tds-avatar tbc-avatar_avatar=\"\" tds-avatar_avatar-host=\"\"><div tds-avatar_avatar=\"\"><div class=\"avatar avatar--large avatar--user avatar--circle\" tds-avatar_avatar=\"\"><img alt=\"\" class=\"avatar__image\" src=\"https://trailblazers.salesforce.com/ncsphoto/AGHmNbGCib7JEKNZsgq6NtOrYsxb0SQTdPK9hfxuzC1RdJYn3Aj_LBmdEz-1JHvl3mSRSN6EHgh5GF7du_LIBA%3D%3D\" tds-avatar_avatar=\"\"/></div></div></tbc-tds-avatar></tbc-avatar></a>,\n",
       " <a href=\"https://trailblazers.salesforce.com/profileView?u=00530000004cddJAAQ\" rel=\"noopener\" target=\"_blank\" tbc-actoritem_actoritem=\"\">Viviane Forny</a>,\n",
       " <a aria-hidden=\"true\" href=\"https://trailblazers.salesforce.com/profileView?u=00530000001fxamAAA\" slot=\"figure\" tabindex=\"-1\" tbc-actoritem_actoritem=\"\"><tbc-avatar tbc-actoritem_actoritem=\"\" tbc-avatar_avatar-host=\"\"><tbc-tds-avatar tbc-avatar_avatar=\"\" tds-avatar_avatar-host=\"\"><div tds-avatar_avatar=\"\"><div class=\"avatar avatar--large avatar--user avatar--circle\" tds-avatar_avatar=\"\"><img alt=\"\" class=\"avatar__image\" src=\"https://trailblazers.salesforce.com/ncsphoto/AGHmNbGCib7JEKNZsgq6NoF6KdwdtksHcslHIabDjYjsJLqwfDU-n4EoCh0xkqoQMUVflmK-xazrBXr4S-yanA%3D%3D\" tds-avatar_avatar=\"\"/></div></div></tbc-tds-avatar></tbc-avatar></a>,\n",
       " <a href=\"https://trailblazers.salesforce.com/profileView?u=00530000001fxamAAA\" rel=\"noopener\" target=\"_blank\" tbc-actoritem_actoritem=\"\">Jason North</a>,\n",
       " <a aria-hidden=\"true\" href=\"https://trailblazers.salesforce.com/profileView?u=00530000001g3V9AAI\" slot=\"figure\" tabindex=\"-1\" tbc-actoritem_actoritem=\"\"><tbc-avatar tbc-actoritem_actoritem=\"\" tbc-avatar_avatar-host=\"\"><tbc-tds-avatar tbc-avatar_avatar=\"\" tds-avatar_avatar-host=\"\"><div tds-avatar_avatar=\"\"><div class=\"avatar avatar--large avatar--user avatar--circle\" tds-avatar_avatar=\"\"><img alt=\"\" class=\"avatar__image\" src=\"https://trailblazers.salesforce.com/ncsphoto/AGHmNbGCib7JEKNZsgq6Nrr3zUF35addh55uGgtASavBRIHtonLagSEN-A8QmpwQRBG6zFLVXsZHe1GLKbmMHg%3D%3D\" tds-avatar_avatar=\"\"/></div></div></tbc-tds-avatar></tbc-avatar></a>,\n",
       " <a href=\"https://trailblazers.salesforce.com/profileView?u=00530000001g3V9AAI\" rel=\"noopener\" target=\"_blank\" tbc-actoritem_actoritem=\"\">Kim Friedman</a>,\n",
       " <a aria-hidden=\"true\" href=\"https://trailblazers.salesforce.com/profileView?u=00530000001g4D8AAI\" slot=\"figure\" tabindex=\"-1\" tbc-actoritem_actoritem=\"\"><tbc-avatar tbc-actoritem_actoritem=\"\" tbc-avatar_avatar-host=\"\"><tbc-tds-avatar tbc-avatar_avatar=\"\" tds-avatar_avatar-host=\"\"><div tds-avatar_avatar=\"\"><div class=\"avatar avatar--large avatar--user avatar--circle\" tds-avatar_avatar=\"\"><img alt=\"\" class=\"avatar__image\" src=\"https://trailblazers.salesforce.com/ncsphoto/AGHmNbGCib7JEKNZsgq6NnGWNrnLpwYRZtnrJIE9j5pt-hNJKeyuC4T92NfmuxUuBQe8xO4kDEFSVQj7mbIDgA%3D%3D\" tds-avatar_avatar=\"\"/></div></div></tbc-tds-avatar></tbc-avatar></a>,\n",
       " <a href=\"https://trailblazers.salesforce.com/profileView?u=00530000001g4D8AAI\" rel=\"noopener\" target=\"_blank\" tbc-actoritem_actoritem=\"\">Gavin MacElwee</a>,\n",
       " <a aria-hidden=\"true\" href=\"https://trailblazers.salesforce.com/profileView?u=00530000001g4L2AAI\" slot=\"figure\" tabindex=\"-1\" tbc-actoritem_actoritem=\"\"><tbc-avatar tbc-actoritem_actoritem=\"\" tbc-avatar_avatar-host=\"\"><tbc-tds-avatar tbc-avatar_avatar=\"\" tds-avatar_avatar-host=\"\"><div tds-avatar_avatar=\"\"><div class=\"avatar avatar--large avatar--user avatar--circle\" tds-avatar_avatar=\"\"><img alt=\"\" class=\"avatar__image\" src=\"https://trailblazers.salesforce.com/ncsphoto/AGHmNbGCib7JEKNZsgq6NmGx8lTIOJip3PxUl2CfSN1dGBpmg64OEYtc2Vv-i-2hXRP-gbnu2n_7yd0n3Cpl-A%3D%3D\" tds-avatar_avatar=\"\"/></div></div></tbc-tds-avatar></tbc-avatar></a>,\n",
       " <a href=\"https://trailblazers.salesforce.com/profileView?u=00530000001g4L2AAI\" rel=\"noopener\" target=\"_blank\" tbc-actoritem_actoritem=\"\">Ben Keller</a>,\n",
       " <a aria-hidden=\"true\" href=\"https://trailblazers.salesforce.com/profileView?u=00530000001s5aLAAQ\" slot=\"figure\" tabindex=\"-1\" tbc-actoritem_actoritem=\"\"><tbc-avatar tbc-actoritem_actoritem=\"\" tbc-avatar_avatar-host=\"\"><tbc-tds-avatar tbc-avatar_avatar=\"\" tds-avatar_avatar-host=\"\"><div tds-avatar_avatar=\"\"><div class=\"avatar avatar--large avatar--user avatar--circle\" tds-avatar_avatar=\"\"><img alt=\"\" class=\"avatar__image\" src=\"https://trailblazers.salesforce.com/ncsphoto/AGHmNbGCib7JEKNZsgq6Nqd5AZmDDvfmZ0pNqQ2XY4TwIb0Rm3CZrIKvD3X_X7dm_9OS3YEdptbHzRqFllX0XQ%3D%3D\" tds-avatar_avatar=\"\"/></div></div></tbc-tds-avatar></tbc-avatar></a>,\n",
       " <a href=\"https://trailblazers.salesforce.com/profileView?u=00530000001s5aLAAQ\" rel=\"noopener\" target=\"_blank\" tbc-actoritem_actoritem=\"\">Paul Underbrink</a>,\n",
       " <a aria-hidden=\"true\" href=\"https://trailblazers.salesforce.com/profileView?u=00530000001s5p5AAA\" slot=\"figure\" tabindex=\"-1\" tbc-actoritem_actoritem=\"\"><tbc-avatar tbc-actoritem_actoritem=\"\" tbc-avatar_avatar-host=\"\"><tbc-tds-avatar tbc-avatar_avatar=\"\" tds-avatar_avatar-host=\"\"><div tds-avatar_avatar=\"\"><div class=\"avatar avatar--large avatar--user avatar--circle\" tds-avatar_avatar=\"\"><img alt=\"\" class=\"avatar__image\" src=\"https://trailblazers.salesforce.com/ncsphoto/AGHmNbGCib7JEKNZsgq6NniFCq8RvvyPiqC4IO2rHkqAuiPVA7RkNWJZCp-Zza7WKSTvX8usF500wwZfLD7Lxg%3D%3D\" tds-avatar_avatar=\"\"/></div></div></tbc-tds-avatar></tbc-avatar></a>,\n",
       " <a href=\"https://trailblazers.salesforce.com/profileView?u=00530000001s5p5AAA\" rel=\"noopener\" target=\"_blank\" tbc-actoritem_actoritem=\"\">Rob Lofaro</a>,\n",
       " <a aria-hidden=\"true\" href=\"https://trailblazers.salesforce.com/profileView?u=00530000001s65SAAQ\" slot=\"figure\" tabindex=\"-1\" tbc-actoritem_actoritem=\"\"><tbc-avatar tbc-actoritem_actoritem=\"\" tbc-avatar_avatar-host=\"\"><tbc-tds-avatar tbc-avatar_avatar=\"\" tds-avatar_avatar-host=\"\"><div tds-avatar_avatar=\"\"><div class=\"avatar avatar--large avatar--user avatar--circle\" tds-avatar_avatar=\"\"><img alt=\"\" class=\"avatar__image\" src=\"https://trailblazers.salesforce.com/ncsphoto/AGHmNbGCib7JEKNZsgq6Nn7ncQSexHknTV6pJVjtbTxtzRpB9ONKURbrmVwbNNS5R-CE9-guAxW6FTEyMTjnUg%3D%3D\" tds-avatar_avatar=\"\"/></div></div></tbc-tds-avatar></tbc-avatar></a>,\n",
       " <a href=\"https://trailblazers.salesforce.com/profileView?u=00530000001s65SAAQ\" rel=\"noopener\" target=\"_blank\" tbc-actoritem_actoritem=\"\">Marie Rosecrans</a>,\n",
       " <a aria-hidden=\"true\" href=\"https://trailblazers.salesforce.com/profileView?u=00530000001s6NpAAI\" slot=\"figure\" tabindex=\"-1\" tbc-actoritem_actoritem=\"\"><tbc-avatar tbc-actoritem_actoritem=\"\" tbc-avatar_avatar-host=\"\"><tbc-tds-avatar tbc-avatar_avatar=\"\" tds-avatar_avatar-host=\"\"><div tds-avatar_avatar=\"\"><div class=\"avatar avatar--large avatar--user avatar--circle\" tds-avatar_avatar=\"\"><img alt=\"\" class=\"avatar__image\" src=\"https://trailblazers.salesforce.com/ncsphoto/AGHmNbGCib7JEKNZsgq6NuEtV37cvdyybRCkonuwWaMYR8XsYk-EGV9iBuStGbsWe9bzQPMBKaDajaHjVnmW3g%3D%3D\" tds-avatar_avatar=\"\"/></div></div></tbc-tds-avatar></tbc-avatar></a>,\n",
       " <a href=\"https://trailblazers.salesforce.com/profileView?u=00530000001s6NpAAI\" rel=\"noopener\" target=\"_blank\" tbc-actoritem_actoritem=\"\">Stephen Mason</a>,\n",
       " <a aria-hidden=\"true\" href=\"https://trailblazers.salesforce.com/profileView?u=00530000001s6Q0AAI\" slot=\"figure\" tabindex=\"-1\" tbc-actoritem_actoritem=\"\"><tbc-avatar tbc-actoritem_actoritem=\"\" tbc-avatar_avatar-host=\"\"><tbc-tds-avatar tbc-avatar_avatar=\"\" tds-avatar_avatar-host=\"\"><div tds-avatar_avatar=\"\"><div class=\"avatar avatar--large avatar--user avatar--circle\" tds-avatar_avatar=\"\"><img alt=\"\" class=\"avatar__image\" src=\"https://trailblazers.salesforce.com/ncsphoto/AGHmNbGCib7JEKNZsgq6Nv8ZZMYGH8GeelUpscGoAI3trRMi8TcIqIFXRJz4OjUG-HwN7a6f1SVu-DKoF_3_NQ%3D%3D\" tds-avatar_avatar=\"\"/></div></div></tbc-tds-avatar></tbc-avatar></a>,\n",
       " <a href=\"https://trailblazers.salesforce.com/profileView?u=00530000001s6Q0AAI\" rel=\"noopener\" target=\"_blank\" tbc-actoritem_actoritem=\"\">Mike Stubbs-Egginton</a>,\n",
       " <a aria-hidden=\"true\" href=\"https://trailblazers.salesforce.com/profileView?u=00530000001s6eLAAQ\" slot=\"figure\" tabindex=\"-1\" tbc-actoritem_actoritem=\"\"><tbc-avatar tbc-actoritem_actoritem=\"\" tbc-avatar_avatar-host=\"\"><tbc-tds-avatar tbc-avatar_avatar=\"\" tds-avatar_avatar-host=\"\"><div tds-avatar_avatar=\"\"><div class=\"avatar avatar--large avatar--user avatar--circle\" tds-avatar_avatar=\"\"><img alt=\"\" class=\"avatar__image\" src=\"https://trailblazers.salesforce.com/ncsphoto/AGHmNbGCib7JEKNZsgq6NqSOXdBhzmdwi3pxosUhQW1boO_Uvnc7bD-y1u4STVWbQ8byopWVLOGyzlGRCp89iA%3D%3D\" tds-avatar_avatar=\"\"/></div></div></tbc-tds-avatar></tbc-avatar></a>,\n",
       " <a href=\"https://trailblazers.salesforce.com/profileView?u=00530000001s6eLAAQ\" rel=\"noopener\" target=\"_blank\" tbc-actoritem_actoritem=\"\">Jina Chetia</a>,\n",
       " <a aria-hidden=\"true\" href=\"https://trailblazers.salesforce.com/profileView?u=00530000001s6znAAA\" slot=\"figure\" tabindex=\"-1\" tbc-actoritem_actoritem=\"\"><tbc-avatar tbc-actoritem_actoritem=\"\" tbc-avatar_avatar-host=\"\"><tbc-tds-avatar tbc-avatar_avatar=\"\" tds-avatar_avatar-host=\"\"><div tds-avatar_avatar=\"\"><div class=\"avatar avatar--large avatar--user avatar--circle\" tds-avatar_avatar=\"\"><img alt=\"\" class=\"avatar__image\" src=\"https://trailblazers.salesforce.com/ncsphoto/AGHmNbGCib7JEKNZsgq6NvYaP02sNzuOQfw9SkcZbSkonyxpMsO-QETM3VpIWsFen73081yyynYsimdlBLyANA%3D%3D\" tds-avatar_avatar=\"\"/></div></div></tbc-tds-avatar></tbc-avatar></a>,\n",
       " <a href=\"https://trailblazers.salesforce.com/profileView?u=00530000001s6znAAA\" rel=\"noopener\" target=\"_blank\" tbc-actoritem_actoritem=\"\">Adam Kirsh</a>,\n",
       " <a aria-hidden=\"true\" href=\"https://trailblazers.salesforce.com/profileView?u=00530000001s7ALAAY\" slot=\"figure\" tabindex=\"-1\" tbc-actoritem_actoritem=\"\"><tbc-avatar tbc-actoritem_actoritem=\"\" tbc-avatar_avatar-host=\"\"><tbc-tds-avatar tbc-avatar_avatar=\"\" tds-avatar_avatar-host=\"\"><div tds-avatar_avatar=\"\"><div class=\"avatar avatar--large avatar--user avatar--circle\" tds-avatar_avatar=\"\"><img alt=\"\" class=\"avatar__image\" src=\"https://trailblazers.salesforce.com/ncsphoto/AGHmNbGCib7JEKNZsgq6NiOKuWkwxWYgHRs93z62b2lTvl_O8D2ebOTcHJsviz5eGIrVguF42P1qvQKbYo2cKA%3D%3D\" tds-avatar_avatar=\"\"/></div></div></tbc-tds-avatar></tbc-avatar></a>,\n",
       " <a href=\"https://trailblazers.salesforce.com/profileView?u=00530000001s7ALAAY\" rel=\"noopener\" target=\"_blank\" tbc-actoritem_actoritem=\"\">Ellie Mae Services</a>,\n",
       " <a aria-hidden=\"true\" href=\"https://trailblazers.salesforce.com/profileView?u=00530000001s7BJAAY\" slot=\"figure\" tabindex=\"-1\" tbc-actoritem_actoritem=\"\"><tbc-avatar tbc-actoritem_actoritem=\"\" tbc-avatar_avatar-host=\"\"><tbc-tds-avatar tbc-avatar_avatar=\"\" tds-avatar_avatar-host=\"\"><div tds-avatar_avatar=\"\"><div class=\"avatar avatar--large avatar--user avatar--circle\" tds-avatar_avatar=\"\"><img alt=\"\" class=\"avatar__image\" src=\"https://trailblazers.salesforce.com/ncsphoto/AGHmNbGCib7JEKNZsgq6NqySCypl__ZvYvhy6l8aQDoAvQsbpgSFfB3m9q80YL1aXszDGp_YD1d5RGHdPu9psg%3D%3D\" tds-avatar_avatar=\"\"/></div></div></tbc-tds-avatar></tbc-avatar></a>,\n",
       " <a href=\"https://trailblazers.salesforce.com/profileView?u=00530000001s7BJAAY\" rel=\"noopener\" target=\"_blank\" tbc-actoritem_actoritem=\"\">Jennifer Mercer</a>,\n",
       " <a aria-hidden=\"true\" href=\"https://trailblazers.salesforce.com/profileView?u=00530000001s7dVAAQ\" slot=\"figure\" tabindex=\"-1\" tbc-actoritem_actoritem=\"\"><tbc-avatar tbc-actoritem_actoritem=\"\" tbc-avatar_avatar-host=\"\"><tbc-tds-avatar tbc-avatar_avatar=\"\" tds-avatar_avatar-host=\"\"><div tds-avatar_avatar=\"\"><div class=\"avatar avatar--large avatar--user avatar--circle\" tds-avatar_avatar=\"\"><img alt=\"\" class=\"avatar__image\" src=\"https://trailblazers.salesforce.com/ncsphoto/AGHmNbGCib7JEKNZsgq6Nv39xrV9jQbkfSbWHfRmaL-ZEzGTyHBW9Pje4KgieXdQi9k-U26HQY3dQVmv7AfFAw%3D%3D\" tds-avatar_avatar=\"\"/></div></div></tbc-tds-avatar></tbc-avatar></a>,\n",
       " <a href=\"https://trailblazers.salesforce.com/profileView?u=00530000001s7dVAAQ\" rel=\"noopener\" target=\"_blank\" tbc-actoritem_actoritem=\"\">Todd Smithee</a>,\n",
       " <a aria-hidden=\"true\" href=\"https://trailblazers.salesforce.com/profileView?u=00530000001s7pfAAA\" slot=\"figure\" tabindex=\"-1\" tbc-actoritem_actoritem=\"\"><tbc-avatar tbc-actoritem_actoritem=\"\" tbc-avatar_avatar-host=\"\"><tbc-tds-avatar tbc-avatar_avatar=\"\" tds-avatar_avatar-host=\"\"><div tds-avatar_avatar=\"\"><div class=\"avatar avatar--large avatar--user avatar--circle\" tds-avatar_avatar=\"\"><img alt=\"\" class=\"avatar__image\" src=\"https://trailblazers.salesforce.com/ncsphoto/AGHmNbGCib7JEKNZsgq6NrSfMHzYTiMWNNvcS3oEcbxZvnTyOxdM_VlzgAl3z3P0GGT0f2YgsxP5ZBoOuqyUfw%3D%3D\" tds-avatar_avatar=\"\"/></div></div></tbc-tds-avatar></tbc-avatar></a>,\n",
       " <a href=\"https://trailblazers.salesforce.com/profileView?u=00530000001s7pfAAA\" rel=\"noopener\" target=\"_blank\" tbc-actoritem_actoritem=\"\">Leslie Tom</a>,\n",
       " <a aria-hidden=\"true\" href=\"https://trailblazers.salesforce.com/profileView?u=00530000001s88aAAA\" slot=\"figure\" tabindex=\"-1\" tbc-actoritem_actoritem=\"\"><tbc-avatar tbc-actoritem_actoritem=\"\" tbc-avatar_avatar-host=\"\"><tbc-tds-avatar tbc-avatar_avatar=\"\" tds-avatar_avatar-host=\"\"><div tds-avatar_avatar=\"\"><div class=\"avatar avatar--large avatar--user avatar--circle\" tds-avatar_avatar=\"\"><img alt=\"\" class=\"avatar__image\" src=\"https://trailblazers.salesforce.com/ncsphoto/AGHmNbGCib7JEKNZsgq6Np03bHDJDgJuKg3cLmhO_7toNm9VSJ2JWi4p3k7J9rxXQfcXr78EaBhfQhwOwQXV6g%3D%3D\" tds-avatar_avatar=\"\"/></div></div></tbc-tds-avatar></tbc-avatar></a>,\n",
       " <a href=\"https://trailblazers.salesforce.com/profileView?u=00530000001s88aAAA\" rel=\"noopener\" target=\"_blank\" tbc-actoritem_actoritem=\"\">Brad Banyas</a>,\n",
       " <a aria-hidden=\"true\" href=\"https://trailblazers.salesforce.com/profileView?u=00530000001s8A2AAI\" slot=\"figure\" tabindex=\"-1\" tbc-actoritem_actoritem=\"\"><tbc-avatar tbc-actoritem_actoritem=\"\" tbc-avatar_avatar-host=\"\"><tbc-tds-avatar tbc-avatar_avatar=\"\" tds-avatar_avatar-host=\"\"><div tds-avatar_avatar=\"\"><div class=\"avatar avatar--large avatar--user avatar--circle\" tds-avatar_avatar=\"\"><img alt=\"\" class=\"avatar__image\" src=\"https://trailblazers.salesforce.com/ncsphoto/AGHmNbGCib7JEKNZsgq6NnopPt61sri2kWXmu1X4isSZ1giEQ9CGZzM9VG2WFIfKZo4gfCIeB1U8zQLhavq3Dg%3D%3D\" tds-avatar_avatar=\"\"/></div></div></tbc-tds-avatar></tbc-avatar></a>,\n",
       " <a href=\"https://trailblazers.salesforce.com/profileView?u=00530000001s8A2AAI\" rel=\"noopener\" target=\"_blank\" tbc-actoritem_actoritem=\"\">Stephen Wyman</a>,\n",
       " <a aria-hidden=\"true\" href=\"https://trailblazers.salesforce.com/profileView?u=00530000001s8PiAAI\" slot=\"figure\" tabindex=\"-1\" tbc-actoritem_actoritem=\"\"><tbc-avatar tbc-actoritem_actoritem=\"\" tbc-avatar_avatar-host=\"\"><tbc-tds-avatar tbc-avatar_avatar=\"\" tds-avatar_avatar-host=\"\"><div tds-avatar_avatar=\"\"><div class=\"avatar avatar--large avatar--user avatar--circle\" tds-avatar_avatar=\"\"><img alt=\"\" class=\"avatar__image\" src=\"https://trailblazers.salesforce.com/ncsphoto/AGHmNbGCib7JEKNZsgq6NuZ1YyCpXj1kw7320U30E9wdV7CbNzvs3uIHLruKkkRzXA2Ot6RhSFhGcpoWcRkbjw%3D%3D\" tds-avatar_avatar=\"\"/></div></div></tbc-tds-avatar></tbc-avatar></a>,\n",
       " <a href=\"https://trailblazers.salesforce.com/profileView?u=00530000001s8PiAAI\" rel=\"noopener\" target=\"_blank\" tbc-actoritem_actoritem=\"\">Douglas Porta</a>,\n",
       " <a aria-hidden=\"true\" href=\"https://trailblazers.salesforce.com/profileView?u=00530000001s8PmAAI\" slot=\"figure\" tabindex=\"-1\" tbc-actoritem_actoritem=\"\"><tbc-avatar tbc-actoritem_actoritem=\"\" tbc-avatar_avatar-host=\"\"><tbc-tds-avatar tbc-avatar_avatar=\"\" tds-avatar_avatar-host=\"\"><div tds-avatar_avatar=\"\"><div class=\"avatar avatar--large avatar--user avatar--circle\" tds-avatar_avatar=\"\"><img alt=\"\" class=\"avatar__image\" src=\"https://trailblazers.salesforce.com/ncsphoto/AGHmNbGCib7JEKNZsgq6NvIDqmtzLNSLb0I7q22smsXpUnGBsJyZfO0spqkPnjPSC_8rjwPX42HsX0BkfexDzQ%3D%3D\" tds-avatar_avatar=\"\"/></div></div></tbc-tds-avatar></tbc-avatar></a>,\n",
       " <a href=\"https://trailblazers.salesforce.com/profileView?u=00530000001s8PmAAI\" rel=\"noopener\" target=\"_blank\" tbc-actoritem_actoritem=\"\">Todd Bialous</a>,\n",
       " <a aria-hidden=\"true\" href=\"https://trailblazers.salesforce.com/profileView?u=00530000001s8QhAAI\" slot=\"figure\" tabindex=\"-1\" tbc-actoritem_actoritem=\"\"><tbc-avatar tbc-actoritem_actoritem=\"\" tbc-avatar_avatar-host=\"\"><tbc-tds-avatar tbc-avatar_avatar=\"\" tds-avatar_avatar-host=\"\"><div tds-avatar_avatar=\"\"><div class=\"avatar avatar--large avatar--user avatar--circle\" tds-avatar_avatar=\"\"><img alt=\"\" class=\"avatar__image\" src=\"https://trailblazers.salesforce.com/ncsphoto/AGHmNbGCib7JEKNZsgq6NnpvryfyXH-he9UyNno4TSjKrHUiBN-Z-gijvn2LJm2hP1-BS-i-t2BFviUtT-ChrQ%3D%3D\" tds-avatar_avatar=\"\"/></div></div></tbc-tds-avatar></tbc-avatar></a>,\n",
       " <a href=\"https://trailblazers.salesforce.com/profileView?u=00530000001s8QhAAI\" rel=\"noopener\" target=\"_blank\" tbc-actoritem_actoritem=\"\">Adrian Juergens</a>]"
      ]
     },
     "execution_count": 33,
     "metadata": {},
     "output_type": "execute_result"
    }
   ],
   "source": [
    "bs.find_all('a', {'href': re.compile('https://trailblazers.salesforce.com/profileView?')})"
   ]
  },
  {
   "cell_type": "code",
   "execution_count": 264,
   "metadata": {},
   "outputs": [
    {
     "data": {
      "text/plain": [
       "<selenium.webdriver.chrome.webdriver.WebDriver (session=\"1ae37cf17367db46c21717934640c50f\")>"
      ]
     },
     "execution_count": 264,
     "metadata": {},
     "output_type": "execute_result"
    }
   ],
   "source": [
    "driver"
   ]
  },
  {
   "cell_type": "code",
   "execution_count": 265,
   "metadata": {},
   "outputs": [],
   "source": [
    "bs = BeautifulSoup(driver.page_source, 'html.parser')"
   ]
  },
  {
   "cell_type": "code",
   "execution_count": 266,
   "metadata": {},
   "outputs": [
    {
     "data": {
      "text/plain": [
       "41684"
      ]
     },
     "execution_count": 266,
     "metadata": {},
     "output_type": "execute_result"
    }
   ],
   "source": [
    "len(bs.find_all('a', {'href': re.compile('https://trailblazers.salesforce.com/profileView?')}))"
   ]
  },
  {
   "cell_type": "code",
   "execution_count": 267,
   "metadata": {},
   "outputs": [],
   "source": [
    "for person in bs.find_all('a', {'href': re.compile('https://trailblazers.salesforce.com/profileView?')}):\n",
    "    if persons.get(person):\n",
    "        continue\n",
    "    persons[person] = f\"{person['href']}\""
   ]
  },
  {
   "cell_type": "code",
   "execution_count": 268,
   "metadata": {},
   "outputs": [
    {
     "data": {
      "text/plain": [
       "41684"
      ]
     },
     "execution_count": 268,
     "metadata": {},
     "output_type": "execute_result"
    }
   ],
   "source": [
    "len(persons)"
   ]
  },
  {
   "cell_type": "code",
   "execution_count": 269,
   "metadata": {},
   "outputs": [],
   "source": [
    "personsList = list(persons.keys())"
   ]
  },
  {
   "cell_type": "code",
   "execution_count": 270,
   "metadata": {},
   "outputs": [],
   "source": [
    "data = {\n",
    "    'persons': personsList\n",
    "}"
   ]
  },
  {
   "cell_type": "code",
   "execution_count": 271,
   "metadata": {},
   "outputs": [],
   "source": [
    "import pandas as pd\n",
    "df = pd.DataFrame(data)"
   ]
  },
  {
   "cell_type": "code",
   "execution_count": 275,
   "metadata": {},
   "outputs": [],
   "source": [
    "df.to_csv('output.csv', index=False)"
   ]
  },
  {
   "cell_type": "code",
   "execution_count": 276,
   "metadata": {},
   "outputs": [],
   "source": [
    "df2 = pd.read_csv('output.csv')"
   ]
  },
  {
   "cell_type": "code",
   "execution_count": 277,
   "metadata": {},
   "outputs": [
    {
     "name": "stdout",
     "output_type": "stream",
     "text": [
      "<class 'pandas.core.frame.DataFrame'>\n",
      "RangeIndex: 41684 entries, 0 to 41683\n",
      "Data columns (total 1 columns):\n",
      " #   Column   Non-Null Count  Dtype \n",
      "---  ------   --------------  ----- \n",
      " 0   persons  41684 non-null  object\n",
      "dtypes: object(1)\n",
      "memory usage: 325.8+ KB\n"
     ]
    }
   ],
   "source": [
    "df2.info()"
   ]
  },
  {
   "cell_type": "code",
   "execution_count": 279,
   "metadata": {},
   "outputs": [
    {
     "data": {
      "text/html": [
       "<div>\n",
       "<style scoped>\n",
       "    .dataframe tbody tr th:only-of-type {\n",
       "        vertical-align: middle;\n",
       "    }\n",
       "\n",
       "    .dataframe tbody tr th {\n",
       "        vertical-align: top;\n",
       "    }\n",
       "\n",
       "    .dataframe thead th {\n",
       "        text-align: right;\n",
       "    }\n",
       "</style>\n",
       "<table border=\"1\" class=\"dataframe\">\n",
       "  <thead>\n",
       "    <tr style=\"text-align: right;\">\n",
       "      <th></th>\n",
       "      <th>persons</th>\n",
       "    </tr>\n",
       "  </thead>\n",
       "  <tbody>\n",
       "    <tr>\n",
       "      <th>0</th>\n",
       "      <td>&lt;a aria-hidden=\"true\" href=\"https://trailblaze...</td>\n",
       "    </tr>\n",
       "    <tr>\n",
       "      <th>1</th>\n",
       "      <td>&lt;a href=\"https://trailblazers.salesforce.com/p...</td>\n",
       "    </tr>\n",
       "    <tr>\n",
       "      <th>2</th>\n",
       "      <td>&lt;a aria-hidden=\"true\" href=\"https://trailblaze...</td>\n",
       "    </tr>\n",
       "    <tr>\n",
       "      <th>3</th>\n",
       "      <td>&lt;a href=\"https://trailblazers.salesforce.com/p...</td>\n",
       "    </tr>\n",
       "    <tr>\n",
       "      <th>4</th>\n",
       "      <td>&lt;a aria-hidden=\"true\" href=\"https://trailblaze...</td>\n",
       "    </tr>\n",
       "    <tr>\n",
       "      <th>...</th>\n",
       "      <td>...</td>\n",
       "    </tr>\n",
       "    <tr>\n",
       "      <th>41679</th>\n",
       "      <td>&lt;a href=\"https://trailblazers.salesforce.com/p...</td>\n",
       "    </tr>\n",
       "    <tr>\n",
       "      <th>41680</th>\n",
       "      <td>&lt;a aria-hidden=\"true\" href=\"https://trailblaze...</td>\n",
       "    </tr>\n",
       "    <tr>\n",
       "      <th>41681</th>\n",
       "      <td>&lt;a href=\"https://trailblazers.salesforce.com/p...</td>\n",
       "    </tr>\n",
       "    <tr>\n",
       "      <th>41682</th>\n",
       "      <td>&lt;a aria-hidden=\"true\" href=\"https://trailblaze...</td>\n",
       "    </tr>\n",
       "    <tr>\n",
       "      <th>41683</th>\n",
       "      <td>&lt;a href=\"https://trailblazers.salesforce.com/p...</td>\n",
       "    </tr>\n",
       "  </tbody>\n",
       "</table>\n",
       "<p>41684 rows × 1 columns</p>\n",
       "</div>"
      ],
      "text/plain": [
       "                                                 persons\n",
       "0      <a aria-hidden=\"true\" href=\"https://trailblaze...\n",
       "1      <a href=\"https://trailblazers.salesforce.com/p...\n",
       "2      <a aria-hidden=\"true\" href=\"https://trailblaze...\n",
       "3      <a href=\"https://trailblazers.salesforce.com/p...\n",
       "4      <a aria-hidden=\"true\" href=\"https://trailblaze...\n",
       "...                                                  ...\n",
       "41679  <a href=\"https://trailblazers.salesforce.com/p...\n",
       "41680  <a aria-hidden=\"true\" href=\"https://trailblaze...\n",
       "41681  <a href=\"https://trailblazers.salesforce.com/p...\n",
       "41682  <a aria-hidden=\"true\" href=\"https://trailblaze...\n",
       "41683  <a href=\"https://trailblazers.salesforce.com/p...\n",
       "\n",
       "[41684 rows x 1 columns]"
      ]
     },
     "execution_count": 279,
     "metadata": {},
     "output_type": "execute_result"
    }
   ],
   "source": [
    "df2"
   ]
  },
  {
   "cell_type": "code",
   "execution_count": 280,
   "metadata": {},
   "outputs": [],
   "source": [
    "driver.close()"
   ]
  },
  {
   "cell_type": "code",
   "execution_count": 284,
   "metadata": {},
   "outputs": [
    {
     "name": "stdout",
     "output_type": "stream",
     "text": [
      "https://trailblazers.salesforce.com/profileView?u=0053A00000DXnWHQA1\n",
      "https://trailblazers.salesforce.com/profileView?u=0053A00000DXnWHQA1\n",
      "https://trailblazers.salesforce.com/profileView?u=0053000000BeeVLAAZ\n",
      "https://trailblazers.salesforce.com/profileView?u=0053000000BeeVLAAZ\n",
      "https://trailblazers.salesforce.com/profileView?u=00530000003ahudAAA\n",
      "https://trailblazers.salesforce.com/profileView?u=00530000003ahudAAA\n",
      "https://trailblazers.salesforce.com/profileView?u=00530000008BnStAAK\n",
      "https://trailblazers.salesforce.com/profileView?u=00530000008BnStAAK\n",
      "https://trailblazers.salesforce.com/profileView?u=0053A00000DLeIlQAL\n",
      "https://trailblazers.salesforce.com/profileView?u=0053A00000DLeIlQAL\n"
     ]
    }
   ],
   "source": [
    "for person in df2['persons'][:10]:\n",
    "    bs = BeautifulSoup(person, 'html.parser')\n",
    "    print(bs.find('a')['href'])"
   ]
  },
  {
   "cell_type": "code",
   "execution_count": null,
   "metadata": {},
   "outputs": [],
   "source": []
  }
 ],
 "metadata": {
  "interpreter": {
   "hash": "369f2c481f4da34e4445cda3fffd2e751bd1c4d706f27375911949ba6bb62e1c"
  },
  "kernelspec": {
   "display_name": "Python 3.10.4 64-bit",
   "language": "python",
   "name": "python3"
  },
  "language_info": {
   "codemirror_mode": {
    "name": "ipython",
    "version": 3
   },
   "file_extension": ".py",
   "mimetype": "text/x-python",
   "name": "python",
   "nbconvert_exporter": "python",
   "pygments_lexer": "ipython3",
   "version": "3.10.4"
  },
  "orig_nbformat": 4
 },
 "nbformat": 4,
 "nbformat_minor": 2
}
