{
 "cells": [
  {
   "cell_type": "code",
   "execution_count": 1,
   "metadata": {},
   "outputs": [],
   "source": [
    "import requests\n",
    "from bs4 import BeautifulSoup\n",
    "import re"
   ]
  },
  {
   "cell_type": "code",
   "execution_count": 21,
   "metadata": {},
   "outputs": [],
   "source": [
    "headers = {\n",
    "    'User-Agent':'Mozilla/5.0 (iPhone; CPU iPhone OS 7_1_2 like Mac OS X) AppleWebKit/537.51.2 (KHTML, like Gecko) Version/7.0 Mobile/11D257 Safari/9537.53',\n",
    "    'Accept':'text/html,application/xhtml+xml,application/xml;q=0.9,image/avif,image/webp,image/apng,*/*;q=0.8,application/signed-exchange;v=b3;q=0.9',\n",
    "    'Accept-Encoding': 'gzip, deflate, br',\n",
    "    'Cookie': '2cf55324-04d2-49eb-bba6-6d35f1d2339f'\n",
    "    }\n",
    "\n",
    "\n",
    "response = requests.get('https://trailhead.salesforce.com/trailblazer-community/groups/0F9300000001sX6CAI?sort=LAST_MODIFIED_DATE_DESC&tab=members', headers=headers)\n",
    "response.raise_for_status()"
   ]
  },
  {
   "cell_type": "code",
   "execution_count": 22,
   "metadata": {},
   "outputs": [],
   "source": [
    "bs = BeautifulSoup(response.text, 'html.parser')"
   ]
  },
  {
   "cell_type": "code",
   "execution_count": 23,
   "metadata": {},
   "outputs": [
    {
     "data": {
      "text/plain": [
       "[]"
      ]
     },
     "execution_count": 23,
     "metadata": {},
     "output_type": "execute_result"
    }
   ],
   "source": [
    "bs.find_all('a', {'href':re.compile('[https://trailblazers.salesforce.com/profileView]')})"
   ]
  },
  {
   "cell_type": "code",
   "execution_count": 25,
   "metadata": {},
   "outputs": [
    {
     "data": {
      "text/plain": [
       "'\\n\\n\\n\\n\\n\\n\\n\\n\\n\\n\\n\\n\\n\\n\\n\\n\\n\\n\\n\\n\\n\\n\\n\\n\\n\\n\\n\\n\\n\\n\\n\\n\\n\\n\\n\\n\\n\\n\\n\\n\\n\\n\\n\\n\\n\\n\\n\\n\\n\\n\\n\\n\\n\\n\\n\\nGroup Detail | Salesforce Trailblazer Community\\n\\n\\n\\n\\n\\n\\n\\n\\n\\n\\n\\n\\n\\n\\n\\n\\n\\n\\n\\n\\n\\n\\n\\n\\n\\n\\n\\n\\n\\n\\n\\n\\n\\n\\n\\n\\n\\n\\n\\n\\n\\n\\n\\n'"
      ]
     },
     "execution_count": 25,
     "metadata": {},
     "output_type": "execute_result"
    }
   ],
   "source": [
    "bs.get_text()"
   ]
  },
  {
   "cell_type": "code",
   "execution_count": 2,
   "metadata": {},
   "outputs": [],
   "source": [
    "from selenium import webdriver\n",
    "from selenium.webdriver.chrome.service import Service\n",
    "from webdriver_manager.chrome import ChromeDriverManager\n",
    "from selenium.webdriver.common.by import By\n",
    "\n",
    "driver = webdriver.Chrome(service=Service(ChromeDriverManager().install()))\n",
    "driver.get(\"https://trailhead.salesforce.com/trailblazer-community/groups/0F9300000001sX6CAI?sort=LAST_MODIFIED_DATE_DESC&tab=members\")\n",
    "bs = BeautifulSoup(driver.page_source, 'html.parser')"
   ]
  },
  {
   "cell_type": "code",
   "execution_count": null,
   "metadata": {},
   "outputs": [],
   "source": [
    "bs.find_all('a', {'href':re.compile('^[https://trailblazers.salesforce.com/profileView?]')})"
   ]
  },
  {
   "cell_type": "code",
   "execution_count": 32,
   "metadata": {},
   "outputs": [
    {
     "name": "stdout",
     "output_type": "stream",
     "text": [
      "66\n",
      "56\n"
     ]
    }
   ],
   "source": [
    "print(len(bs.find_all('a')))\n",
    "print(len(bs.find_all('a', {'href': re.compile('https://trailblazers.salesforce.com/profileView?')})))"
   ]
  },
  {
   "cell_type": "code",
   "execution_count": null,
   "metadata": {},
   "outputs": [],
   "source": [
    "bs.find_all('a', {'href': re.compile('https://trailblazers.salesforce.com/profileView?')})"
   ]
  },
  {
   "cell_type": "code",
   "execution_count": 264,
   "metadata": {},
   "outputs": [
    {
     "data": {
      "text/plain": [
       "<selenium.webdriver.chrome.webdriver.WebDriver (session=\"1ae37cf17367db46c21717934640c50f\")>"
      ]
     },
     "execution_count": 264,
     "metadata": {},
     "output_type": "execute_result"
    }
   ],
   "source": [
    "driver"
   ]
  },
  {
   "cell_type": "code",
   "execution_count": 265,
   "metadata": {},
   "outputs": [],
   "source": [
    "bs = BeautifulSoup(driver.page_source, 'html.parser')"
   ]
  },
  {
   "cell_type": "code",
   "execution_count": 266,
   "metadata": {},
   "outputs": [
    {
     "data": {
      "text/plain": [
       "41684"
      ]
     },
     "execution_count": 266,
     "metadata": {},
     "output_type": "execute_result"
    }
   ],
   "source": [
    "len(bs.find_all('a', {'href': re.compile('https://trailblazers.salesforce.com/profileView?')}))"
   ]
  },
  {
   "cell_type": "code",
   "execution_count": 267,
   "metadata": {},
   "outputs": [],
   "source": [
    "for person in bs.find_all('a', {'href': re.compile('https://trailblazers.salesforce.com/profileView?')}):\n",
    "    if persons.get(person):\n",
    "        continue\n",
    "    persons[person] = f\"{person['href']}\""
   ]
  },
  {
   "cell_type": "code",
   "execution_count": 3,
   "metadata": {},
   "outputs": [
    {
     "ename": "NameError",
     "evalue": "name 'persons' is not defined",
     "output_type": "error",
     "traceback": [
      "\u001b[1;31m---------------------------------------------------------------------------\u001b[0m",
      "\u001b[1;31mNameError\u001b[0m                                 Traceback (most recent call last)",
      "\u001b[1;32mc:\\Users\\TARI\\Documents\\GitHub\\python-web-scraping-members-of-trailhead\\main.ipynb Cell 14'\u001b[0m in \u001b[0;36m<cell line: 1>\u001b[1;34m()\u001b[0m\n\u001b[1;32m----> <a href='vscode-notebook-cell:/c%3A/Users/TARI/Documents/GitHub/python-web-scraping-members-of-trailhead/main.ipynb#ch0000013?line=0'>1</a>\u001b[0m \u001b[39mlen\u001b[39m(persons)\n",
      "\u001b[1;31mNameError\u001b[0m: name 'persons' is not defined"
     ]
    }
   ],
   "source": [
    "len(persons)"
   ]
  },
  {
   "cell_type": "code",
   "execution_count": null,
   "metadata": {},
   "outputs": [],
   "source": [
    "personsList = list(persons.keys())"
   ]
  },
  {
   "cell_type": "code",
   "execution_count": 270,
   "metadata": {},
   "outputs": [],
   "source": [
    "data = {\n",
    "    'persons': personsList\n",
    "}"
   ]
  },
  {
   "cell_type": "code",
   "execution_count": 5,
   "metadata": {},
   "outputs": [
    {
     "ename": "NameError",
     "evalue": "name 'data' is not defined",
     "output_type": "error",
     "traceback": [
      "\u001b[1;31m---------------------------------------------------------------------------\u001b[0m",
      "\u001b[1;31mNameError\u001b[0m                                 Traceback (most recent call last)",
      "\u001b[1;32mc:\\Users\\TARI\\Documents\\GitHub\\python-web-scraping-members-of-trailhead\\main.ipynb Cell 17'\u001b[0m in \u001b[0;36m<cell line: 2>\u001b[1;34m()\u001b[0m\n\u001b[0;32m      <a href='vscode-notebook-cell:/c%3A/Users/TARI/Documents/GitHub/python-web-scraping-members-of-trailhead/main.ipynb#ch0000016?line=0'>1</a>\u001b[0m \u001b[39mimport\u001b[39;00m \u001b[39mpandas\u001b[39;00m \u001b[39mas\u001b[39;00m \u001b[39mpd\u001b[39;00m\n\u001b[1;32m----> <a href='vscode-notebook-cell:/c%3A/Users/TARI/Documents/GitHub/python-web-scraping-members-of-trailhead/main.ipynb#ch0000016?line=1'>2</a>\u001b[0m df \u001b[39m=\u001b[39m pd\u001b[39m.\u001b[39mDataFrame(data)\n",
      "\u001b[1;31mNameError\u001b[0m: name 'data' is not defined"
     ]
    }
   ],
   "source": [
    "import pandas as pd\n",
    "df = pd.DataFrame(data)"
   ]
  },
  {
   "cell_type": "code",
   "execution_count": 275,
   "metadata": {},
   "outputs": [],
   "source": [
    "df.to_csv('output.csv', index=False)"
   ]
  },
  {
   "cell_type": "code",
   "execution_count": 6,
   "metadata": {},
   "outputs": [],
   "source": [
    "df2 = pd.read_csv('output.csv')"
   ]
  },
  {
   "cell_type": "code",
   "execution_count": 277,
   "metadata": {},
   "outputs": [
    {
     "name": "stdout",
     "output_type": "stream",
     "text": [
      "<class 'pandas.core.frame.DataFrame'>\n",
      "RangeIndex: 41684 entries, 0 to 41683\n",
      "Data columns (total 1 columns):\n",
      " #   Column   Non-Null Count  Dtype \n",
      "---  ------   --------------  ----- \n",
      " 0   persons  41684 non-null  object\n",
      "dtypes: object(1)\n",
      "memory usage: 325.8+ KB\n"
     ]
    }
   ],
   "source": [
    "df2.info()"
   ]
  },
  {
   "cell_type": "code",
   "execution_count": 279,
   "metadata": {},
   "outputs": [
    {
     "data": {
      "text/html": [
       "<div>\n",
       "<style scoped>\n",
       "    .dataframe tbody tr th:only-of-type {\n",
       "        vertical-align: middle;\n",
       "    }\n",
       "\n",
       "    .dataframe tbody tr th {\n",
       "        vertical-align: top;\n",
       "    }\n",
       "\n",
       "    .dataframe thead th {\n",
       "        text-align: right;\n",
       "    }\n",
       "</style>\n",
       "<table border=\"1\" class=\"dataframe\">\n",
       "  <thead>\n",
       "    <tr style=\"text-align: right;\">\n",
       "      <th></th>\n",
       "      <th>persons</th>\n",
       "    </tr>\n",
       "  </thead>\n",
       "  <tbody>\n",
       "    <tr>\n",
       "      <th>0</th>\n",
       "      <td>&lt;a aria-hidden=\"true\" href=\"https://trailblaze...</td>\n",
       "    </tr>\n",
       "    <tr>\n",
       "      <th>1</th>\n",
       "      <td>&lt;a href=\"https://trailblazers.salesforce.com/p...</td>\n",
       "    </tr>\n",
       "    <tr>\n",
       "      <th>2</th>\n",
       "      <td>&lt;a aria-hidden=\"true\" href=\"https://trailblaze...</td>\n",
       "    </tr>\n",
       "    <tr>\n",
       "      <th>3</th>\n",
       "      <td>&lt;a href=\"https://trailblazers.salesforce.com/p...</td>\n",
       "    </tr>\n",
       "    <tr>\n",
       "      <th>4</th>\n",
       "      <td>&lt;a aria-hidden=\"true\" href=\"https://trailblaze...</td>\n",
       "    </tr>\n",
       "    <tr>\n",
       "      <th>...</th>\n",
       "      <td>...</td>\n",
       "    </tr>\n",
       "    <tr>\n",
       "      <th>41679</th>\n",
       "      <td>&lt;a href=\"https://trailblazers.salesforce.com/p...</td>\n",
       "    </tr>\n",
       "    <tr>\n",
       "      <th>41680</th>\n",
       "      <td>&lt;a aria-hidden=\"true\" href=\"https://trailblaze...</td>\n",
       "    </tr>\n",
       "    <tr>\n",
       "      <th>41681</th>\n",
       "      <td>&lt;a href=\"https://trailblazers.salesforce.com/p...</td>\n",
       "    </tr>\n",
       "    <tr>\n",
       "      <th>41682</th>\n",
       "      <td>&lt;a aria-hidden=\"true\" href=\"https://trailblaze...</td>\n",
       "    </tr>\n",
       "    <tr>\n",
       "      <th>41683</th>\n",
       "      <td>&lt;a href=\"https://trailblazers.salesforce.com/p...</td>\n",
       "    </tr>\n",
       "  </tbody>\n",
       "</table>\n",
       "<p>41684 rows × 1 columns</p>\n",
       "</div>"
      ],
      "text/plain": [
       "                                                 persons\n",
       "0      <a aria-hidden=\"true\" href=\"https://trailblaze...\n",
       "1      <a href=\"https://trailblazers.salesforce.com/p...\n",
       "2      <a aria-hidden=\"true\" href=\"https://trailblaze...\n",
       "3      <a href=\"https://trailblazers.salesforce.com/p...\n",
       "4      <a aria-hidden=\"true\" href=\"https://trailblaze...\n",
       "...                                                  ...\n",
       "41679  <a href=\"https://trailblazers.salesforce.com/p...\n",
       "41680  <a aria-hidden=\"true\" href=\"https://trailblaze...\n",
       "41681  <a href=\"https://trailblazers.salesforce.com/p...\n",
       "41682  <a aria-hidden=\"true\" href=\"https://trailblaze...\n",
       "41683  <a href=\"https://trailblazers.salesforce.com/p...\n",
       "\n",
       "[41684 rows x 1 columns]"
      ]
     },
     "execution_count": 279,
     "metadata": {},
     "output_type": "execute_result"
    }
   ],
   "source": [
    "df2"
   ]
  },
  {
   "cell_type": "code",
   "execution_count": 280,
   "metadata": {},
   "outputs": [],
   "source": [
    "driver.close()"
   ]
  },
  {
   "cell_type": "markdown",
   "metadata": {},
   "source": [
    "https://trailblazers.salesforce.com/profileView?u=0053A00000CMtaQQAT\n",
    "https://trailblazers.salesforce.com/profileView?u=00530000004Nkp6AAC"
   ]
  },
  {
   "cell_type": "code",
   "execution_count": 8,
   "metadata": {},
   "outputs": [],
   "source": [
    "people = []"
   ]
  },
  {
   "cell_type": "code",
   "execution_count": 9,
   "metadata": {},
   "outputs": [],
   "source": [
    "for person in df2['persons']:\n",
    "    bs = BeautifulSoup(person, 'html.parser')\n",
    "    if person not in people:\n",
    "        people.append(bs.find('a')['href'])"
   ]
  },
  {
   "cell_type": "code",
   "execution_count": 10,
   "metadata": {},
   "outputs": [
    {
     "data": {
      "text/plain": [
       "41684"
      ]
     },
     "execution_count": 10,
     "metadata": {},
     "output_type": "execute_result"
    }
   ],
   "source": [
    "len(people)"
   ]
  },
  {
   "cell_type": "code",
   "execution_count": 11,
   "metadata": {},
   "outputs": [],
   "source": [
    "peopleSet = set(people)"
   ]
  },
  {
   "cell_type": "code",
   "execution_count": 12,
   "metadata": {},
   "outputs": [
    {
     "data": {
      "text/plain": [
       "20842"
      ]
     },
     "execution_count": 12,
     "metadata": {},
     "output_type": "execute_result"
    }
   ],
   "source": [
    "len(peopleSet)"
   ]
  },
  {
   "cell_type": "code",
   "execution_count": 13,
   "metadata": {},
   "outputs": [
    {
     "name": "stdout",
     "output_type": "stream",
     "text": [
      "https://trailblazers.salesforce.com/profileView?u=0053000000AJhTmAAL\n",
      "https://trailblazers.salesforce.com/profileView?u=0053A00000CNAe5QAH\n",
      "https://trailblazers.salesforce.com/profileView?u=0053000000AL4PJAA1\n",
      "https://trailblazers.salesforce.com/profileView?u=0053000000B2D3ZAAV\n",
      "https://trailblazers.salesforce.com/profileView?u=00530000009bCGGAA2\n",
      "https://trailblazers.salesforce.com/profileView?u=005300000022x6vAAA\n",
      "https://trailblazers.salesforce.com/profileView?u=0053A00000CNa74QAD\n",
      "https://trailblazers.salesforce.com/profileView?u=0053000000ALTTCAA5\n",
      "https://trailblazers.salesforce.com/profileView?u=0053000000ALCDwAAP\n",
      "https://trailblazers.salesforce.com/profileView?u=0053000000AzlwnAAB\n"
     ]
    }
   ],
   "source": [
    "for person in list(peopleSet)[:10]:\n",
    "    print(person)"
   ]
  },
  {
   "cell_type": "code",
   "execution_count": 146,
   "metadata": {},
   "outputs": [],
   "source": [
    "url = list(peopleSet)[100]"
   ]
  },
  {
   "cell_type": "code",
   "execution_count": 77,
   "metadata": {},
   "outputs": [],
   "source": [
    "response = requests.get('https://trailblazers.salesforce.com/profileView?u=0053000000AJhTmAAL')"
   ]
  },
  {
   "cell_type": "code",
   "execution_count": 286,
   "metadata": {},
   "outputs": [],
   "source": [
    "response.raise_for_status()"
   ]
  },
  {
   "cell_type": "code",
   "execution_count": 105,
   "metadata": {},
   "outputs": [
    {
     "data": {
      "text/plain": [
       "'\\r\\n<!DOCTYPE HTML PUBLIC \"-//W3C//DTD HTML 4.01 Transitional//EN\" \"http://www.w3.org/TR/html4/loose.dtd\">\\n<html>\\n<head>\\n    <meta HTTP-EQUIV=\"PRAGMA\" CONTENT=\"NO-CACHE\">\\n\\n\\n\\n\\n\\n<script>\\nfunction redirectOnLoad() {\\nif (this.SfdcApp && this.SfdcApp.projectOneNavigator) { SfdcApp.projectOneNavigator.handleRedirect(\\'https://trailblazer.me/id/muffy\\'); }  else \\nif (window.location.replace){ \\nwindow.location.replace(\\'https://trailblazer.me/id/muffy\\');\\n} else {\\nwindow.location.href =\\'https://trailblazer.me/id/muffy\\';\\n} \\n} \\nredirectOnLoad();\\n</script>\\n\\n</head>\\n\\n\\n</html>\\n\\n'"
      ]
     },
     "execution_count": 105,
     "metadata": {},
     "output_type": "execute_result"
    }
   ],
   "source": [
    "response.text"
   ]
  },
  {
   "cell_type": "code",
   "execution_count": 14,
   "metadata": {},
   "outputs": [
    {
     "name": "stderr",
     "output_type": "stream",
     "text": [
      "C:\\Users\\TARI\\AppData\\Local\\Temp\\ipykernel_35752\\2897496932.py:3: DeprecationWarning: use options instead of chrome_options\n",
      "  driver = webdriver.Chrome(service=Service(ChromeDriverManager().install()), chrome_options=options)\n"
     ]
    }
   ],
   "source": [
    "from selenium.webdriver.chrome.options import Options\n",
    "options = Options()\n",
    "driver = webdriver.Chrome(service=Service(ChromeDriverManager().install()), chrome_options=options)"
   ]
  },
  {
   "cell_type": "code",
   "execution_count": 147,
   "metadata": {},
   "outputs": [],
   "source": [
    "driver.get(url)"
   ]
  },
  {
   "cell_type": "code",
   "execution_count": 149,
   "metadata": {},
   "outputs": [],
   "source": [
    "bs = BeautifulSoup(driver.page_source, 'html.parser')"
   ]
  },
  {
   "cell_type": "code",
   "execution_count": 130,
   "metadata": {},
   "outputs": [],
   "source": [
    "driver.implicitly_wait(20)"
   ]
  },
  {
   "cell_type": "code",
   "execution_count": 150,
   "metadata": {},
   "outputs": [
    {
     "name": "stdout",
     "output_type": "stream",
     "text": [
      "['Chirag Mehta', 'Director, Product Management at Salesforce', 'Trailblazer Profile']\n"
     ]
    }
   ],
   "source": [
    "print(bs.head.title.text.split(sep=\" - \"))"
   ]
  },
  {
   "cell_type": "code",
   "execution_count": 153,
   "metadata": {},
   "outputs": [
    {
     "name": "stdout",
     "output_type": "stream",
     "text": [
      "['Chirag Mehta', 'Director, Product Management at Salesforce', 'Trailblazer Profile']\n",
      "1\n",
      "1\n",
      "1\n",
      "1\n",
      "1\n",
      "1\n",
      "1\n"
     ]
    }
   ],
   "source": [
    "print(bs.head.title.text.split(sep=\" - \")) #Name #Title #Company\n",
    "initialData = bs.head.title.text.split(sep=\" - \")\n",
    "name = initialData[0].split(sep=' ')\n",
    "if len(name) == 3:\n",
    "    firstNames.append(name[0])\n",
    "    middleNames.append(name[1])\n",
    "    lastNames.append(name[2])\n",
    "elif len(name) == 2:\n",
    "    firstNames.append(name[0])\n",
    "    middleNames.append('NIL')\n",
    "    lastNames.append(name[1])\n",
    "\n",
    "title = initialData[1].split(sep=' at ')\n",
    "titles.append(title[0])\n",
    "companys.append(title[1])\n",
    "\n",
    "#location\n",
    "state = bs.find_all('div', {'class': 'slds-truncate'})[1].get_text() #state\n",
    "country = bs.find_all('div', {'class': 'slds-truncate'})[3].get_text()\n",
    "location = f\"{state}, {country}\"\n",
    "locations.append(location)\n",
    "\n",
    "# role\n",
    "role = bs.find_all('div', {'class': 'slds-truncate'})[2].get_text()\n",
    "roles.append(role)\n",
    "\n",
    "bs.find_all('div', {'class': 'slds-truncate'})[4].get_text() #0 - company\n",
    "# 1 - state,  3- Country, Region\n",
    "# 2 - Role\n",
    "print(len(firstNames))\n",
    "print(len(middleNames))\n",
    "print(len(lastNames))\n",
    "print(len(titles))\n",
    "print(len(companys))\n",
    "print(len(locations))\n",
    "print(len(roles))\n"
   ]
  },
  {
   "cell_type": "code",
   "execution_count": 154,
   "metadata": {},
   "outputs": [
    {
     "data": {
      "text/html": [
       "<div>\n",
       "<style scoped>\n",
       "    .dataframe tbody tr th:only-of-type {\n",
       "        vertical-align: middle;\n",
       "    }\n",
       "\n",
       "    .dataframe tbody tr th {\n",
       "        vertical-align: top;\n",
       "    }\n",
       "\n",
       "    .dataframe thead th {\n",
       "        text-align: right;\n",
       "    }\n",
       "</style>\n",
       "<table border=\"1\" class=\"dataframe\">\n",
       "  <thead>\n",
       "    <tr style=\"text-align: right;\">\n",
       "      <th></th>\n",
       "      <th>firstName</th>\n",
       "      <th>middleName</th>\n",
       "      <th>lastName</th>\n",
       "      <th>title</th>\n",
       "      <th>company</th>\n",
       "      <th>location</th>\n",
       "      <th>role</th>\n",
       "    </tr>\n",
       "  </thead>\n",
       "  <tbody>\n",
       "    <tr>\n",
       "      <th>0</th>\n",
       "      <td>Chirag</td>\n",
       "      <td>NIL</td>\n",
       "      <td>Mehta</td>\n",
       "      <td>Director, Product Management</td>\n",
       "      <td>Salesforce</td>\n",
       "      <td>Salesforce, California</td>\n",
       "      <td>https://www.salesforce.com</td>\n",
       "    </tr>\n",
       "  </tbody>\n",
       "</table>\n",
       "</div>"
      ],
      "text/plain": [
       "  firstName middleName lastName                         title     company  \\\n",
       "0    Chirag        NIL    Mehta  Director, Product Management  Salesforce   \n",
       "\n",
       "                 location                        role  \n",
       "0  Salesforce, California  https://www.salesforce.com  "
      ]
     },
     "execution_count": 154,
     "metadata": {},
     "output_type": "execute_result"
    }
   ],
   "source": [
    "data = {\n",
    "    'firstName': firstNames,\n",
    "    'middleName': middleNames,\n",
    "    'lastName': lastNames,\n",
    "    'title': titles,\n",
    "    'company':companys,\n",
    "    'location':locations,\n",
    "    'role': roles\n",
    "}\n",
    "df = pd.DataFrame(data)\n",
    "df"
   ]
  },
  {
   "cell_type": "code",
   "execution_count": 152,
   "metadata": {},
   "outputs": [],
   "source": [
    "firstNames = []\n",
    "middleNames = []\n",
    "lastNames = []\n",
    "titles = []\n",
    "companys = []\n",
    "locations = []\n",
    "roles = []"
   ]
  },
  {
   "cell_type": "code",
   "execution_count": 156,
   "metadata": {},
   "outputs": [],
   "source": [
    "for i in range(3,len(list(peopleSet)[:20])):\n",
    "    driver.get(list(peopleSet)[i])\n",
    "    bs = BeautifulSoup(driver.page_source, 'html.parser')\n",
    "    with open(f'text{i}.html', 'w', encoding='utf-8') as f:\n",
    "        f.write(str(bs))\n",
    "    \n",
    "    \n",
    "    \n",
    "    "
   ]
  },
  {
   "cell_type": "code",
   "execution_count": 38,
   "metadata": {},
   "outputs": [
    {
     "ename": "NameError",
     "evalue": "name 'w' is not defined",
     "output_type": "error",
     "traceback": [
      "\u001b[1;31m---------------------------------------------------------------------------\u001b[0m",
      "\u001b[1;31mNameError\u001b[0m                                 Traceback (most recent call last)",
      "\u001b[1;32mc:\\Users\\TARI\\Documents\\GitHub\\python-web-scraping-members-of-trailhead\\main.ipynb Cell 38'\u001b[0m in \u001b[0;36m<cell line: 1>\u001b[1;34m()\u001b[0m\n\u001b[1;32m----> <a href='vscode-notebook-cell:/c%3A/Users/TARI/Documents/GitHub/python-web-scraping-members-of-trailhead/main.ipynb#ch0000037?line=0'>1</a>\u001b[0m z \u001b[39m=\u001b[39m w[\u001b[39m2\u001b[39m]\u001b[39m.\u001b[39mfind_all(\u001b[39m'\u001b[39m\u001b[39mdiv\u001b[39m\u001b[39m'\u001b[39m)[\u001b[39m7\u001b[39m]\u001b[39m.\u001b[39mfind_all(\u001b[39m'\u001b[39m\u001b[39mdiv\u001b[39m\u001b[39m'\u001b[39m)[\u001b[39m4\u001b[39m]\u001b[39m.\u001b[39mfind_all(\u001b[39m'\u001b[39m\u001b[39mdiv\u001b[39m\u001b[39m'\u001b[39m)[\u001b[39m0\u001b[39m]\u001b[39m.\u001b[39mfind_all(\u001b[39m'\u001b[39m\u001b[39mdiv\u001b[39m\u001b[39m'\u001b[39m)[\u001b[39m8\u001b[39m]\u001b[39m.\u001b[39mget_text()\n",
      "\u001b[1;31mNameError\u001b[0m: name 'w' is not defined"
     ]
    }
   ],
   "source": [
    "z = w[2].find_all('div')[7].find_all('div')[4].find_all('div')[0].find_all('div')[8].get_text()"
   ]
  },
  {
   "cell_type": "code",
   "execution_count": 411,
   "metadata": {},
   "outputs": [],
   "source": [
    "y = z[7].find_all('div')[4].find_all('div')[0].find_all('div')[8].get_text()"
   ]
  },
  {
   "cell_type": "code",
   "execution_count": 431,
   "metadata": {},
   "outputs": [
    {
     "data": {
      "text/plain": [
       "'Rajasthan'"
      ]
     },
     "execution_count": 431,
     "metadata": {},
     "output_type": "execute_result"
    }
   ],
   "source": [
    "y[4].find_all('div')[0].find_all('div')[8].get_text()"
   ]
  },
  {
   "cell_type": "code",
   "execution_count": 500,
   "metadata": {},
   "outputs": [
    {
     "data": {
      "text/plain": [
       "''"
      ]
     },
     "execution_count": 500,
     "metadata": {},
     "output_type": "execute_result"
    }
   ],
   "source": [
    "bs.find_all('div')[53].get_text()"
   ]
  },
  {
   "cell_type": "code",
   "execution_count": 81,
   "metadata": {},
   "outputs": [],
   "source": [
    "bs = BeautifulSoup(driver.page_source, 'html.parser')"
   ]
  },
  {
   "cell_type": "code",
   "execution_count": 155,
   "metadata": {},
   "outputs": [],
   "source": [
    "with open('text2.html', 'w', encoding='utf-8') as f:\n",
    "    f.write(str(bs))"
   ]
  },
  {
   "cell_type": "code",
   "execution_count": 103,
   "metadata": {},
   "outputs": [
    {
     "data": {
      "text/plain": [
       "'Customer'"
      ]
     },
     "execution_count": 103,
     "metadata": {},
     "output_type": "execute_result"
    }
   ],
   "source": [
    "bs.find_all('div', {'class': 'slds-truncate'})[4].get_text() #0 - company\n",
    "# 1 - state,  3- Country, Region\n",
    "# 2 - Role"
   ]
  },
  {
   "cell_type": "code",
   "execution_count": 99,
   "metadata": {},
   "outputs": [],
   "source": [
    "element = driver.find_element(By.ID, 'aura-directive-id-3')"
   ]
  },
  {
   "cell_type": "code",
   "execution_count": 102,
   "metadata": {},
   "outputs": [
    {
     "data": {
      "text/plain": [
       "[]"
      ]
     },
     "execution_count": 102,
     "metadata": {},
     "output_type": "execute_result"
    }
   ],
   "source": [
    "element.find_elements(By.TAG_NAME, 'button')"
   ]
  },
  {
   "cell_type": "code",
   "execution_count": null,
   "metadata": {},
   "outputs": [],
   "source": []
  }
 ],
 "metadata": {
  "interpreter": {
   "hash": "369f2c481f4da34e4445cda3fffd2e751bd1c4d706f27375911949ba6bb62e1c"
  },
  "kernelspec": {
   "display_name": "Python 3.10.4 64-bit",
   "language": "python",
   "name": "python3"
  },
  "language_info": {
   "codemirror_mode": {
    "name": "ipython",
    "version": 3
   },
   "file_extension": ".py",
   "mimetype": "text/x-python",
   "name": "python",
   "nbconvert_exporter": "python",
   "pygments_lexer": "ipython3",
   "version": "3.10.4"
  },
  "orig_nbformat": 4
 },
 "nbformat": 4,
 "nbformat_minor": 2
}
