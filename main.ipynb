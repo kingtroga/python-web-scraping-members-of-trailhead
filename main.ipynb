{
 "cells": [
  {
   "cell_type": "markdown",
   "metadata": {},
   "source": [
    "# Upwork Project"
   ]
  },
  {
   "cell_type": "markdown",
   "metadata": {},
   "source": [
    "### Import the neccessary libraries"
   ]
  },
  {
   "cell_type": "code",
   "execution_count": null,
   "metadata": {},
   "outputs": [],
   "source": [
    "from selenium import webdriver\n",
    "from selenium.webdriver.chrome.service import Service\n",
    "from webdriver_manager.chrome import ChromeDriverManager\n",
    "from selenium.webdriver.common.by import By\n",
    "from bs4 import BeautifulSoup\n",
    "import pandas as pd"
   ]
  },
  {
   "cell_type": "code",
   "execution_count": 334,
   "metadata": {},
   "outputs": [],
   "source": [
    "### Load up page"
   ]
  },
  {
   "cell_type": "code",
   "execution_count": 2,
   "metadata": {},
   "outputs": [],
   "source": [
    "driver = webdriver.Chrome(service=Service(ChromeDriverManager().install()))\n",
    "driver.get(\"https://trailhead.salesforce.com/trailblazer-community/groups/0F9300000001sX6CAI?sort=LAST_MODIFIED_DATE_DESC&tab=members\")\n",
    "bs = BeautifulSoup(driver.page_source, 'html.parser')"
   ]
  },
  {
   "cell_type": "markdown",
   "metadata": {},
   "source": [
    "### manaully press the show more button then check for how many candiates profile pages you have gotten"
   ]
  },
  {
   "cell_type": "code",
   "execution_count": 264,
   "metadata": {},
   "outputs": [
    {
     "data": {
      "text/plain": [
       "<selenium.webdriver.chrome.webdriver.WebDriver (session=\"1ae37cf17367db46c21717934640c50f\")>"
      ]
     },
     "execution_count": 264,
     "metadata": {},
     "output_type": "execute_result"
    }
   ],
   "source": [
    "driver"
   ]
  },
  {
   "cell_type": "code",
   "execution_count": 265,
   "metadata": {},
   "outputs": [],
   "source": [
    "bs = BeautifulSoup(driver.page_source, 'html.parser')"
   ]
  },
  {
   "cell_type": "code",
   "execution_count": 266,
   "metadata": {},
   "outputs": [
    {
     "data": {
      "text/plain": [
       "41684"
      ]
     },
     "execution_count": 266,
     "metadata": {},
     "output_type": "execute_result"
    }
   ],
   "source": [
    "len(bs.find_all('a', {'href': re.compile('https://trailblazers.salesforce.com/profileView?')}))"
   ]
  },
  {
   "cell_type": "markdown",
   "metadata": {},
   "source": [
    "### Keep the links to each person's profile page in a dictionary and check if the numbers of people remain the same"
   ]
  },
  {
   "cell_type": "code",
   "execution_count": null,
   "metadata": {},
   "outputs": [],
   "source": [
    "persons = {} #run this cell once and only once\n",
    "# probably delete comment after you run once"
   ]
  },
  {
   "cell_type": "code",
   "execution_count": 267,
   "metadata": {},
   "outputs": [],
   "source": [
    "for person in bs.find_all('a', {'href': re.compile('https://trailblazers.salesforce.com/profileView?')}):\n",
    "    if persons.get(person):\n",
    "        continue\n",
    "    persons[person] = f\"{person['href']}\""
   ]
  },
  {
   "cell_type": "code",
   "execution_count": 3,
   "metadata": {},
   "outputs": [
    {
     "ename": "NameError",
     "evalue": "name 'persons' is not defined",
     "output_type": "error",
     "traceback": [
      "\u001b[1;31m---------------------------------------------------------------------------\u001b[0m",
      "\u001b[1;31mNameError\u001b[0m                                 Traceback (most recent call last)",
      "\u001b[1;32mc:\\Users\\TARI\\Documents\\GitHub\\python-web-scraping-members-of-trailhead\\main.ipynb Cell 14'\u001b[0m in \u001b[0;36m<cell line: 1>\u001b[1;34m()\u001b[0m\n\u001b[1;32m----> <a href='vscode-notebook-cell:/c%3A/Users/TARI/Documents/GitHub/python-web-scraping-members-of-trailhead/main.ipynb#ch0000013?line=0'>1</a>\u001b[0m \u001b[39mlen\u001b[39m(persons)\n",
      "\u001b[1;31mNameError\u001b[0m: name 'persons' is not defined"
     ]
    }
   ],
   "source": [
    "len(persons)"
   ]
  },
  {
   "cell_type": "markdown",
   "metadata": {},
   "source": [
    "### Use the dictornary keys to make a csv file to keep the link to each person's profile"
   ]
  },
  {
   "cell_type": "code",
   "execution_count": null,
   "metadata": {},
   "outputs": [],
   "source": [
    "personsList = list(persons.keys())"
   ]
  },
  {
   "cell_type": "code",
   "execution_count": 270,
   "metadata": {},
   "outputs": [],
   "source": [
    "data = {\n",
    "    'persons': personsList\n",
    "}"
   ]
  },
  {
   "cell_type": "code",
   "execution_count": 5,
   "metadata": {},
   "outputs": [
    {
     "ename": "NameError",
     "evalue": "name 'data' is not defined",
     "output_type": "error",
     "traceback": [
      "\u001b[1;31m---------------------------------------------------------------------------\u001b[0m",
      "\u001b[1;31mNameError\u001b[0m                                 Traceback (most recent call last)",
      "\u001b[1;32mc:\\Users\\TARI\\Documents\\GitHub\\python-web-scraping-members-of-trailhead\\main.ipynb Cell 17'\u001b[0m in \u001b[0;36m<cell line: 2>\u001b[1;34m()\u001b[0m\n\u001b[0;32m      <a href='vscode-notebook-cell:/c%3A/Users/TARI/Documents/GitHub/python-web-scraping-members-of-trailhead/main.ipynb#ch0000016?line=0'>1</a>\u001b[0m \u001b[39mimport\u001b[39;00m \u001b[39mpandas\u001b[39;00m \u001b[39mas\u001b[39;00m \u001b[39mpd\u001b[39;00m\n\u001b[1;32m----> <a href='vscode-notebook-cell:/c%3A/Users/TARI/Documents/GitHub/python-web-scraping-members-of-trailhead/main.ipynb#ch0000016?line=1'>2</a>\u001b[0m df \u001b[39m=\u001b[39m pd\u001b[39m.\u001b[39mDataFrame(data)\n",
      "\u001b[1;31mNameError\u001b[0m: name 'data' is not defined"
     ]
    }
   ],
   "source": [
    "\n",
    "df = pd.DataFrame(data)"
   ]
  },
  {
   "cell_type": "code",
   "execution_count": 275,
   "metadata": {},
   "outputs": [],
   "source": [
    "df.to_csv('output.csv', index=False)"
   ]
  },
  {
   "cell_type": "markdown",
   "metadata": {},
   "source": [
    "# Read the data into python for the real work to begin"
   ]
  },
  {
   "cell_type": "code",
   "execution_count": 335,
   "metadata": {},
   "outputs": [],
   "source": [
    "df2 = pd.read_csv('output.csv')"
   ]
  },
  {
   "cell_type": "code",
   "execution_count": 338,
   "metadata": {},
   "outputs": [
    {
     "name": "stdout",
     "output_type": "stream",
     "text": [
      "<class 'pandas.core.frame.DataFrame'>\n",
      "RangeIndex: 41684 entries, 0 to 41683\n",
      "Data columns (total 1 columns):\n",
      " #   Column   Non-Null Count  Dtype \n",
      "---  ------   --------------  ----- \n",
      " 0   persons  41684 non-null  object\n",
      "dtypes: object(1)\n",
      "memory usage: 325.8+ KB\n"
     ]
    }
   ],
   "source": [
    "\n",
    "df2.info()\n"
   ]
  },
  {
   "cell_type": "code",
   "execution_count": 341,
   "metadata": {},
   "outputs": [],
   "source": [
    "people = []"
   ]
  },
  {
   "cell_type": "code",
   "execution_count": 342,
   "metadata": {},
   "outputs": [],
   "source": [
    "for person in df2['persons']:\n",
    "    bs = BeautifulSoup(person, 'html.parser')\n",
    "    if person not in people:\n",
    "        people.append(bs.find('a')['href'])"
   ]
  },
  {
   "cell_type": "code",
   "execution_count": 343,
   "metadata": {},
   "outputs": [
    {
     "data": {
      "text/plain": [
       "41684"
      ]
     },
     "execution_count": 343,
     "metadata": {},
     "output_type": "execute_result"
    }
   ],
   "source": [
    "len(people)"
   ]
  },
  {
   "cell_type": "markdown",
   "metadata": {},
   "source": [
    "### A bit of playing around revealed that I had duplicate data so I used a set to get rid of it"
   ]
  },
  {
   "cell_type": "code",
   "execution_count": 344,
   "metadata": {},
   "outputs": [],
   "source": [
    "peopleSet = set(people)"
   ]
  },
  {
   "cell_type": "code",
   "execution_count": 345,
   "metadata": {},
   "outputs": [
    {
     "data": {
      "text/plain": [
       "20842"
      ]
     },
     "execution_count": 345,
     "metadata": {},
     "output_type": "execute_result"
    }
   ],
   "source": [
    "len(peopleSet)"
   ]
  },
  {
   "cell_type": "markdown",
   "metadata": {},
   "source": [
    "# Algorithm and Test\n",
    "- Create a list for each of the columns needed\n",
    "- For each Person\n",
    "  1. Get Person's profile page\n",
    "  2. Make bs object with person's profile page\n",
    "  3. With the bs object\n",
    "    - getPersonName(bs)\n",
    "    - getPersonTitleCompany(bs)\n",
    "    - getPersonLocation(bs)\n",
    "    - getPersonSML(bs)\n",
    "    - getCompanyWebsite(bs)\n",
    "    - getCompanySize(bs)\n",
    "    - getPersonRole(bs)\n",
    "  4. append all each data to it's affliated list respectfully.\n",
    "\n",
    "- use the lists to create a Data dictionary\n",
    "- use the dict to create csv file\n"
   ]
  },
  {
   "cell_type": "code",
   "execution_count": 346,
   "metadata": {},
   "outputs": [
    {
     "data": {
      "text/plain": [
       "20842"
      ]
     },
     "execution_count": 346,
     "metadata": {},
     "output_type": "execute_result"
    }
   ],
   "source": [
    "peopleSetList = list(peopleSet)\n",
    "len(peopleSetList)"
   ]
  },
  {
   "cell_type": "code",
   "execution_count": 13,
   "metadata": {},
   "outputs": [
    {
     "name": "stdout",
     "output_type": "stream",
     "text": [
      "https://trailblazers.salesforce.com/profileView?u=0053000000AJhTmAAL\n",
      "https://trailblazers.salesforce.com/profileView?u=0053A00000CNAe5QAH\n",
      "https://trailblazers.salesforce.com/profileView?u=0053000000AL4PJAA1\n",
      "https://trailblazers.salesforce.com/profileView?u=0053000000B2D3ZAAV\n",
      "https://trailblazers.salesforce.com/profileView?u=00530000009bCGGAA2\n",
      "https://trailblazers.salesforce.com/profileView?u=005300000022x6vAAA\n",
      "https://trailblazers.salesforce.com/profileView?u=0053A00000CNa74QAD\n",
      "https://trailblazers.salesforce.com/profileView?u=0053000000ALTTCAA5\n",
      "https://trailblazers.salesforce.com/profileView?u=0053000000ALCDwAAP\n",
      "https://trailblazers.salesforce.com/profileView?u=0053000000AzlwnAAB\n"
     ]
    }
   ],
   "source": [
    "for person in list(peopleSet)[:10]:\n",
    "    print(person)"
   ]
  },
  {
   "cell_type": "code",
   "execution_count": 300,
   "metadata": {},
   "outputs": [],
   "source": [
    "url = list(peopleSet)[13]"
   ]
  },
  {
   "cell_type": "code",
   "execution_count": 301,
   "metadata": {},
   "outputs": [],
   "source": [
    "driver.get(url)"
   ]
  },
  {
   "cell_type": "code",
   "execution_count": 348,
   "metadata": {},
   "outputs": [],
   "source": [
    "bs = BeautifulSoup(driver.page_source, 'html.parser')"
   ]
  },
  {
   "cell_type": "code",
   "execution_count": 357,
   "metadata": {},
   "outputs": [
    {
     "name": "stdout",
     "output_type": "stream",
     "text": [
      "['Cyril LOUIS', 'CEO at Mavericx.ch | Salesforce MVP & Salesforce Platform Champion at Mavericx.ch', 'Geneva, CH User Group Leader', 'Trailblazer Profile']\n",
      "('Cyril', 'NIL', 'LOUIS')\n",
      "('CEO, Salesforce MVP & Salesforce Platform Champion', 'Mavericx.ch, Mavericx.ch')\n",
      "Switzerland\n",
      "https://www.linkedin.com/in/cyrillouis , https://www.twitter.com/cyril_louis , http://www.mavericx.ch\n",
      "\n",
      "101-500 employees\n",
      "Executive\n"
     ]
    }
   ],
   "source": [
    "print(bs.head.title.text.split(sep=\" - \"))\n",
    "\n",
    "print(getPersonName(bs))\n",
    "print(getPersonTitleCompany(bs))\n",
    "print(getPersonLocation(bs))\n",
    "print(getPersonSML(bs))\n",
    "print(getCompanyWebsite(bs))\n",
    "print(getCompanySize(bs))\n",
    "print(getPersonRole(bs))\n"
   ]
  },
  {
   "cell_type": "markdown",
   "metadata": {},
   "source": [
    "# Functions"
   ]
  },
  {
   "cell_type": "code",
   "execution_count": 555,
   "metadata": {},
   "outputs": [],
   "source": [
    "def getPersonName(bs):\n",
    "    \n",
    "    if bs == None:\n",
    "        return 'NIL'\n",
    "\n",
    "    try:\n",
    "        initialData = bs.html.head.title.text.split(sep=\" - \")[0]\n",
    "        name = initialData.split(sep=' ')\n",
    "    except AttributeError:\n",
    "        return 'NIL'\n",
    "\n",
    "    firstName = ''\n",
    "    lastName = ''\n",
    "    middleName = ''\n",
    "\n",
    "    if len(name) == 3:\n",
    "        firstName = name[0]\n",
    "        middleName = name[1]\n",
    "        lastName = name[2]\n",
    "        \n",
    "        \n",
    "    elif len(name) == 2:\n",
    "        firstName = name[0]\n",
    "        middleName= 'NIL'\n",
    "        lastName= name[1]\n",
    "        \n",
    "    return firstName, middleName, lastName\n",
    "\n",
    "    "
   ]
  },
  {
   "cell_type": "code",
   "execution_count": 556,
   "metadata": {},
   "outputs": [],
   "source": [
    "def getPersonCompany(bs):\n",
    "    if bs == None:\n",
    "        return 'NIL'\n",
    "        \n",
    "    company = 'NIL'\n",
    "    for i in range(0, len(bs.find_all('div', {'class': 'tds-text_bold tds-text-size_4 tds-font-size_bold slds-show_inline-block'}))):\n",
    "        counter = bs.find_all('div', {'class': 'tds-text_bold tds-text-size_4 tds-font-size_bold slds-show_inline-block'})[i].get_text()\n",
    "\n",
    "        if counter == 'Company':\n",
    "            company = bs.find_all('div', {'class': 'slds-truncate'})[i].get_text()\n",
    "            if company == None: company = 'NIL'\n",
    "            \n",
    "    return company"
   ]
  },
  {
   "cell_type": "code",
   "execution_count": 585,
   "metadata": {},
   "outputs": [],
   "source": [
    "def getPersonTitleCompany(bs):\n",
    "    if bs == None:\n",
    "        return 'NIL'\n",
    "        \n",
    "    try:\n",
    "        initialData = bs.html.head.title.text.split(sep=\" - \")\n",
    "        initialDataCount = len(initialData)\n",
    "    except AttributeError:\n",
    "        return 'NIL','NIL'\n",
    "\n",
    "    title = 'NIL'\n",
    "    company = 'NIL'\n",
    "\n",
    "    if initialDataCount == 4:\n",
    "        if title == 'NIL':\n",
    "            title = initialData[1]\n",
    "            company = initialData[2]\n",
    "\n",
    "    elif atExists(initialData):\n",
    "        title, company = getTitleCompanyWithAt(initialData)\n",
    "        \n",
    "\n",
    "    elif onlyCompany(initialData):\n",
    "        title, company = getOnlyCompany(initialData)\n",
    "\n",
    "    elif initialDataCount == 2:\n",
    "        title = 'NIL'\n",
    "        company = 'NIL'\n",
    "    \n",
    "    \n",
    "    return title,company\n",
    "            \n",
    "\n",
    "def atExists(initialData):\n",
    "    if ' at ' in initialData[1]:\n",
    "        return True\n",
    "    return False\n",
    "\n",
    "def getTitleCompanyWithAt(initialData):\n",
    "    atCount = initialData[1].count(' at ')\n",
    "\n",
    "    if atCount < 2:\n",
    "        listOfTitleCompany = initialData[1].split(sep=' at ')\n",
    "        title = listOfTitleCompany[0]\n",
    "        company = listOfTitleCompany[1]\n",
    "\n",
    "    if atCount == 2:\n",
    "        listOfTitleCompany = initialData[1].split(sep=' | ')\n",
    "\n",
    "        firstTitleCompanyList = listOfTitleCompany[0].split(' at ')\n",
    "        firstTitle = firstTitleCompanyList[0]\n",
    "        firstCompany = firstTitleCompanyList[1]\n",
    "\n",
    "        secondTitleCompanyList = listOfTitleCompany[1].split(' at ')\n",
    "        secondTitle = secondTitleCompanyList[0]\n",
    "        secondCompany = secondTitleCompanyList[1]\n",
    "\n",
    "        title = f'{firstTitle}, {secondTitle}'\n",
    "        company = f'{firstCompany}, {secondCompany}'\n",
    "\n",
    "    return title, company\n",
    "\n",
    "def onlyCompany(initialData):\n",
    "    if len(initialData[1].split()) == 1:\n",
    "        if initialData[1].count('.com') > 0:\n",
    "            return True\n",
    "        elif initialData[1].count('.') == 0:\n",
    "            return True\n",
    "    return False\n",
    "\n",
    "def getOnlyCompany(initialData):\n",
    "    title = 'NIL'\n",
    "    company = initialData[1]\n",
    "    return title, company\n",
    "    "
   ]
  },
  {
   "cell_type": "code",
   "execution_count": 558,
   "metadata": {},
   "outputs": [],
   "source": [
    "def getPersonLocation(bs):\n",
    "    if bs == None:\n",
    "        return 'NIL'\n",
    "        \n",
    "    state = ''\n",
    "    country = ''\n",
    "    for i in range(0, len(bs.find_all('div', {'class': 'tds-text_bold tds-text-size_4 tds-font-size_bold slds-show_inline-block'}))):\n",
    "        counter = bs.find_all('div', {'class': 'tds-text_bold tds-text-size_4 tds-font-size_bold slds-show_inline-block'})[i].get_text()\n",
    "\n",
    "        if counter == 'Country/Region':\n",
    "            country = bs.find_all('div', {'class': 'slds-truncate'})[i].get_text()\n",
    "        if counter == 'State':\n",
    "            state = bs.find_all('div', {'class': 'slds-truncate'})[i].get_text()\n",
    "\n",
    "    if state != '' and country !='':\n",
    "        return f\"{state}, {country}\"\n",
    "\n",
    "    if state == '' and country !='':\n",
    "        return f'{country}'\n",
    "\n",
    "    if state != '' and country == '':\n",
    "        return f'{state}'\n",
    "\n",
    "    if state == '' and country == '':\n",
    "        return 'NIL'\n"
   ]
  },
  {
   "cell_type": "code",
   "execution_count": 559,
   "metadata": {},
   "outputs": [],
   "source": [
    "def getPersonSML(bs):\n",
    "    if bs == None:\n",
    "        return 'NIL'\n",
    "\n",
    "    SMLCount = len(bs.find_all('a', {'class':'tds-button-social'}))\n",
    "    SML = 'NIL'\n",
    "    listOfSML = []\n",
    "\n",
    "    if SMLCount > 0:\n",
    "        for i in range(0, len(bs.find_all('a', {'class':'tds-button-social'}))):\n",
    "            listOfSML.append(f\"{bs.find_all('a', {'class':'tds-button-social'})[i]['href']}\")\n",
    "\n",
    "        SML = ' , '.join(listOfSML)\n",
    "\n",
    "    return SML\n"
   ]
  },
  {
   "cell_type": "code",
   "execution_count": 603,
   "metadata": {},
   "outputs": [],
   "source": [
    "def getCompanyWebsite(bs):\n",
    "    if bs == None:\n",
    "        return 'NIL'\n",
    "        \n",
    "    companyWebsite = 'NIL'\n",
    "    for i in range(0, len(bs.find_all('div', {'class': 'tds-text_bold tds-text-size_4 tds-font-size_bold slds-show_inline-block'}))):\n",
    "        counter = bs.find_all('div', {'class': 'tds-text_bold tds-text-size_4 tds-font-size_bold slds-show_inline-block'})[i].get_text()\n",
    "\n",
    "        if counter == 'Company Website':\n",
    "            companyWebsite = bs.find_all('div', {'class': 'slds-truncate'})[i].get_text()\n",
    "\n",
    "    return companyWebsite\n",
    "        "
   ]
  },
  {
   "cell_type": "code",
   "execution_count": 561,
   "metadata": {},
   "outputs": [],
   "source": [
    "def getCompanySize(bs):\n",
    "    if bs == None:\n",
    "        return 'NIL'\n",
    "        \n",
    "    companySize = 'NIL'\n",
    "    for i in range(0, len(bs.find_all('div', {'class': 'tds-text_bold tds-text-size_4 tds-font-size_bold slds-show_inline-block'}))):\n",
    "        counter = bs.find_all('div', {'class': 'tds-text_bold tds-text-size_4 tds-font-size_bold slds-show_inline-block'})[i].get_text()\n",
    "\n",
    "        if counter == 'Company Size':\n",
    "            companySize = bs.find_all('div', {'class': 'slds-truncate'})[i].get_text()\n",
    "            \n",
    "    return companySize"
   ]
  },
  {
   "cell_type": "code",
   "execution_count": 562,
   "metadata": {},
   "outputs": [],
   "source": [
    "def getPersonRole(bs):\n",
    "    if bs == None:\n",
    "        return 'NIL'\n",
    "        \n",
    "    role = 'NIL'\n",
    "    for i in range(0, len(bs.find_all('div', {'class': 'tds-text_bold tds-text-size_4 tds-font-size_bold slds-show_inline-block'}))):\n",
    "        counter = bs.find_all('div', {'class': 'tds-text_bold tds-text-size_4 tds-font-size_bold slds-show_inline-block'})[i].get_text()\n",
    "\n",
    "        if counter == 'Role':\n",
    "            role = bs.find_all('div', {'class': 'slds-truncate'})[i].get_text()\n",
    "            if role == None: role = 'NIL'\n",
    "            \n",
    "    return role"
   ]
  },
  {
   "cell_type": "code",
   "execution_count": 476,
   "metadata": {},
   "outputs": [
    {
     "data": {
      "text/plain": [
       "'Company'"
      ]
     },
     "execution_count": 476,
     "metadata": {},
     "output_type": "execute_result"
    }
   ],
   "source": [
    "bs.find_all('div', {'class': 'tds-text_bold tds-text-size_4 tds-font-size_bold slds-show_inline-block'})[0].get_text()"
   ]
  },
  {
   "cell_type": "markdown",
   "metadata": {},
   "source": [
    "# Result"
   ]
  },
  {
   "cell_type": "code",
   "execution_count": 361,
   "metadata": {},
   "outputs": [
    {
     "data": {
      "text/plain": [
       "<selenium.webdriver.chrome.webdriver.WebDriver (session=\"ffd448a4b59d55a0041f17cfb7e6dc0b\")>"
      ]
     },
     "execution_count": 361,
     "metadata": {},
     "output_type": "execute_result"
    }
   ],
   "source": [
    "driver"
   ]
  },
  {
   "cell_type": "code",
   "execution_count": 359,
   "metadata": {},
   "outputs": [
    {
     "data": {
      "text/plain": [
       "20842"
      ]
     },
     "execution_count": 359,
     "metadata": {},
     "output_type": "execute_result"
    }
   ],
   "source": [
    "peopleSetList = list(peopleSet)\n",
    "len(peopleSetList)"
   ]
  },
  {
   "cell_type": "code",
   "execution_count": 478,
   "metadata": {},
   "outputs": [
    {
     "name": "stdout",
     "output_type": "stream",
     "text": [
      "('Greg', 'NIL', 'Enderle')\n",
      "('NIL', 'NIL')\n",
      "Boston Scientific\n",
      "Minnesota, United States\n",
      "NIL\n",
      "NIL\n",
      "NIL\n",
      "Administrator\n"
     ]
    }
   ],
   "source": [
    "print(getPersonName(bs))\n",
    "print(getPersonTitleCompany(bs))\n",
    "print(getPersonCompany(bs))\n",
    "print(getPersonLocation(bs))\n",
    "print(getPersonSML(bs))\n",
    "print(getCompanyWebsite(bs))\n",
    "print(getCompanySize(bs))\n",
    "print(getPersonRole(bs))"
   ]
  },
  {
   "cell_type": "code",
   "execution_count": 610,
   "metadata": {},
   "outputs": [],
   "source": [
    "firstNames = []\n",
    "middleNames = []\n",
    "lastNames = []\n",
    "titles = []\n",
    "companies = []\n",
    "locations = []\n",
    "socialMediaLinks = []\n",
    "companyWebsites = []\n",
    "companySizes = []\n",
    "roles = []"
   ]
  },
  {
   "cell_type": "code",
   "execution_count": 457,
   "metadata": {},
   "outputs": [],
   "source": [
    "import time\n",
    "for person in peopleSetList[:2]:\n",
    "    time.sleep(5)  \n",
    "    driver.get(person)\n",
    "    "
   ]
  },
  {
   "cell_type": "code",
   "execution_count": 607,
   "metadata": {},
   "outputs": [],
   "source": [
    "driver.get(peopleSetList[13]) #6"
   ]
  },
  {
   "cell_type": "code",
   "execution_count": 608,
   "metadata": {},
   "outputs": [],
   "source": [
    "bs = BeautifulSoup(driver.page_source, 'html.parser')"
   ]
  },
  {
   "cell_type": "code",
   "execution_count": 609,
   "metadata": {},
   "outputs": [
    {
     "name": "stdout",
     "output_type": "stream",
     "text": [
      "('Cyril', 'NIL', 'LOUIS')\n",
      "('CEO at Mavericx.ch | Salesforce MVP & Salesforce Platform Champion at Mavericx.ch', 'Geneva, CH User Group Leader')\n",
      "Mavericx.ch - Geneva, CH User Group Leader\n",
      "Switzerland\n",
      "https://www.linkedin.com/in/cyrillouis , https://www.twitter.com/cyril_louis , http://www.mavericx.ch\n",
      "https://www.mavericx.ch\n",
      "101-500 employees\n",
      "Executive\n"
     ]
    }
   ],
   "source": [
    "\n",
    "print(getPersonName(bs))\n",
    "print(getPersonTitleCompany(bs))\n",
    "print(getPersonCompany(bs))\n",
    "print(getPersonLocation(bs))\n",
    "print(getPersonSML(bs))\n",
    "print(getCompanyWebsite(bs))\n",
    "print(getCompanySize(bs))\n",
    "print(getPersonRole(bs))\n"
   ]
  },
  {
   "cell_type": "code",
   "execution_count": 611,
   "metadata": {},
   "outputs": [],
   "source": [
    "i = 1"
   ]
  },
  {
   "cell_type": "code",
   "execution_count": 612,
   "metadata": {},
   "outputs": [
    {
     "name": "stdout",
     "output_type": "stream",
     "text": [
      "1 NAME:  Pranay Tewari\n",
      "TITLE:  AVP Sales\n",
      "COMPANY:  Persistent Systems\n",
      "LOCATION:  New Jersey, United States\n",
      "SOCIAL MEDIUM:  NIL\n",
      "COMPANY WEBSITE:  http://www.persistent.com\n",
      "COMPANY SIZE:  3501+ employees\n",
      "ROLE:  Sales Representative / Manager\n",
      "Person DONE!\n",
      "\n",
      "\n",
      "2 NAME:  Shash Goyal\n",
      "TITLE:  NIL\n",
      "COMPANY:  Salesforce\n",
      "LOCATION:  Indiana, United States\n",
      "SOCIAL MEDIUM:  NIL\n",
      "COMPANY WEBSITE:  NIL\n",
      "COMPANY SIZE:  NIL\n",
      "ROLE:  Executive\n",
      "Person DONE!\n",
      "\n",
      "\n",
      "3 NAME:  Cyril LOUIS\n",
      "TITLE:  CEO at Mavericx.ch | Salesforce MVP & Salesforce Platform Champion at Mavericx.ch\n",
      "COMPANY:  Mavericx.ch - Geneva, CH User Group Leader\n",
      "LOCATION:  Switzerland\n",
      "SOCIAL MEDIUM:  https://www.linkedin.com/in/cyrillouis , https://www.twitter.com/cyril_louis , http://www.mavericx.ch\n",
      "COMPANY WEBSITE:  https://www.mavericx.ch\n",
      "COMPANY SIZE:  101-500 employees\n",
      "ROLE:  Executive\n",
      "Person DONE!\n",
      "\n",
      "\n",
      "DONE!!\n"
     ]
    }
   ],
   "source": [
    "for person in peopleSetList[11:14]:\n",
    "    driver.get(person)\n",
    "    bs = BeautifulSoup(driver.page_source, 'html.parser')\n",
    "\n",
    "\n",
    "    # get values\n",
    "    firstName, middleName, lastName = getPersonName(bs)\n",
    "    print(f\"{i} NAME: \", f'{firstName} {lastName}')\n",
    "\n",
    "    title, _ = getPersonTitleCompany(bs)\n",
    "    print(\"TITLE: \", title)\n",
    "\n",
    "    company = getPersonCompany(bs)\n",
    "    print(\"COMPANY: \", company)\n",
    "\n",
    "    location = getPersonLocation(bs)\n",
    "    print(\"LOCATION: \", location)\n",
    "\n",
    "    socialMedium = getPersonSML(bs)\n",
    "    print(\"SOCIAL MEDIUM: \", socialMedium)\n",
    "\n",
    "    companyWebsite = getCompanyWebsite(bs)\n",
    "    print(\"COMPANY WEBSITE: \", companyWebsite)\n",
    "\n",
    "    companySize = getCompanySize(bs)\n",
    "    print(\"COMPANY SIZE: \", companySize)\n",
    "\n",
    "    role = getPersonRole(bs)\n",
    "    print(\"ROLE: \", role)\n",
    "\n",
    "    #append values\n",
    "    \n",
    "    firstNames.append(firstName)\n",
    "\n",
    "    \n",
    "    middleNames.append(middleName)\n",
    "\n",
    "   \n",
    "    lastNames.append(lastName)\n",
    "\n",
    "    \n",
    "    titles.append(title)\n",
    "\n",
    "\n",
    "\n",
    "    companies.append(company)\n",
    "\n",
    "    locations.append(location)\n",
    "\n",
    "\n",
    "    \n",
    "    socialMediaLinks.append(socialMedium)\n",
    "\n",
    "\n",
    "\n",
    "    companyWebsites.append(companyWebsite)\n",
    "\n",
    "\n",
    "    \n",
    "    companySizes.append(companySize)\n",
    "\n",
    "\n",
    "\n",
    "    roles.append(role)\n",
    "    i = i + 1\n",
    "    print(\"Person DONE!\")\n",
    "    print(\"\\n\")\n",
    "\n",
    "print(\"DONE!!\")\n",
    "    "
   ]
  },
  {
   "cell_type": "code",
   "execution_count": 586,
   "metadata": {},
   "outputs": [],
   "source": [
    "data = {\n",
    "    'First Name': firstNames,\n",
    "    'Middle Name': middleNames,\n",
    "    'Last Name': lastNames,\n",
    "    'Title(s)': titles,\n",
    "    'Company(ies)': companies,\n",
    "    'Location': locations,\n",
    "    'Social Media Links': socialMediaLinks,\n",
    "    'Company Website': companyWebsites,\n",
    "    'Company Size': companySizes,\n",
    "    'Role'  : roles,  \n",
    "}"
   ]
  },
  {
   "cell_type": "code",
   "execution_count": 587,
   "metadata": {},
   "outputs": [
    {
     "name": "stdout",
     "output_type": "stream",
     "text": [
      "24\n",
      "24\n",
      "24\n",
      "\n",
      "\n",
      "24\n",
      "24\n",
      "24\n",
      "24\n",
      "24\n",
      "24\n",
      "24\n"
     ]
    }
   ],
   "source": [
    "print(len(data['First Name']))\n",
    "print(len(data['Last Name']))\n",
    "print(len(data['Middle Name']))\n",
    "\n",
    "print('\\n')\n",
    "print(len(data['Title(s)']))\n",
    "print(len(data['Company(ies)']))\n",
    "\n",
    "\n",
    "print(len(data['Location']))\n",
    "print(len(data['Social Media Links']))\n",
    "\n",
    "print(len(data['Company Website']))\n",
    "print(len(data['Company Size']))\n",
    "print(len(data['Role']))"
   ]
  },
  {
   "cell_type": "code",
   "execution_count": 588,
   "metadata": {},
   "outputs": [],
   "source": [
    "df = pd.DataFrame(data)"
   ]
  },
  {
   "cell_type": "code",
   "execution_count": 589,
   "metadata": {},
   "outputs": [],
   "source": [
    "df.to_csv(\"result1.csv\", index=False)"
   ]
  },
  {
   "cell_type": "code",
   "execution_count": 590,
   "metadata": {},
   "outputs": [
    {
     "data": {
      "text/html": [
       "<div>\n",
       "<style scoped>\n",
       "    .dataframe tbody tr th:only-of-type {\n",
       "        vertical-align: middle;\n",
       "    }\n",
       "\n",
       "    .dataframe tbody tr th {\n",
       "        vertical-align: top;\n",
       "    }\n",
       "\n",
       "    .dataframe thead th {\n",
       "        text-align: right;\n",
       "    }\n",
       "</style>\n",
       "<table border=\"1\" class=\"dataframe\">\n",
       "  <thead>\n",
       "    <tr style=\"text-align: right;\">\n",
       "      <th></th>\n",
       "      <th>First Name</th>\n",
       "      <th>Middle Name</th>\n",
       "      <th>Last Name</th>\n",
       "      <th>Title(s)</th>\n",
       "      <th>Company(ies)</th>\n",
       "      <th>Location</th>\n",
       "      <th>Social Media Links</th>\n",
       "      <th>Company Website</th>\n",
       "      <th>Company Size</th>\n",
       "      <th>Role</th>\n",
       "    </tr>\n",
       "  </thead>\n",
       "  <tbody>\n",
       "    <tr>\n",
       "      <th>0</th>\n",
       "      <td>Muffy</td>\n",
       "      <td>NIL</td>\n",
       "      <td>Pease</td>\n",
       "      <td>Sr. Mgr. Solution Engineers</td>\n",
       "      <td>salesforce</td>\n",
       "      <td>Texas, United States</td>\n",
       "      <td>NIL</td>\n",
       "      <td>NIL</td>\n",
       "      <td>NIL</td>\n",
       "      <td>Executive</td>\n",
       "    </tr>\n",
       "    <tr>\n",
       "      <th>1</th>\n",
       "      <td>Patrick</td>\n",
       "      <td>NIL</td>\n",
       "      <td>Thomas</td>\n",
       "      <td>NIL</td>\n",
       "      <td>NIL</td>\n",
       "      <td>NIL</td>\n",
       "      <td>NIL</td>\n",
       "      <td>NIL</td>\n",
       "      <td>NIL</td>\n",
       "      <td>NIL</td>\n",
       "    </tr>\n",
       "    <tr>\n",
       "      <th>2</th>\n",
       "      <td>Chris</td>\n",
       "      <td>NIL</td>\n",
       "      <td>Shaad</td>\n",
       "      <td>NIL</td>\n",
       "      <td>NIL</td>\n",
       "      <td>NIL</td>\n",
       "      <td>NIL</td>\n",
       "      <td>NIL</td>\n",
       "      <td>NIL</td>\n",
       "      <td>NIL</td>\n",
       "    </tr>\n",
       "    <tr>\n",
       "      <th>3</th>\n",
       "      <td>Greg</td>\n",
       "      <td>NIL</td>\n",
       "      <td>Enderle</td>\n",
       "      <td>NIL</td>\n",
       "      <td>Boston Scientific</td>\n",
       "      <td>Minnesota, United States</td>\n",
       "      <td>NIL</td>\n",
       "      <td>NIL</td>\n",
       "      <td>NIL</td>\n",
       "      <td>Administrator</td>\n",
       "    </tr>\n",
       "    <tr>\n",
       "      <th>4</th>\n",
       "      <td>Jennifer</td>\n",
       "      <td>NIL</td>\n",
       "      <td>Gaynor</td>\n",
       "      <td>Sr. Database Coordinator</td>\n",
       "      <td>PolicyLink</td>\n",
       "      <td>California, United States</td>\n",
       "      <td>NIL</td>\n",
       "      <td>NIL</td>\n",
       "      <td>21-100 employees</td>\n",
       "      <td>Administrator</td>\n",
       "    </tr>\n",
       "    <tr>\n",
       "      <th>5</th>\n",
       "      <td>Dai</td>\n",
       "      <td>NIL</td>\n",
       "      <td>Negishi</td>\n",
       "      <td>VP</td>\n",
       "      <td>Salesforce</td>\n",
       "      <td>Japan</td>\n",
       "      <td>NIL</td>\n",
       "      <td>NIL</td>\n",
       "      <td>NIL</td>\n",
       "      <td>Consultant</td>\n",
       "    </tr>\n",
       "    <tr>\n",
       "      <th>6</th>\n",
       "      <td>Chirag</td>\n",
       "      <td>NIL</td>\n",
       "      <td>Mehta</td>\n",
       "      <td>Director, Product Management</td>\n",
       "      <td>Salesforce</td>\n",
       "      <td>California, United States</td>\n",
       "      <td>https://www.linkedin.com/in/chirag-mehta</td>\n",
       "      <td>NIL</td>\n",
       "      <td>3501+ employees</td>\n",
       "      <td>Executive</td>\n",
       "    </tr>\n",
       "    <tr>\n",
       "      <th>7</th>\n",
       "      <td>Willie</td>\n",
       "      <td>NIL</td>\n",
       "      <td>Joco</td>\n",
       "      <td>NIL</td>\n",
       "      <td>n/a</td>\n",
       "      <td>North Carolina, United States</td>\n",
       "      <td>NIL</td>\n",
       "      <td>NIL</td>\n",
       "      <td>NIL</td>\n",
       "      <td>Developer</td>\n",
       "    </tr>\n",
       "    <tr>\n",
       "      <th>8</th>\n",
       "      <td>Kishore</td>\n",
       "      <td>NIL</td>\n",
       "      <td>Sasidharan</td>\n",
       "      <td>NIL</td>\n",
       "      <td>Salesforce.com</td>\n",
       "      <td>California, United States</td>\n",
       "      <td>NIL</td>\n",
       "      <td>NIL</td>\n",
       "      <td>NIL</td>\n",
       "      <td>Developer</td>\n",
       "    </tr>\n",
       "    <tr>\n",
       "      <th>9</th>\n",
       "      <td>Tracey</td>\n",
       "      <td>NIL</td>\n",
       "      <td>Leathers</td>\n",
       "      <td>Event Coordinator</td>\n",
       "      <td>S&amp;P Consultants, Inc.</td>\n",
       "      <td>Florida, United States</td>\n",
       "      <td>NIL</td>\n",
       "      <td>NIL</td>\n",
       "      <td>NIL</td>\n",
       "      <td>Marketer</td>\n",
       "    </tr>\n",
       "    <tr>\n",
       "      <th>10</th>\n",
       "      <td>Sudheen</td>\n",
       "      <td>NIL</td>\n",
       "      <td>Koyyalummal</td>\n",
       "      <td>Software Engineering Architect</td>\n",
       "      <td>salesforce com inc</td>\n",
       "      <td>California, United States</td>\n",
       "      <td>NIL</td>\n",
       "      <td>NIL</td>\n",
       "      <td>NIL</td>\n",
       "      <td>Architect</td>\n",
       "    </tr>\n",
       "    <tr>\n",
       "      <th>11</th>\n",
       "      <td>Pranay</td>\n",
       "      <td>NIL</td>\n",
       "      <td>Tewari</td>\n",
       "      <td>AVP Sales</td>\n",
       "      <td>Persistent Systems</td>\n",
       "      <td>New Jersey, United States</td>\n",
       "      <td>NIL</td>\n",
       "      <td>NIL</td>\n",
       "      <td>3501+ employees</td>\n",
       "      <td>Sales Representative / Manager</td>\n",
       "    </tr>\n",
       "    <tr>\n",
       "      <th>12</th>\n",
       "      <td>Shash</td>\n",
       "      <td>NIL</td>\n",
       "      <td>Goyal</td>\n",
       "      <td>NIL</td>\n",
       "      <td>Salesforce</td>\n",
       "      <td>Indiana, United States</td>\n",
       "      <td>NIL</td>\n",
       "      <td>NIL</td>\n",
       "      <td>NIL</td>\n",
       "      <td>Executive</td>\n",
       "    </tr>\n",
       "    <tr>\n",
       "      <th>13</th>\n",
       "      <td>Cyril</td>\n",
       "      <td>NIL</td>\n",
       "      <td>LOUIS</td>\n",
       "      <td>CEO at Mavericx.ch | Salesforce MVP &amp; Salesfor...</td>\n",
       "      <td>Mavericx.ch - Geneva, CH User Group Leader</td>\n",
       "      <td>Switzerland</td>\n",
       "      <td>https://www.linkedin.com/in/cyrillouis , https...</td>\n",
       "      <td>NIL</td>\n",
       "      <td>101-500 employees</td>\n",
       "      <td>Executive</td>\n",
       "    </tr>\n",
       "    <tr>\n",
       "      <th>14</th>\n",
       "      <td>Peter</td>\n",
       "      <td>NIL</td>\n",
       "      <td>DeMichele</td>\n",
       "      <td>Senior Marketing Technology Manager</td>\n",
       "      <td>GOJO</td>\n",
       "      <td>Ohio, United States</td>\n",
       "      <td>NIL</td>\n",
       "      <td>NIL</td>\n",
       "      <td>NIL</td>\n",
       "      <td>Marketer</td>\n",
       "    </tr>\n",
       "    <tr>\n",
       "      <th>15</th>\n",
       "      <td>Katherine</td>\n",
       "      <td>(Kui)</td>\n",
       "      <td>Cheng</td>\n",
       "      <td>NIL</td>\n",
       "      <td>Salesforce</td>\n",
       "      <td>California, United States</td>\n",
       "      <td>NIL</td>\n",
       "      <td>NIL</td>\n",
       "      <td>NIL</td>\n",
       "      <td>Developer</td>\n",
       "    </tr>\n",
       "    <tr>\n",
       "      <th>16</th>\n",
       "      <td>Suzanne</td>\n",
       "      <td>NIL</td>\n",
       "      <td>Menard</td>\n",
       "      <td>Sr Director Trialhead Events</td>\n",
       "      <td>Salesforce</td>\n",
       "      <td>Pennsylvania, United States</td>\n",
       "      <td>NIL</td>\n",
       "      <td>NIL</td>\n",
       "      <td>NIL</td>\n",
       "      <td>Marketer</td>\n",
       "    </tr>\n",
       "    <tr>\n",
       "      <th>17</th>\n",
       "      <td>Michael</td>\n",
       "      <td>NIL</td>\n",
       "      <td>Moyes</td>\n",
       "      <td>NIL</td>\n",
       "      <td>Berklee College Of Music</td>\n",
       "      <td>Massachusetts, United States</td>\n",
       "      <td>NIL</td>\n",
       "      <td>NIL</td>\n",
       "      <td>NIL</td>\n",
       "      <td>Executive</td>\n",
       "    </tr>\n",
       "    <tr>\n",
       "      <th>18</th>\n",
       "      <td>Dmitry</td>\n",
       "      <td>NIL</td>\n",
       "      <td>Ostroukhov</td>\n",
       "      <td>Lead ITAM Specialist</td>\n",
       "      <td>Salesforce</td>\n",
       "      <td>California, United States</td>\n",
       "      <td>NIL</td>\n",
       "      <td>NIL</td>\n",
       "      <td>NIL</td>\n",
       "      <td>Data Analyst</td>\n",
       "    </tr>\n",
       "    <tr>\n",
       "      <th>19</th>\n",
       "      <td>Phillip</td>\n",
       "      <td>NIL</td>\n",
       "      <td>Black</td>\n",
       "      <td>Director Software Engineering</td>\n",
       "      <td>Hilton</td>\n",
       "      <td>Tennessee, United States</td>\n",
       "      <td>NIL</td>\n",
       "      <td>NIL</td>\n",
       "      <td>NIL</td>\n",
       "      <td>Architect</td>\n",
       "    </tr>\n",
       "    <tr>\n",
       "      <th>20</th>\n",
       "      <td>Uday</td>\n",
       "      <td>Kirani</td>\n",
       "      <td>Dandu</td>\n",
       "      <td>NIL</td>\n",
       "      <td>NIL</td>\n",
       "      <td>NIL</td>\n",
       "      <td>NIL</td>\n",
       "      <td>NIL</td>\n",
       "      <td>NIL</td>\n",
       "      <td>NIL</td>\n",
       "    </tr>\n",
       "    <tr>\n",
       "      <th>21</th>\n",
       "      <td>Micah</td>\n",
       "      <td>NIL</td>\n",
       "      <td>Joel</td>\n",
       "      <td>NIL</td>\n",
       "      <td>NIL</td>\n",
       "      <td>NIL</td>\n",
       "      <td>NIL</td>\n",
       "      <td>NIL</td>\n",
       "      <td>NIL</td>\n",
       "      <td>NIL</td>\n",
       "    </tr>\n",
       "    <tr>\n",
       "      <th>22</th>\n",
       "      <td>Scott</td>\n",
       "      <td>NIL</td>\n",
       "      <td>Raymond</td>\n",
       "      <td>NIL</td>\n",
       "      <td>Salesforce</td>\n",
       "      <td>Ohio, United States</td>\n",
       "      <td>NIL</td>\n",
       "      <td>NIL</td>\n",
       "      <td>NIL</td>\n",
       "      <td>Administrator</td>\n",
       "    </tr>\n",
       "    <tr>\n",
       "      <th>23</th>\n",
       "      <td>Mohammad</td>\n",
       "      <td>NIL</td>\n",
       "      <td>Hasrat</td>\n",
       "      <td>Lead Salesforce Consultant</td>\n",
       "      <td>Dazeworks Technologies</td>\n",
       "      <td>Uttar Pradesh, India</td>\n",
       "      <td>NIL</td>\n",
       "      <td>NIL</td>\n",
       "      <td>101-500 employees</td>\n",
       "      <td>Architect</td>\n",
       "    </tr>\n",
       "  </tbody>\n",
       "</table>\n",
       "</div>"
      ],
      "text/plain": [
       "   First Name Middle Name    Last Name  \\\n",
       "0       Muffy         NIL        Pease   \n",
       "1     Patrick         NIL       Thomas   \n",
       "2       Chris         NIL        Shaad   \n",
       "3        Greg         NIL      Enderle   \n",
       "4    Jennifer         NIL       Gaynor   \n",
       "5         Dai         NIL      Negishi   \n",
       "6      Chirag         NIL        Mehta   \n",
       "7      Willie         NIL         Joco   \n",
       "8     Kishore         NIL   Sasidharan   \n",
       "9      Tracey         NIL     Leathers   \n",
       "10    Sudheen         NIL  Koyyalummal   \n",
       "11     Pranay         NIL       Tewari   \n",
       "12      Shash         NIL        Goyal   \n",
       "13      Cyril         NIL        LOUIS   \n",
       "14      Peter         NIL    DeMichele   \n",
       "15  Katherine       (Kui)        Cheng   \n",
       "16    Suzanne         NIL       Menard   \n",
       "17    Michael         NIL        Moyes   \n",
       "18     Dmitry         NIL   Ostroukhov   \n",
       "19    Phillip         NIL        Black   \n",
       "20       Uday      Kirani        Dandu   \n",
       "21      Micah         NIL         Joel   \n",
       "22      Scott         NIL      Raymond   \n",
       "23   Mohammad         NIL       Hasrat   \n",
       "\n",
       "                                             Title(s)  \\\n",
       "0                         Sr. Mgr. Solution Engineers   \n",
       "1                                                 NIL   \n",
       "2                                                 NIL   \n",
       "3                                                 NIL   \n",
       "4                            Sr. Database Coordinator   \n",
       "5                                                  VP   \n",
       "6                        Director, Product Management   \n",
       "7                                                 NIL   \n",
       "8                                                 NIL   \n",
       "9                                   Event Coordinator   \n",
       "10                     Software Engineering Architect   \n",
       "11                                          AVP Sales   \n",
       "12                                                NIL   \n",
       "13  CEO at Mavericx.ch | Salesforce MVP & Salesfor...   \n",
       "14                Senior Marketing Technology Manager   \n",
       "15                                                NIL   \n",
       "16                       Sr Director Trialhead Events   \n",
       "17                                                NIL   \n",
       "18                               Lead ITAM Specialist   \n",
       "19                      Director Software Engineering   \n",
       "20                                                NIL   \n",
       "21                                                NIL   \n",
       "22                                                NIL   \n",
       "23                         Lead Salesforce Consultant   \n",
       "\n",
       "                                  Company(ies)                       Location  \\\n",
       "0                                   salesforce           Texas, United States   \n",
       "1                                          NIL                            NIL   \n",
       "2                                          NIL                            NIL   \n",
       "3                            Boston Scientific       Minnesota, United States   \n",
       "4                                   PolicyLink      California, United States   \n",
       "5                                   Salesforce                          Japan   \n",
       "6                                   Salesforce      California, United States   \n",
       "7                                          n/a  North Carolina, United States   \n",
       "8                               Salesforce.com      California, United States   \n",
       "9                        S&P Consultants, Inc.         Florida, United States   \n",
       "10                          salesforce com inc      California, United States   \n",
       "11                          Persistent Systems      New Jersey, United States   \n",
       "12                                  Salesforce         Indiana, United States   \n",
       "13  Mavericx.ch - Geneva, CH User Group Leader                    Switzerland   \n",
       "14                                        GOJO            Ohio, United States   \n",
       "15                                  Salesforce      California, United States   \n",
       "16                                  Salesforce    Pennsylvania, United States   \n",
       "17                    Berklee College Of Music   Massachusetts, United States   \n",
       "18                                  Salesforce      California, United States   \n",
       "19                                      Hilton       Tennessee, United States   \n",
       "20                                         NIL                            NIL   \n",
       "21                                         NIL                            NIL   \n",
       "22                                  Salesforce            Ohio, United States   \n",
       "23                      Dazeworks Technologies           Uttar Pradesh, India   \n",
       "\n",
       "                                   Social Media Links Company Website  \\\n",
       "0                                                 NIL             NIL   \n",
       "1                                                 NIL             NIL   \n",
       "2                                                 NIL             NIL   \n",
       "3                                                 NIL             NIL   \n",
       "4                                                 NIL             NIL   \n",
       "5                                                 NIL             NIL   \n",
       "6            https://www.linkedin.com/in/chirag-mehta             NIL   \n",
       "7                                                 NIL             NIL   \n",
       "8                                                 NIL             NIL   \n",
       "9                                                 NIL             NIL   \n",
       "10                                                NIL             NIL   \n",
       "11                                                NIL             NIL   \n",
       "12                                                NIL             NIL   \n",
       "13  https://www.linkedin.com/in/cyrillouis , https...             NIL   \n",
       "14                                                NIL             NIL   \n",
       "15                                                NIL             NIL   \n",
       "16                                                NIL             NIL   \n",
       "17                                                NIL             NIL   \n",
       "18                                                NIL             NIL   \n",
       "19                                                NIL             NIL   \n",
       "20                                                NIL             NIL   \n",
       "21                                                NIL             NIL   \n",
       "22                                                NIL             NIL   \n",
       "23                                                NIL             NIL   \n",
       "\n",
       "         Company Size                            Role  \n",
       "0                 NIL                       Executive  \n",
       "1                 NIL                             NIL  \n",
       "2                 NIL                             NIL  \n",
       "3                 NIL                   Administrator  \n",
       "4    21-100 employees                   Administrator  \n",
       "5                 NIL                      Consultant  \n",
       "6     3501+ employees                       Executive  \n",
       "7                 NIL                       Developer  \n",
       "8                 NIL                       Developer  \n",
       "9                 NIL                        Marketer  \n",
       "10                NIL                       Architect  \n",
       "11    3501+ employees  Sales Representative / Manager  \n",
       "12                NIL                       Executive  \n",
       "13  101-500 employees                       Executive  \n",
       "14                NIL                        Marketer  \n",
       "15                NIL                       Developer  \n",
       "16                NIL                        Marketer  \n",
       "17                NIL                       Executive  \n",
       "18                NIL                    Data Analyst  \n",
       "19                NIL                       Architect  \n",
       "20                NIL                             NIL  \n",
       "21                NIL                             NIL  \n",
       "22                NIL                   Administrator  \n",
       "23  101-500 employees                       Architect  "
      ]
     },
     "execution_count": 590,
     "metadata": {},
     "output_type": "execute_result"
    }
   ],
   "source": [
    "df"
   ]
  },
  {
   "cell_type": "code",
   "execution_count": null,
   "metadata": {},
   "outputs": [],
   "source": []
  }
 ],
 "metadata": {
  "interpreter": {
   "hash": "369f2c481f4da34e4445cda3fffd2e751bd1c4d706f27375911949ba6bb62e1c"
  },
  "kernelspec": {
   "display_name": "Python 3.10.4 64-bit",
   "language": "python",
   "name": "python3"
  },
  "language_info": {
   "codemirror_mode": {
    "name": "ipython",
    "version": 3
   },
   "file_extension": ".py",
   "mimetype": "text/x-python",
   "name": "python",
   "nbconvert_exporter": "python",
   "pygments_lexer": "ipython3",
   "version": "3.10.4"
  },
  "orig_nbformat": 4
 },
 "nbformat": 4,
 "nbformat_minor": 2
}
